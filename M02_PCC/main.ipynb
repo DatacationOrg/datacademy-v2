{
 "cells": [
  {
   "cell_type": "markdown",
   "metadata": {},
   "source": [
    "# Module 2 - Python Crash Course (PCC)\n",
    "This module will get you up to speed with programming in Python. </br>\n",
    "Completion of the exercises in this notebook will enable you to follow the rest of the Datacademy Bootcamp.\n",
    "\n",
    "For now, good luck with the exercises below and above all have fun coding! \n",
    "\n",
    "## Contents\n",
    "* [A. Setup](#a-setup)\n",
    "* [B. Basic Operations](#b-basic-operations)\n",
    "  * [Question B1](#question-b1)\n",
    "  * [Question B2](#question-b2)\n",
    "  * [Question B3](#question-b3)\n",
    "  * [Question B4](#question-b4)\n",
    "  * [Question B5](#question-b5)\n",
    "* [C. Iterations and Functions](#c-iterations-and-functions)\n",
    "  * [Question C1](#question-c1)\n",
    "  * [Question C2](#question-c2)\n",
    "  * [Question C3](#question-c3)\n",
    "  * [Question C4](#question-c4)\n",
    "* [D. Pre-defined Functions](#d-pre-defined-functions)\n",
    "  *  [Question D1](#question-d1)\n",
    "  *  [Question D2](#question-d2)\n",
    "  *  [Question D3](#question-d3)\n",
    "  *  [Question D4](#question-d4)\n",
    "* [E. Import Functions](#e-import-functions)\n",
    "  * [Question E1](#question-e1)\n",
    "  * [Question E2](#question-e2)\n",
    "  * [Question E3](#question-e3)\n",
    "  * [Question E4](#question-e4)\n",
    "  * [Question E5](#question-e5)\n",
    "  * [Question E6](#question-e6)"
   ]
  },
  {
   "cell_type": "markdown",
   "metadata": {},
   "source": [
    "<hr>\n",
    "\n",
    "## A. Setup\n",
    "Normally, when starting a Python project, you will first import all the **libraries** that you need. \n",
    "\n",
    "> Libraries are pre-written code bases that you can then integrate within your own code, which we will discuss and use more in later modules. \n",
    "\n",
    "At Datacation we have already pre-written code that enables you to check your answers and help you access the required resources for your module. Below, we use the `datacademy` library to import `Module02` from the library's module `modules`."
   ]
  },
  {
   "cell_type": "code",
   "execution_count": null,
   "metadata": {},
   "outputs": [],
   "source": [
    "from datacademy.modules import Module02\n",
    "\n",
    "module = Module02()"
   ]
  },
  {
   "cell_type": "markdown",
   "metadata": {},
   "source": [
    "Most of your answers can be checked using the `check()` function from the `model` object that is imported in the first code cell. <br>\n",
    "You do not have to understand the programming behind this, you simply have to insert your answer into the variable related to the question. <br>\n",
    "For example:\n",
    "\n",
    "```python\n",
    "# General format to check an answer\n",
    "module.check('<question>', answer_variable)\n",
    "\n",
    "# Example for question B1 with answer 2.5\n",
    "Q_B1 = 2.5\n",
    "module.check('B1', Q_B1)\n",
    "```\n",
    "\n",
    "We decided to give you direct feedback, as we suspect this to be the best way to make your first steps into programming with Python. <br>\n",
    "Later modules may only test code after completing all exercises, as in this way more complicated tests can be executed.\n",
    "\n",
    "We already pre-written the call for a check, so after inserting your answer you simply run the cell. <br>\n",
    "This can be done by either clicking the play button on the left or pressing `shift + enter`.\n",
    "\n",
    "> Do not forget to also **run the cell above**, otherwise the checks won't work!\n"
   ]
  },
  {
   "cell_type": "markdown",
   "metadata": {},
   "source": [
    "[Back to top](#module-2---python-crash-course-pcc)\n",
    "\n",
    "<hr>\n",
    "\n",
    "## B. Basic operations\n",
    "The basic operations will test your knowledge of Terms, Comparators and Execution. <br>\n",
    "These operations form the basis of most Python code, so it is a good place to start! <br>\n",
    "The subcategories of operations comprising this chapter are:\n",
    "\n",
    "* **Terms** - Variables, expressions and types.\n",
    "* **Comparators** - Comparators, and boolean expressions.\n",
    "* **Execution** - Sequencing of statements.\n",
    "\n",
    "If you carefully read through the <b>theoretical part</b>, you will complete the following exercises without any problems. <br>\n",
    "Otherwise, if you get stuck on certain parts, feel free to look back at the theory in Easy-LMS."
   ]
  },
  {
   "cell_type": "markdown",
   "metadata": {},
   "source": [
    "### Question B1\n",
    "Find the length of a Boeing 747-100 in meters.\n",
    "\n",
    "> **Tip** - In all exercises, replace the `...` by your own code."
   ]
  },
  {
   "cell_type": "code",
   "execution_count": null,
   "metadata": {},
   "outputs": [],
   "source": [
    "Q_B1 = ...\n",
    "\n",
    "module.check(\"B1\", Q_B1)"
   ]
  },
  {
   "cell_type": "markdown",
   "metadata": {},
   "source": [
    "### Question B2\n",
    "Find the height of an iPhone 12 in millimeters."
   ]
  },
  {
   "cell_type": "code",
   "execution_count": null,
   "metadata": {},
   "outputs": [],
   "source": [
    "Q_B2 = ...\n",
    "\n",
    "module.check(\"B2\", Q_B2)"
   ]
  },
  {
   "cell_type": "markdown",
   "metadata": {},
   "source": [
    "### Question B3\n",
    "Retrieve the boolean using the comparator whether the length of the Boeing 747-100 is greater than the height of 480 times the height of an iPhone 12.\n",
    "\n",
    "> **Tip** - Use the variables defined in question B1 and B2 to find the answers for questions B3, B4 and B5."
   ]
  },
  {
   "cell_type": "code",
   "execution_count": null,
   "metadata": {},
   "outputs": [],
   "source": [
    "Q_B3 = ...\n",
    "\n",
    "module.check(\"B3\", Q_B3)"
   ]
  },
  {
   "cell_type": "markdown",
   "metadata": {},
   "source": [
    "### Question B4\n",
    "Retrieve the boolean using the comparator whether the height of an iPhone 11 (150.9 mm) is not equal to the height of the iPhone 12."
   ]
  },
  {
   "cell_type": "code",
   "execution_count": null,
   "metadata": {},
   "outputs": [],
   "source": [
    "Q_B4 = ...\n",
    "\n",
    "module.check(\"B4\", Q_B4)"
   ]
  },
  {
   "cell_type": "markdown",
   "metadata": {},
   "source": [
    "### Question B5\n",
    "Create an IF statement that sets `Q_B5` to `\"Yes\"` if the height of 500 Iphone 12's fit in the length of a boeing 747-100, else set `Q_B5` to `\"No\"`"
   ]
  },
  {
   "cell_type": "code",
   "execution_count": null,
   "metadata": {},
   "outputs": [],
   "source": [
    "if ...:\n",
    "    Q_B5 = ...\n",
    "else:\n",
    "    Q_B5 = ...\n",
    "\n",
    "module.check(\"B5\", Q_B5)"
   ]
  },
  {
   "cell_type": "markdown",
   "metadata": {},
   "source": [
    "[Back to top](#module-2---python-crash-course-pcc)\n",
    "\n",
    "<hr>\n",
    "\n",
    "## C. Iterations and Functions.\n",
    "\n",
    "The power of programming lies in automation of time-consuming, strenuous tasks. <br>\n",
    "To do this iterations and functions are used, often forming the backbone of the code you will create. <br>\n",
    "The topics discussed in this chapter are listed below:\n",
    "\n",
    "* **Iteration** - Usage of either a `while` loop or a `for` loop. \n",
    "* **Function** - Organized, reusable code with or without a `return` statement.\n",
    "\n",
    "An iterator in Python is simply put an object that can be repeatedly run for a set number of times. <br>\n",
    "The number of executions can either be defined in a sequence, as is done in a `for` Loop, or based on a condition, as is done for a `while` Loop. <br>\n",
    "A function, on the other hand, is a block of code which only runs when it is called. <br>\n",
    "It is possible to pass data into a function, known as parameters, and the function can return values using a `return` statement.\n",
    "\n",
    "The following exercises will help you gain some hands-on experience in creating iterations and functions, first separately but then also combined. <br>\n",
    "We will build upon the knowledge gained about the <b>basic operations</b>, which you gained in the previous chapter."
   ]
  },
  {
   "cell_type": "markdown",
   "metadata": {},
   "source": [
    "### Question C1\n",
    "Create a program that prints every number up to and including 33 that can be devided by 3 using a while loop.\n",
    "\n",
    "> **Tip** - Rember the modulus `%` operator"
   ]
  },
  {
   "cell_type": "code",
   "execution_count": null,
   "metadata": {},
   "outputs": [],
   "source": [
    "# Starting variables number and Q_C1 are fixed\n",
    "number = 1\n",
    "Q_C1 = []\n",
    "\n",
    "while ...:\n",
    "\n",
    "    ...\n",
    "\n",
    "    # DO NOT REMOVE THIS LINE OF CODE\n",
    "    Q_C1.append(number)\n",
    "\n",
    "module.check(\"C1\", Q_C1)"
   ]
  },
  {
   "cell_type": "markdown",
   "metadata": {},
   "source": [
    "### Question C2\n",
    "The temperature in Fahrenheit equals the temperature in `Celsius * 1.8 + 32`. Print the temperatures in Celsius from -5 to 45 (inclusive) in steps of 5 degrees and the corresponding temperatures in Fahrenheit.\n",
    "\n",
    "> **Tip** - Remember the `range()` function.\n",
    "\n",
    "> **Tip** - You can print multiple variables by seperating them with a comma, e.g.: `print(var1, var2)`."
   ]
  },
  {
   "cell_type": "code",
   "execution_count": null,
   "metadata": {},
   "outputs": [],
   "source": [
    "# Starting variable Q_C2 is fixed (DO NOT REMOVE OR MODIFY THEM)\n",
    "Q_C2 = []\n",
    "\n",
    "for ... in ...:\n",
    "    ...\n",
    "\n",
    "    print(celsius, fahrenheit)\n",
    "\n",
    "    # DO NOT REMOVE THIS LINE OF CODE\n",
    "    Q_C2.append([celsius, fahrenheit])\n",
    "\n",
    "module.check(\"C2\", Q_C2)"
   ]
  },
  {
   "cell_type": "markdown",
   "metadata": {},
   "source": [
    "### Question C3\n",
    "Given `a = 10` and `i = 5`, print `a` as long as `i` is less or equal to `a`. And after each iteration we decrease the value of `a` by `1`. This to stop the while loop from executing infinite times because `i` will always remain smaller than `a`."
   ]
  },
  {
   "cell_type": "code",
   "execution_count": null,
   "metadata": {},
   "outputs": [],
   "source": [
    "def while_function(a, i):\n",
    "    values = []\n",
    "\n",
    "    while ...:\n",
    "        ...\n",
    "\n",
    "        # DO NOT REMOVE THE LINES OF CODE BELOW\n",
    "        values.append(a)\n",
    "\n",
    "    return values\n",
    "\n",
    "\n",
    "Q_C3 = while_function(10, 5)\n",
    "\n",
    "module.check(\"C3\", Q_C3)"
   ]
  },
  {
   "cell_type": "markdown",
   "metadata": {},
   "source": [
    "### Question C4\n",
    "Given `lst = [5, 10, 20]`, create a function that prints each value multiplied by `1.5`."
   ]
  },
  {
   "cell_type": "code",
   "execution_count": null,
   "metadata": {},
   "outputs": [],
   "source": [
    "def list_function(lst):\n",
    "    values = []\n",
    "\n",
    "    for ... in ...:\n",
    "        ...\n",
    "\n",
    "        # DO NOT REMOVE THE LINES OF CODE BELOW\n",
    "        values.append(multiplied_value)\n",
    "\n",
    "    return values\n",
    "\n",
    "\n",
    "Q_C4 = list_function([5, 10, 20])\n",
    "\n",
    "module.check(\"C4\", Q_C4)"
   ]
  },
  {
   "cell_type": "markdown",
   "metadata": {},
   "source": [
    "[Back to top](#module-2---python-crash-course-pcc)\n",
    "\n",
    "<hr>\n",
    "\n",
    "## D. Pre-defined Functions.\n",
    "Here, we're are working with all different kinds of pre-defined methods in Python for strings, lists, and dictionaries. <br>\n",
    "The discussed methods are listed below:\n",
    "* **String methods** - slicing, replacing, splitting, and endswith.\n",
    "* **List methods** - appending and removing.\n",
    "* **Dictionary methods** - keys, values, and slicing.\n",
    "\n",
    "All string methods returns new values. They do not change the original string. <br>\n",
    "Python does not have built-in support for Arrays, but Python Lists can be used instead. <br>\n",
    "Dictionary is a collection which is ordered, changeable and do not allow duplicates.\n",
    "\n",
    "In these exercises you're going to use all the methods together with your previously learned skills. <br>\n",
    "We're are also going to use type annotations to make it more obvious what to put into the \n",
    "function (variable type) and what we expect to be the output (returning type) of your function: <br>\n",
    "\n",
    "```python\n",
    "# Function definition without type annotation\n",
    "def words_endswith(str2):\n",
    "    ...\n",
    "\n",
    "# Function definition with type annotation\n",
    "# Expects str2 to be str (a string) and the output to be int (an integer)\n",
    "def words_endswith(str2: str) -> int:\n",
    "    ...\n",
    "```"
   ]
  },
  {
   "cell_type": "markdown",
   "metadata": {},
   "source": [
    "### Question D1\n",
    "Write a Python function called `string_change_char(str1)` to get a string from a given string where all occurrences of its first char have been changed to `'&'`, except the first char itself."
   ]
  },
  {
   "cell_type": "code",
   "execution_count": null,
   "metadata": {},
   "outputs": [],
   "source": [
    "def string_change_char(str1: str) -> str:\n",
    "    ...\n",
    "\n",
    "    return ...\n",
    "\n",
    "\n",
    "module.check(\"D1\", [string_change_char(\"t\"), string_change_char(\"testnet\")])"
   ]
  },
  {
   "cell_type": "markdown",
   "metadata": {},
   "source": [
    "### Question D2\n",
    "Write a Python function called `words_endswith(str2)` to get the number of times a word in the string ends with an `'s'`."
   ]
  },
  {
   "cell_type": "code",
   "execution_count": null,
   "metadata": {},
   "outputs": [],
   "source": [
    "def words_endswith(str2: str) -> int:\n",
    "    ...\n",
    "\n",
    "    return ...\n",
    "\n",
    "\n",
    "module.check(\"D2\", [words_endswith(\"This is the string!\"), words_endswith(\"Nothing ending with that letter.\")])"
   ]
  },
  {
   "cell_type": "markdown",
   "metadata": {},
   "source": [
    "### Question D3\n",
    "Write a Python function `remove_dups(ls)` that removes duplicates from a list. It should not change the order of the list."
   ]
  },
  {
   "cell_type": "code",
   "execution_count": null,
   "metadata": {},
   "outputs": [],
   "source": [
    "def remove_dups(ls: list) -> list:\n",
    "    ...\n",
    "\n",
    "    return ...\n",
    "\n",
    "\n",
    "module.check(\"D3\", remove_dups([10, 20, 30, 20, 10, 50, 60, 40, 80, 50, 40]))"
   ]
  },
  {
   "cell_type": "markdown",
   "metadata": {},
   "source": [
    "### Question D4\n",
    "Write a Python function `powers(n)` that generates a dictionary whereby the keys are a number `i` (between 1 and n) and the respective values are `i^3` (i.e. the dictionary entries are of the form `i: i^3`)\n",
    "\n",
    "> **Tip** - The key of a dictionary doesn't have to be a string value, it can also be an integer value."
   ]
  },
  {
   "cell_type": "code",
   "execution_count": null,
   "metadata": {},
   "outputs": [],
   "source": [
    "def powers(n: int) -> dict:\n",
    "    ...\n",
    "\n",
    "    return ...\n",
    "\n",
    "\n",
    "module.check(\"D4\", powers(5))"
   ]
  },
  {
   "cell_type": "markdown",
   "metadata": {},
   "source": [
    "[Back to top](#module-2---python-crash-course-pcc)\n",
    "\n",
    "<hr>\n",
    "\n",
    "## E. Import Functions\n",
    "The libraries we're going to use are not standard in your Python toolbox. These functions need to be imported. <br>\n",
    "There are many importable Python libraries including NumPy, Pandas, and Matplotlib. <br>\n",
    "In the course, we've discussed these import libraries. Here, you need to use some of the operators:\n",
    "\n",
    "* **NumPy** - creating, slicing, and modificating.\n",
    "* **Pandas** - creating, slicing, renaming, and dropping.\n",
    "* **Matplotlib** - scatter, limit, titles, legend.\n",
    "\n",
    "First, lets import these libraries."
   ]
  },
  {
   "cell_type": "code",
   "execution_count": null,
   "metadata": {},
   "outputs": [],
   "source": [
    "import numpy as np\n",
    "import pandas as pd\n",
    "import matplotlib.pyplot as plt"
   ]
  },
  {
   "cell_type": "markdown",
   "metadata": {},
   "source": [
    "### Question E1\n",
    "Create a numpy array called ages having the structure and content of the following table:\n",
    "\n",
    "&emsp; &emsp; &emsp; 7 &emsp; 3 &emsp; 2 <br>\n",
    "&emsp; &emsp; &emsp; 8 &emsp; 5 &emsp; 2 <br>\n",
    "&emsp; &emsp; &emsp; 1 &emsp; 9 &emsp; 12 <br>"
   ]
  },
  {
   "cell_type": "code",
   "execution_count": null,
   "metadata": {},
   "outputs": [],
   "source": [
    "ages = ...\n",
    "\n",
    "module.check(\"E1\", ages)"
   ]
  },
  {
   "cell_type": "markdown",
   "metadata": {},
   "source": [
    "### Question E2\n",
    "Find the highest age in the second column."
   ]
  },
  {
   "cell_type": "code",
   "execution_count": null,
   "metadata": {},
   "outputs": [],
   "source": [
    "# 2a) Select second column\n",
    "second_column = ...\n",
    "\n",
    "# 2b) Find highest age\n",
    "maximum_age = ...\n",
    "\n",
    "module.check(\"E2\", maximum_age)"
   ]
  },
  {
   "cell_type": "markdown",
   "metadata": {},
   "source": [
    "### Question E3\n",
    "A year later everyone is a year older: add `1` to all values and print the result."
   ]
  },
  {
   "cell_type": "code",
   "execution_count": null,
   "metadata": {},
   "outputs": [],
   "source": [
    "# 3) Increment by 1\n",
    "new_ages = ...\n",
    "\n",
    "module.check(\"E3\", new_ages)"
   ]
  },
  {
   "cell_type": "markdown",
   "metadata": {},
   "source": [
    "### Load the dataset for next questions\n",
    "Below we store some data into a DataFrame for you. The DataFrame is can be accessed using the variable <code>df</code>. "
   ]
  },
  {
   "cell_type": "code",
   "execution_count": null,
   "metadata": {},
   "outputs": [],
   "source": [
    "# EXECUTE BUT DO NOT EDIT THIS CELL\n",
    "# Load the data into a DataFrame\n",
    "\n",
    "X, Y, df = module.load_dataset()\n",
    "\n",
    "# Show the first 10 rows\n",
    "df.head(10)"
   ]
  },
  {
   "cell_type": "markdown",
   "metadata": {},
   "source": [
    "### Question E4\n",
    "\n",
    "Create a new variable called df_157 with a DataFrame with only the columns `['column_1', 'column_5','column_7']`."
   ]
  },
  {
   "cell_type": "code",
   "execution_count": null,
   "metadata": {},
   "outputs": [],
   "source": [
    "df_157: pd.DataFrame = ...\n",
    "\n",
    "# Check (only uses first 10 rows)\n",
    "module.check(\"E4\", df_157.head(10))"
   ]
  },
  {
   "cell_type": "markdown",
   "metadata": {},
   "source": [
    "### Question E5\n",
    "Create a new variable called `df_12` from `df_157` where you rename `column_5` to `column_2` and remove `column_7` from the DataFrame."
   ]
  },
  {
   "cell_type": "code",
   "execution_count": null,
   "metadata": {},
   "outputs": [],
   "source": [
    "# Rename the column\n",
    "df_12: pd.DataFrame = ...\n",
    "\n",
    "# Remove the column\n",
    "df_12 = ...\n",
    "\n",
    "# Check (only uses first 10 rows)\n",
    "module.check(\"E5\", df_12.head(10))"
   ]
  },
  {
   "cell_type": "markdown",
   "metadata": {},
   "source": [
    "### Question E6\n",
    "Plot each column as a [scatter plot](https://matplotlib.org/stable/api/_as_gen/matplotlib.pyplot.scatter.html) in one plot, so `y1 = column_1` and `y2 = column_2`. The x-values for both the plots can be accessed using `X`. Extra additions to your plot should be: \n",
    "\n",
    "* Adjust the range of y axis to -0.25 to 0.25, plot the column_1 as a green dots\n",
    "* Add a legend on the upper right corner for each line (column_2 for red dots and column_1 for green dots)\n",
    "* Give each axis a title called 'x-axis' and 'y-axis'\n",
    "* Finish your plot with a title 'My first plot of column 1 and 2'.\n",
    "\n",
    "> **Tip** - Try replacing `plt.plot` by `plt.scatter`. And make sure you select a Pandas series for the y-values."
   ]
  },
  {
   "cell_type": "code",
   "execution_count": null,
   "metadata": {},
   "outputs": [],
   "source": [
    "# Plotting\n",
    "# Target data is stored in Y\n",
    "\n",
    "..."
   ]
  },
  {
   "cell_type": "code",
   "execution_count": null,
   "metadata": {},
   "outputs": [],
   "source": [
    "# To check: The plot of E6 should look something like this (uncomment this code)\n",
    "module.display_e6_graph(Y, df)"
   ]
  },
  {
   "cell_type": "markdown",
   "metadata": {},
   "source": [
    "[Back to top](#module-2---python-crash-course-pcc)\n",
    "\n",
    "<hr>\n",
    "\n",
    "## Congratulations!\n",
    "\n",
    "You completed all modules and tackled the basics of Python! <br> \n",
    "\n",
    "Throughout the Notebook you received immediate feedback on your code, which allowed you to evaluate your own skills. <br>\n",
    "There are still some slides left, so go quickly back and finish the course!"
   ]
  }
 ],
 "metadata": {
  "kernelspec": {
   "display_name": "Python 3",
   "language": "python",
   "name": "python3"
  },
  "language_info": {
   "codemirror_mode": {
    "name": "ipython",
    "version": 3
   },
   "file_extension": ".py",
   "mimetype": "text/x-python",
   "name": "python",
   "nbconvert_exporter": "python",
   "pygments_lexer": "ipython3",
   "version": "3.11.5"
  },
  "orig_nbformat": 4,
  "vscode": {
   "interpreter": {
    "hash": "e01e7986e68b333fe809ea651447c5e875e888263704d380ff78c5e0510cf1f6"
   }
  }
 },
 "nbformat": 4,
 "nbformat_minor": 2
}
