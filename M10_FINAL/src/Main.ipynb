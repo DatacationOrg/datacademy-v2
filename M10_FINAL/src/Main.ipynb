{
 "cells": [
  {
   "cell_type": "markdown",
   "metadata": {},
   "source": [
    "# Final Assignment: Datacademy - Auction data\n",
    "You will be working with a real-world data set, that is collected by a `digital auction house`. <br>\n",
    "As a data professional, your task is to use this data to improve the process of the auction house. <br>\n",
    "The data consist of three related tables: `auctions`, `lots` and `bids`. <br>\n",
    "Auctions concern the actual events at which lots (items) are auctioned, after which the bids table contains all bids placed. <br>\n",
    "A more detailed overview of what these tables are comprised of is given below:\n",
    "\n",
    "1. Table `auctions` with columns:\n",
    "   * `id`: the auction id, uniquely identifying an auction (`int`).\n",
    "   * `relatedCompany`: the concerning company for which the items will be auctioned (`str`).\n",
    "   * `auctionStart`: the date and time at which the auction started (`datetime.date`).\n",
    "   * `auctionEnd`: the date and time at which the auction ended (`datetime.date`).\n",
    "   * `branchCategory`: the branch to which the product to be auctioned are categorized (`str`).\n",
    "2. Table `lots` with columns:\n",
    "   * `countryCode`: description of the country the lot is auctioned in (`str`).\n",
    "   * `saleDate`: the date and time at which the lot is sold (`datetime.date`).\n",
    "   * `auctionID`: the id reference of the auction at which the lot is offered (`int`).\n",
    "   * `lotNr`: the numeric indicator of the lot within its auction (`int`). \n",
    "   * `suffix`: additional information to the lot number (`str`).\n",
    "   * `numberOfItems`: the number of items offered within the lot (`float`).\n",
    "   * `buyerAccountID`: the id of the bidder who won the auction and bought the lot (`float`).\n",
    "   * `estimatedValue`: the estimated value of the items comprising the lot (`float`).\n",
    "   * `StartingBid`: the initial price for which the lot is offered (`float`).\n",
    "   * `reserveBid`: the minimum amount that the seller will accept as the winning bid (`int`).\n",
    "   * `currentBid`: the actual bid offered for the auctioned lot (`float`).\n",
    "   * `vat`: the percentage tax payed for the auctioned lot (`int`).\n",
    "   * `category`: the category of products to which this lot is assigned (`str`).\n",
    "   * `sold`: indicator whether the lot is sold or is left unsold (`int`).\n",
    "3. Table `bids` with columns:\n",
    "   * `auctionID`: the id reference of the auction at which the lot is offered (`int`).\n",
    "   * `lotNr`: the numeric indicator of the lot in which the bid is made (`int`).\n",
    "   * `lotID`: reference ID describing the lot in which the bid is made (`int`).\n",
    "   * `isCombination`: indicator if the bid is considered within a combination of bids (`int`).\n",
    "   * `accountID`: the id of the bidder who placed the bid (`int`).\n",
    "   * `isCompany`: indicator whether the bidder concerns a company (`int`).\n",
    "   * `bidPrice`: the price the bidder offered (`int`).\n",
    "   * `biddingDateTime`: the time the bid was placed by the bidder (`datetime.date`).\n",
    "   * `closingDateTime`: the time the lot is planned to close(`datetime.date`).\n",
    "\n",
    "Good luck!"
   ]
  },
  {
   "attachments": {},
   "cell_type": "markdown",
   "metadata": {},
   "source": [
    "<hr>\n",
    "\n",
    "## A. Import libraries\n",
    "\n",
    "Installation of all Python libraries is done using `poetry`, when we created the `environment` in the setup. <br>\n",
    "Below all libraries are imported and are given the correct `aliasses`, which are often used in practice. <br>\n",
    "You simply have the run the code cell and you can start creating! "
   ]
  },
  {
   "cell_type": "code",
   "execution_count": 3,
   "metadata": {},
   "outputs": [],
   "source": [
    "import os\n",
    "import numpy as np\n",
    "import pandas as pd\n",
    "import matplotlib.pyplot as plt\n",
    "from tqdm import tqdm\n",
    "import sqlite3\n",
    "import joblib\n",
    "\n",
    "from collections import Counter\n",
    "\n",
    "from sklearn.model_selection import train_test_split\n",
    "from sklearn.preprocessing import MinMaxScaler, OneHotEncoder\n",
    "from sklearn.cluster import KMeans\n",
    "from sklearn.linear_model import LogisticRegression\n",
    "from sklearn.ensemble import RandomForestClassifier\n",
    "from sklearn.metrics import accuracy_score, confusion_matrix, ConfusionMatrixDisplay\n",
    "from sklearn.pipeline import make_pipeline, Pipeline\n",
    "from sklearn.compose import make_column_transformer\n",
    "\n",
    "modulePath = \"/Modules/M10_FINAL/src\"\n",
    "dataPath = \"data\""
   ]
  },
  {
   "cell_type": "code",
   "execution_count": 4,
   "metadata": {},
   "outputs": [],
   "source": [
    "from datacademy.modules import Module10\n",
    "\n",
    "#module = Module10(server_address='https://devdatacademyapi.azurewebsites.net')\n",
    "module = Module10(server_address='localhost')"
   ]
  },
  {
   "cell_type": "markdown",
   "metadata": {},
   "source": [
    "<hr>\n",
    "\n",
    "## B. Descriptive Analytics\n",
    "All Data Science projects start by getting a clear understanding of the data. <br>\n",
    "This section will guide you through the steps to execute descriptive analytics and familiarize yourself with the available data. <br>\n",
    "We set out some logical steps that would normally be included in such an initial data review. <br>\n",
    "These steps utilize basic Python (/Pandas) functions, used to do the follow:\n",
    "\n",
    "* `Read the data` - Read the data from the given data source.\n",
    "* `Quick view` - Look at the first x rows of the data set.\n",
    "* `Missing values` - Investigate the amount of missing values.\n",
    "* `Outliers` - Review the numerical ranges in the data set.\n",
    "* `Analyze categories` - Investigate the distribution over the available categories.\n",
    "\n",
    "Execution of these steps will give you a basic understanding of your data. <br>\n",
    "Basic understanding is sufficient for now, the rest will come when you start building and training your models."
   ]
  },
  {
   "cell_type": "markdown",
   "metadata": {},
   "source": [
    "### B1. Read the data\n",
    "As you will be working with larger data sets, we share them in a more suitable way. <br>\n",
    "`Parquet` is a data format designed to handle large amounts of data. <br>\n",
    "Reading them can be done in a similar way as we did with `CSV` files in the past. <br>\n",
    "However, now we use the command <code>pd.read_parquet()</code> and the file extension <code>.parquet</code>."
   ]
  },
  {
   "cell_type": "code",
   "execution_count": 5,
   "metadata": {},
   "outputs": [],
   "source": [
    "#TODO: Read the auctions, lots and bids using the dataPath\n",
    "auctions = pd.read_parquet(dataPath+\"/auctions.parquet\")\n",
    "lots = pd.read_parquet(dataPath+\"/lots.parquet\")\n",
    "bids = pd.read_parquet(dataPath+\"/bids.parquet\")"
   ]
  },
  {
   "cell_type": "markdown",
   "metadata": {},
   "source": [
    "### B2. Quick view\n",
    "To start we quickly review the first rows of the different data frames. <br>\n",
    "In doing so, we get a feeling for the structure of the data frame and the actual content that is in there. <br>\n",
    "The `.head()` function returns by default the first 5 rows. <br>\n",
    "If, for example, you want to retrieve the first 10 rows, you can use it as follows `.head(n=10)`."
   ]
  },
  {
   "cell_type": "code",
   "execution_count": 6,
   "metadata": {},
   "outputs": [
    {
     "data": {
      "text/html": [
       "<div>\n",
       "<style scoped>\n",
       "    .dataframe tbody tr th:only-of-type {\n",
       "        vertical-align: middle;\n",
       "    }\n",
       "\n",
       "    .dataframe tbody tr th {\n",
       "        vertical-align: top;\n",
       "    }\n",
       "\n",
       "    .dataframe thead th {\n",
       "        text-align: right;\n",
       "    }\n",
       "</style>\n",
       "<table border=\"1\" class=\"dataframe\">\n",
       "  <thead>\n",
       "    <tr style=\"text-align: right;\">\n",
       "      <th></th>\n",
       "      <th>id</th>\n",
       "      <th>relatedCompany</th>\n",
       "      <th>auctionStart</th>\n",
       "      <th>auctionEnd</th>\n",
       "      <th>branchCategory</th>\n",
       "    </tr>\n",
       "  </thead>\n",
       "  <tbody>\n",
       "    <tr>\n",
       "      <th>0</th>\n",
       "      <td>200001</td>\n",
       "      <td>Solutions Electronic Advanced</td>\n",
       "      <td>2017-12-22 16:32:01</td>\n",
       "      <td>2018-01-10 15:02:01</td>\n",
       "      <td>transport</td>\n",
       "    </tr>\n",
       "    <tr>\n",
       "      <th>1</th>\n",
       "      <td>200002</td>\n",
       "      <td>Design Systems Source</td>\n",
       "      <td>2017-09-20 13:50:04</td>\n",
       "      <td>2018-01-10 13:10:04</td>\n",
       "      <td>metal</td>\n",
       "    </tr>\n",
       "    <tr>\n",
       "      <th>2</th>\n",
       "      <td>200003</td>\n",
       "      <td>Electronic Design Internet</td>\n",
       "      <td>2018-02-01 14:09:22</td>\n",
       "      <td>2018-01-10 13:09:22</td>\n",
       "      <td>woodworking</td>\n",
       "    </tr>\n",
       "    <tr>\n",
       "      <th>3</th>\n",
       "      <td>200136</td>\n",
       "      <td>Contract Graphics Adventure</td>\n",
       "      <td>2018-05-23 16:11:20</td>\n",
       "      <td>2018-06-01 10:11:20</td>\n",
       "      <td>construction</td>\n",
       "    </tr>\n",
       "    <tr>\n",
       "      <th>4</th>\n",
       "      <td>200139</td>\n",
       "      <td>Alpha Virtual</td>\n",
       "      <td>2018-02-05 12:50:01</td>\n",
       "      <td>2018-02-09 12:30:01</td>\n",
       "      <td>construction</td>\n",
       "    </tr>\n",
       "    <tr>\n",
       "      <th>5</th>\n",
       "      <td>200006</td>\n",
       "      <td>Design Vision Inc</td>\n",
       "      <td>2018-01-08 08:26:09</td>\n",
       "      <td>2018-01-16 14:56:09</td>\n",
       "      <td>other</td>\n",
       "    </tr>\n",
       "    <tr>\n",
       "      <th>6</th>\n",
       "      <td>200007</td>\n",
       "      <td>Hardware West Organization</td>\n",
       "      <td>2017-11-23 09:27:00</td>\n",
       "      <td>2018-01-30 13:27:00</td>\n",
       "      <td>other</td>\n",
       "    </tr>\n",
       "    <tr>\n",
       "      <th>7</th>\n",
       "      <td>200008</td>\n",
       "      <td>Telecom Adventure Power Limited</td>\n",
       "      <td>2017-11-23 09:29:22</td>\n",
       "      <td>2018-01-30 13:29:22</td>\n",
       "      <td>other</td>\n",
       "    </tr>\n",
       "    <tr>\n",
       "      <th>8</th>\n",
       "      <td>200009</td>\n",
       "      <td>South Adventure Contract</td>\n",
       "      <td>2017-10-27 22:01:30</td>\n",
       "      <td>2018-01-23 15:01:30</td>\n",
       "      <td>real estate</td>\n",
       "    </tr>\n",
       "    <tr>\n",
       "      <th>9</th>\n",
       "      <td>200010</td>\n",
       "      <td>Signal Interactive</td>\n",
       "      <td>2017-12-15 15:19:30</td>\n",
       "      <td>2018-01-03 19:19:30</td>\n",
       "      <td>construction</td>\n",
       "    </tr>\n",
       "  </tbody>\n",
       "</table>\n",
       "</div>"
      ],
      "text/plain": [
       "       id                   relatedCompany         auctionStart  \\\n",
       "0  200001    Solutions Electronic Advanced  2017-12-22 16:32:01   \n",
       "1  200002            Design Systems Source  2017-09-20 13:50:04   \n",
       "2  200003       Electronic Design Internet  2018-02-01 14:09:22   \n",
       "3  200136      Contract Graphics Adventure  2018-05-23 16:11:20   \n",
       "4  200139                    Alpha Virtual  2018-02-05 12:50:01   \n",
       "5  200006                Design Vision Inc  2018-01-08 08:26:09   \n",
       "6  200007       Hardware West Organization  2017-11-23 09:27:00   \n",
       "7  200008  Telecom Adventure Power Limited  2017-11-23 09:29:22   \n",
       "8  200009         South Adventure Contract  2017-10-27 22:01:30   \n",
       "9  200010               Signal Interactive  2017-12-15 15:19:30   \n",
       "\n",
       "            auctionEnd branchCategory  \n",
       "0  2018-01-10 15:02:01      transport  \n",
       "1  2018-01-10 13:10:04          metal  \n",
       "2  2018-01-10 13:09:22    woodworking  \n",
       "3  2018-06-01 10:11:20   construction  \n",
       "4  2018-02-09 12:30:01   construction  \n",
       "5  2018-01-16 14:56:09          other  \n",
       "6  2018-01-30 13:27:00          other  \n",
       "7  2018-01-30 13:29:22          other  \n",
       "8  2018-01-23 15:01:30    real estate  \n",
       "9  2018-01-03 19:19:30   construction  "
      ]
     },
     "execution_count": 6,
     "metadata": {},
     "output_type": "execute_result"
    }
   ],
   "source": [
    "#TODO: Print and investigate the first 10 rows of the auctions dataframe.\n",
    "auctions.head(n=10)"
   ]
  },
  {
   "cell_type": "code",
   "execution_count": 7,
   "metadata": {},
   "outputs": [
    {
     "data": {
      "text/html": [
       "<div>\n",
       "<style scoped>\n",
       "    .dataframe tbody tr th:only-of-type {\n",
       "        vertical-align: middle;\n",
       "    }\n",
       "\n",
       "    .dataframe tbody tr th {\n",
       "        vertical-align: top;\n",
       "    }\n",
       "\n",
       "    .dataframe thead th {\n",
       "        text-align: right;\n",
       "    }\n",
       "</style>\n",
       "<table border=\"1\" class=\"dataframe\">\n",
       "  <thead>\n",
       "    <tr style=\"text-align: right;\">\n",
       "      <th></th>\n",
       "      <th>countryCode</th>\n",
       "      <th>saleDate</th>\n",
       "      <th>auctionID</th>\n",
       "      <th>lotNr</th>\n",
       "      <th>suffix</th>\n",
       "      <th>numberOfItems</th>\n",
       "      <th>buyerAccountID</th>\n",
       "      <th>estimatedValue</th>\n",
       "      <th>startingBid</th>\n",
       "      <th>reserveBid</th>\n",
       "      <th>currentBid</th>\n",
       "      <th>vat</th>\n",
       "      <th>category</th>\n",
       "      <th>sold</th>\n",
       "    </tr>\n",
       "  </thead>\n",
       "  <tbody>\n",
       "    <tr>\n",
       "      <th>0</th>\n",
       "      <td>Not Available</td>\n",
       "      <td>2018-01-02 14:22:29</td>\n",
       "      <td>200013.0</td>\n",
       "      <td>1.0</td>\n",
       "      <td>Not Available</td>\n",
       "      <td>1.0</td>\n",
       "      <td>99999.0</td>\n",
       "      <td>0.0</td>\n",
       "      <td>10.0</td>\n",
       "      <td>1.0</td>\n",
       "      <td>160.0</td>\n",
       "      <td>21.0</td>\n",
       "      <td>Rolling Material</td>\n",
       "      <td>0.0</td>\n",
       "    </tr>\n",
       "    <tr>\n",
       "      <th>1</th>\n",
       "      <td>Not Available</td>\n",
       "      <td>2018-01-02 14:22:29</td>\n",
       "      <td>200013.0</td>\n",
       "      <td>2.0</td>\n",
       "      <td>Not Available</td>\n",
       "      <td>1.0</td>\n",
       "      <td>3125554.0</td>\n",
       "      <td>0.0</td>\n",
       "      <td>25.0</td>\n",
       "      <td>1.0</td>\n",
       "      <td>25.0</td>\n",
       "      <td>21.0</td>\n",
       "      <td>Rolling Material</td>\n",
       "      <td>1.0</td>\n",
       "    </tr>\n",
       "    <tr>\n",
       "      <th>2</th>\n",
       "      <td>Not Available</td>\n",
       "      <td>2018-01-02 14:22:29</td>\n",
       "      <td>200013.0</td>\n",
       "      <td>3.0</td>\n",
       "      <td>Not Available</td>\n",
       "      <td>1.0</td>\n",
       "      <td>99999.0</td>\n",
       "      <td>0.0</td>\n",
       "      <td>25.0</td>\n",
       "      <td>1.0</td>\n",
       "      <td>25.0</td>\n",
       "      <td>21.0</td>\n",
       "      <td>Rolling Material</td>\n",
       "      <td>0.0</td>\n",
       "    </tr>\n",
       "    <tr>\n",
       "      <th>3</th>\n",
       "      <td>Not Available</td>\n",
       "      <td>2018-01-02 14:22:29</td>\n",
       "      <td>200013.0</td>\n",
       "      <td>4.0</td>\n",
       "      <td>Not Available</td>\n",
       "      <td>1.0</td>\n",
       "      <td>99999.0</td>\n",
       "      <td>0.0</td>\n",
       "      <td>25.0</td>\n",
       "      <td>1.0</td>\n",
       "      <td>160.0</td>\n",
       "      <td>21.0</td>\n",
       "      <td>Rolling Material</td>\n",
       "      <td>0.0</td>\n",
       "    </tr>\n",
       "    <tr>\n",
       "      <th>4</th>\n",
       "      <td>Not Available</td>\n",
       "      <td>2018-01-02 14:22:29</td>\n",
       "      <td>200013.0</td>\n",
       "      <td>5.0</td>\n",
       "      <td>Not Available</td>\n",
       "      <td>66.0</td>\n",
       "      <td>99999.0</td>\n",
       "      <td>0.0</td>\n",
       "      <td>10.0</td>\n",
       "      <td>1.0</td>\n",
       "      <td>55.0</td>\n",
       "      <td>21.0</td>\n",
       "      <td>Furniture and Accessories</td>\n",
       "      <td>0.0</td>\n",
       "    </tr>\n",
       "  </tbody>\n",
       "</table>\n",
       "</div>"
      ],
      "text/plain": [
       "     countryCode             saleDate  auctionID  lotNr         suffix  \\\n",
       "0  Not Available  2018-01-02 14:22:29   200013.0    1.0  Not Available   \n",
       "1  Not Available  2018-01-02 14:22:29   200013.0    2.0  Not Available   \n",
       "2  Not Available  2018-01-02 14:22:29   200013.0    3.0  Not Available   \n",
       "3  Not Available  2018-01-02 14:22:29   200013.0    4.0  Not Available   \n",
       "4  Not Available  2018-01-02 14:22:29   200013.0    5.0  Not Available   \n",
       "\n",
       "   numberOfItems  buyerAccountID  estimatedValue  startingBid  reserveBid  \\\n",
       "0            1.0         99999.0             0.0         10.0         1.0   \n",
       "1            1.0       3125554.0             0.0         25.0         1.0   \n",
       "2            1.0         99999.0             0.0         25.0         1.0   \n",
       "3            1.0         99999.0             0.0         25.0         1.0   \n",
       "4           66.0         99999.0             0.0         10.0         1.0   \n",
       "\n",
       "   currentBid   vat                   category  sold  \n",
       "0       160.0  21.0           Rolling Material   0.0  \n",
       "1        25.0  21.0           Rolling Material   1.0  \n",
       "2        25.0  21.0           Rolling Material   0.0  \n",
       "3       160.0  21.0           Rolling Material   0.0  \n",
       "4        55.0  21.0  Furniture and Accessories   0.0  "
      ]
     },
     "execution_count": 7,
     "metadata": {},
     "output_type": "execute_result"
    }
   ],
   "source": [
    "#TODO: Print and investigate the first x rows of the lots dataframe.\n",
    "lots.head()"
   ]
  },
  {
   "cell_type": "code",
   "execution_count": 8,
   "metadata": {},
   "outputs": [
    {
     "data": {
      "text/html": [
       "<div>\n",
       "<style scoped>\n",
       "    .dataframe tbody tr th:only-of-type {\n",
       "        vertical-align: middle;\n",
       "    }\n",
       "\n",
       "    .dataframe tbody tr th {\n",
       "        vertical-align: top;\n",
       "    }\n",
       "\n",
       "    .dataframe thead th {\n",
       "        text-align: right;\n",
       "    }\n",
       "</style>\n",
       "<table border=\"1\" class=\"dataframe\">\n",
       "  <thead>\n",
       "    <tr style=\"text-align: right;\">\n",
       "      <th></th>\n",
       "      <th>auctionID</th>\n",
       "      <th>LotNr</th>\n",
       "      <th>bidNr</th>\n",
       "      <th>LotID</th>\n",
       "      <th>IsCombination</th>\n",
       "      <th>AccountID</th>\n",
       "      <th>IsCompany</th>\n",
       "      <th>BidPrice</th>\n",
       "      <th>BiddingDateTime</th>\n",
       "      <th>ClosingDateTime</th>\n",
       "    </tr>\n",
       "  </thead>\n",
       "  <tbody>\n",
       "    <tr>\n",
       "      <th>0</th>\n",
       "      <td>200001</td>\n",
       "      <td>1</td>\n",
       "      <td>1</td>\n",
       "      <td>4705593.0</td>\n",
       "      <td>0</td>\n",
       "      <td>3094282</td>\n",
       "      <td>1</td>\n",
       "      <td>17500.0</td>\n",
       "      <td>2017-12-23 08:52:28</td>\n",
       "      <td>2018-01-10 14:35:00</td>\n",
       "    </tr>\n",
       "    <tr>\n",
       "      <th>1</th>\n",
       "      <td>200001</td>\n",
       "      <td>1</td>\n",
       "      <td>2</td>\n",
       "      <td>4705593.0</td>\n",
       "      <td>0</td>\n",
       "      <td>2930599</td>\n",
       "      <td>1</td>\n",
       "      <td>18000.0</td>\n",
       "      <td>2017-12-30 16:05:36</td>\n",
       "      <td>2018-01-10 14:35:00</td>\n",
       "    </tr>\n",
       "    <tr>\n",
       "      <th>2</th>\n",
       "      <td>200001</td>\n",
       "      <td>1</td>\n",
       "      <td>3</td>\n",
       "      <td>4705593.0</td>\n",
       "      <td>0</td>\n",
       "      <td>2851482</td>\n",
       "      <td>1</td>\n",
       "      <td>18500.0</td>\n",
       "      <td>2017-12-31 16:02:21</td>\n",
       "      <td>2018-01-10 14:35:00</td>\n",
       "    </tr>\n",
       "    <tr>\n",
       "      <th>3</th>\n",
       "      <td>200001</td>\n",
       "      <td>1</td>\n",
       "      <td>4</td>\n",
       "      <td>4705593.0</td>\n",
       "      <td>0</td>\n",
       "      <td>2930599</td>\n",
       "      <td>1</td>\n",
       "      <td>19000.0</td>\n",
       "      <td>2018-01-03 15:52:04</td>\n",
       "      <td>2018-01-10 14:35:00</td>\n",
       "    </tr>\n",
       "    <tr>\n",
       "      <th>4</th>\n",
       "      <td>200001</td>\n",
       "      <td>1</td>\n",
       "      <td>5</td>\n",
       "      <td>4705593.0</td>\n",
       "      <td>0</td>\n",
       "      <td>2851482</td>\n",
       "      <td>1</td>\n",
       "      <td>19500.0</td>\n",
       "      <td>2018-01-03 20:21:57</td>\n",
       "      <td>2018-01-10 14:35:00</td>\n",
       "    </tr>\n",
       "  </tbody>\n",
       "</table>\n",
       "</div>"
      ],
      "text/plain": [
       "   auctionID  LotNr  bidNr      LotID  IsCombination  AccountID  IsCompany  \\\n",
       "0     200001      1      1  4705593.0              0    3094282          1   \n",
       "1     200001      1      2  4705593.0              0    2930599          1   \n",
       "2     200001      1      3  4705593.0              0    2851482          1   \n",
       "3     200001      1      4  4705593.0              0    2930599          1   \n",
       "4     200001      1      5  4705593.0              0    2851482          1   \n",
       "\n",
       "   BidPrice      BiddingDateTime      ClosingDateTime  \n",
       "0   17500.0  2017-12-23 08:52:28  2018-01-10 14:35:00  \n",
       "1   18000.0  2017-12-30 16:05:36  2018-01-10 14:35:00  \n",
       "2   18500.0  2017-12-31 16:02:21  2018-01-10 14:35:00  \n",
       "3   19000.0  2018-01-03 15:52:04  2018-01-10 14:35:00  \n",
       "4   19500.0  2018-01-03 20:21:57  2018-01-10 14:35:00  "
      ]
     },
     "execution_count": 8,
     "metadata": {},
     "output_type": "execute_result"
    }
   ],
   "source": [
    "#TODO: Print and investigate the first x rows of the bids dataframe.\n",
    "bids.head()"
   ]
  },
  {
   "cell_type": "markdown",
   "metadata": {},
   "source": [
    "#### Questions B2\n",
    "* `Q_B2_0` - What is the name of the company with `woodworking` assigned as `branchCategory`, based on the top 10 rows from `auctions` dataframe? <br>\n",
    "* `Q_B2_1` - What is the value for `CurrentBid` of the lot on row index 4, from the `lots` data frame? <br>\n",
    "* `Q_B2_2` - What is the `bidPrice` for the with `AccountID` equal to `3094282` looking at the top 5 rows from the `bids` data frame?"
   ]
  },
  {
   "cell_type": "code",
   "execution_count": 9,
   "metadata": {},
   "outputs": [
    {
     "name": "stdout",
     "output_type": "stream",
     "text": [
      "🟢 That's correct!       \n"
     ]
    },
    {
     "data": {
      "text/plain": [
       "'Electronic Design Internet'"
      ]
     },
     "metadata": {},
     "output_type": "display_data"
    }
   ],
   "source": [
    "# What is the name of the company with woodworking assigned as branchCategory, based on the top 10 rows from auctions daframe?\n",
    "Q_B2_0 = 'Electronic Design Internet' \n",
    "\n",
    "module.check(\"B2_0\", Q_B2_0)"
   ]
  },
  {
   "cell_type": "code",
   "execution_count": 10,
   "metadata": {},
   "outputs": [
    {
     "name": "stdout",
     "output_type": "stream",
     "text": [
      "🟢 That's correct!       \n"
     ]
    },
    {
     "data": {
      "text/plain": [
       "55"
      ]
     },
     "metadata": {},
     "output_type": "display_data"
    }
   ],
   "source": [
    "# What is the value for CurrentBid of the lot on row index 4, from the lots data frame?\n",
    "Q_B2_1 = 55\n",
    "module.check(\"B2_1\", Q_B2_1)"
   ]
  },
  {
   "cell_type": "code",
   "execution_count": 11,
   "metadata": {},
   "outputs": [
    {
     "name": "stdout",
     "output_type": "stream",
     "text": [
      "🟢 That's correct!       \n"
     ]
    },
    {
     "data": {
      "text/plain": [
       "17500.0"
      ]
     },
     "metadata": {},
     "output_type": "display_data"
    }
   ],
   "source": [
    "# What is the bidPrice for the with AccountID equal to 3094282 looking at the top 5 rows from the bids data frame?\n",
    "Q_B2_2 = 17500.0\n",
    "\n",
    "module.check(\"B2_2\", Q_B2_2)"
   ]
  },
  {
   "cell_type": "markdown",
   "metadata": {},
   "source": [
    "### B3. Missing Values\n",
    "Look for missing (<i>null</i>) values in the data using the `.info(show_counts=True)` command on the Pandas Dataframes. <br>\n",
    "Based on the gained insights, answer the questions below."
   ]
  },
  {
   "cell_type": "code",
   "execution_count": 12,
   "metadata": {},
   "outputs": [
    {
     "name": "stdout",
     "output_type": "stream",
     "text": [
      "<class 'pandas.core.frame.DataFrame'>\n",
      "RangeIndex: 1556 entries, 0 to 1555\n",
      "Data columns (total 5 columns):\n",
      " #   Column          Non-Null Count  Dtype \n",
      "---  ------          --------------  ----- \n",
      " 0   id              1556 non-null   int64 \n",
      " 1   relatedCompany  1556 non-null   object\n",
      " 2   auctionStart    1556 non-null   object\n",
      " 3   auctionEnd      1556 non-null   object\n",
      " 4   branchCategory  1556 non-null   object\n",
      "dtypes: int64(1), object(4)\n",
      "memory usage: 60.9+ KB\n"
     ]
    }
   ],
   "source": [
    "#TODO: Print the information of the auctions dataframe\n",
    "auctions.info(show_counts=True) "
   ]
  },
  {
   "cell_type": "code",
   "execution_count": 13,
   "metadata": {},
   "outputs": [
    {
     "name": "stdout",
     "output_type": "stream",
     "text": [
      "<class 'pandas.core.frame.DataFrame'>\n",
      "RangeIndex: 285307 entries, 0 to 285306\n",
      "Data columns (total 14 columns):\n",
      " #   Column          Non-Null Count   Dtype  \n",
      "---  ------          --------------   -----  \n",
      " 0   countryCode     285307 non-null  object \n",
      " 1   saleDate        285307 non-null  object \n",
      " 2   auctionID       285307 non-null  float64\n",
      " 3   lotNr           285307 non-null  float64\n",
      " 4   suffix          285307 non-null  object \n",
      " 5   numberOfItems   285307 non-null  float64\n",
      " 6   buyerAccountID  285307 non-null  float64\n",
      " 7   estimatedValue  285307 non-null  float64\n",
      " 8   startingBid     285307 non-null  float64\n",
      " 9   reserveBid      285307 non-null  float64\n",
      " 10  currentBid      285307 non-null  float64\n",
      " 11  vat             285307 non-null  float64\n",
      " 12  category        284646 non-null  object \n",
      " 13  sold            285307 non-null  float64\n",
      "dtypes: float64(10), object(4)\n",
      "memory usage: 30.5+ MB\n"
     ]
    }
   ],
   "source": [
    "#TODO: Print the information of the lots dataframe\n",
    "lots.info(show_counts=True) "
   ]
  },
  {
   "cell_type": "code",
   "execution_count": 14,
   "metadata": {},
   "outputs": [
    {
     "name": "stdout",
     "output_type": "stream",
     "text": [
      "<class 'pandas.core.frame.DataFrame'>\n",
      "RangeIndex: 3178996 entries, 0 to 3178995\n",
      "Data columns (total 10 columns):\n",
      " #   Column           Non-Null Count    Dtype  \n",
      "---  ------           --------------    -----  \n",
      " 0   auctionID        3178996 non-null  int64  \n",
      " 1   LotNr            3178996 non-null  int64  \n",
      " 2   bidNr            3178996 non-null  int64  \n",
      " 3   LotID            3178996 non-null  float64\n",
      " 4   IsCombination    3178996 non-null  int64  \n",
      " 5   AccountID        3178996 non-null  int64  \n",
      " 6   IsCompany        3178996 non-null  int64  \n",
      " 7   BidPrice         3178996 non-null  float64\n",
      " 8   BiddingDateTime  3178996 non-null  object \n",
      " 9   ClosingDateTime  3178996 non-null  object \n",
      "dtypes: float64(2), int64(6), object(2)\n",
      "memory usage: 242.5+ MB\n"
     ]
    }
   ],
   "source": [
    "#TODO: Print the information of the bids dataframe\n",
    "bids.info(show_counts=True) "
   ]
  },
  {
   "cell_type": "markdown",
   "metadata": {},
   "source": [
    "#### Questions B3\n",
    "* `Q_B3_0` - How many null values does the `auctions` dataframe contain? <br>\n",
    "* `Q_B3_1` - Only the column `numberOfItems` has null values in the `lots` dataframe, `True` or `False`? <br>\n",
    "* `Q_B3_2` - The Bids dataframe has null values in all columns, `True` or `False`? "
   ]
  },
  {
   "cell_type": "code",
   "execution_count": 15,
   "metadata": {},
   "outputs": [
    {
     "name": "stdout",
     "output_type": "stream",
     "text": [
      "🟢 That's correct!       \n"
     ]
    },
    {
     "data": {
      "text/plain": [
       "0"
      ]
     },
     "metadata": {},
     "output_type": "display_data"
    }
   ],
   "source": [
    "Q_B3_0 = 0\n",
    "module.check(\"B3_0\", Q_B3_0)"
   ]
  },
  {
   "cell_type": "code",
   "execution_count": 16,
   "metadata": {},
   "outputs": [
    {
     "name": "stdout",
     "output_type": "stream",
     "text": [
      "🟢 That's correct!       \n"
     ]
    },
    {
     "data": {
      "text/plain": [
       "False"
      ]
     },
     "metadata": {},
     "output_type": "display_data"
    }
   ],
   "source": [
    "Q_B3_1 = False\n",
    "module.check(\"B3_1\", Q_B3_1)"
   ]
  },
  {
   "cell_type": "code",
   "execution_count": 17,
   "metadata": {},
   "outputs": [
    {
     "name": "stdout",
     "output_type": "stream",
     "text": [
      "🟢 That's correct!       \n"
     ]
    },
    {
     "data": {
      "text/plain": [
       "False"
      ]
     },
     "metadata": {},
     "output_type": "display_data"
    }
   ],
   "source": [
    "Q_B3_2 = False\n",
    "module.check(\"B3_2\", Q_B3_2)"
   ]
  },
  {
   "cell_type": "markdown",
   "metadata": {},
   "source": [
    "### B4. Outliers\n",
    "Look for potential `outliers` in the numerical values using the `.describe()` command on the Pandas Dataframes. <br>\n",
    "Based on the gained knowledge from exercising this function, answer the questions below."
   ]
  },
  {
   "cell_type": "code",
   "execution_count": 18,
   "metadata": {},
   "outputs": [
    {
     "data": {
      "text/html": [
       "<div>\n",
       "<style scoped>\n",
       "    .dataframe tbody tr th:only-of-type {\n",
       "        vertical-align: middle;\n",
       "    }\n",
       "\n",
       "    .dataframe tbody tr th {\n",
       "        vertical-align: top;\n",
       "    }\n",
       "\n",
       "    .dataframe thead th {\n",
       "        text-align: right;\n",
       "    }\n",
       "</style>\n",
       "<table border=\"1\" class=\"dataframe\">\n",
       "  <thead>\n",
       "    <tr style=\"text-align: right;\">\n",
       "      <th></th>\n",
       "      <th>id</th>\n",
       "    </tr>\n",
       "  </thead>\n",
       "  <tbody>\n",
       "    <tr>\n",
       "      <th>count</th>\n",
       "      <td>1556.000000</td>\n",
       "    </tr>\n",
       "    <tr>\n",
       "      <th>mean</th>\n",
       "      <td>203384.173522</td>\n",
       "    </tr>\n",
       "    <tr>\n",
       "      <th>std</th>\n",
       "      <td>4409.692815</td>\n",
       "    </tr>\n",
       "    <tr>\n",
       "      <th>min</th>\n",
       "      <td>200001.000000</td>\n",
       "    </tr>\n",
       "    <tr>\n",
       "      <th>25%</th>\n",
       "      <td>200398.750000</td>\n",
       "    </tr>\n",
       "    <tr>\n",
       "      <th>50%</th>\n",
       "      <td>200783.500000</td>\n",
       "    </tr>\n",
       "    <tr>\n",
       "      <th>75%</th>\n",
       "      <td>210066.250000</td>\n",
       "    </tr>\n",
       "    <tr>\n",
       "      <th>max</th>\n",
       "      <td>210455.000000</td>\n",
       "    </tr>\n",
       "  </tbody>\n",
       "</table>\n",
       "</div>"
      ],
      "text/plain": [
       "                  id\n",
       "count    1556.000000\n",
       "mean   203384.173522\n",
       "std      4409.692815\n",
       "min    200001.000000\n",
       "25%    200398.750000\n",
       "50%    200783.500000\n",
       "75%    210066.250000\n",
       "max    210455.000000"
      ]
     },
     "execution_count": 18,
     "metadata": {},
     "output_type": "execute_result"
    }
   ],
   "source": [
    "#TODO: Print the description of the numerical values of the auctions Pandas Dataframe.\n",
    "auctions.describe()"
   ]
  },
  {
   "cell_type": "code",
   "execution_count": 19,
   "metadata": {},
   "outputs": [
    {
     "data": {
      "text/html": [
       "<div>\n",
       "<style scoped>\n",
       "    .dataframe tbody tr th:only-of-type {\n",
       "        vertical-align: middle;\n",
       "    }\n",
       "\n",
       "    .dataframe tbody tr th {\n",
       "        vertical-align: top;\n",
       "    }\n",
       "\n",
       "    .dataframe thead th {\n",
       "        text-align: right;\n",
       "    }\n",
       "</style>\n",
       "<table border=\"1\" class=\"dataframe\">\n",
       "  <thead>\n",
       "    <tr style=\"text-align: right;\">\n",
       "      <th></th>\n",
       "      <th>auctionID</th>\n",
       "      <th>lotNr</th>\n",
       "      <th>numberOfItems</th>\n",
       "      <th>buyerAccountID</th>\n",
       "      <th>estimatedValue</th>\n",
       "      <th>startingBid</th>\n",
       "      <th>reserveBid</th>\n",
       "      <th>currentBid</th>\n",
       "      <th>vat</th>\n",
       "      <th>sold</th>\n",
       "    </tr>\n",
       "  </thead>\n",
       "  <tbody>\n",
       "    <tr>\n",
       "      <th>count</th>\n",
       "      <td>285307.000000</td>\n",
       "      <td>285307.000000</td>\n",
       "      <td>285307.000000</td>\n",
       "      <td>2.853070e+05</td>\n",
       "      <td>2.853070e+05</td>\n",
       "      <td>2.853070e+05</td>\n",
       "      <td>285307.000000</td>\n",
       "      <td>2.853070e+05</td>\n",
       "      <td>285307.000000</td>\n",
       "      <td>285307.000000</td>\n",
       "    </tr>\n",
       "    <tr>\n",
       "      <th>mean</th>\n",
       "      <td>205292.621492</td>\n",
       "      <td>706.946868</td>\n",
       "      <td>15.461037</td>\n",
       "      <td>2.179230e+06</td>\n",
       "      <td>3.951862e+02</td>\n",
       "      <td>1.306506e+02</td>\n",
       "      <td>1.206276</td>\n",
       "      <td>4.045803e+02</td>\n",
       "      <td>19.681168</td>\n",
       "      <td>0.817383</td>\n",
       "    </tr>\n",
       "    <tr>\n",
       "      <th>std</th>\n",
       "      <td>4884.057343</td>\n",
       "      <td>1046.480555</td>\n",
       "      <td>693.356570</td>\n",
       "      <td>1.348148e+06</td>\n",
       "      <td>4.520164e+03</td>\n",
       "      <td>2.878194e+03</td>\n",
       "      <td>35.009842</td>\n",
       "      <td>4.434069e+03</td>\n",
       "      <td>4.928022</td>\n",
       "      <td>0.386353</td>\n",
       "    </tr>\n",
       "    <tr>\n",
       "      <th>min</th>\n",
       "      <td>200001.000000</td>\n",
       "      <td>0.000000</td>\n",
       "      <td>1.000000</td>\n",
       "      <td>9.999900e+04</td>\n",
       "      <td>-1.000000e+00</td>\n",
       "      <td>0.000000e+00</td>\n",
       "      <td>0.000000</td>\n",
       "      <td>-1.508000e+02</td>\n",
       "      <td>0.000000</td>\n",
       "      <td>0.000000</td>\n",
       "    </tr>\n",
       "    <tr>\n",
       "      <th>25%</th>\n",
       "      <td>200420.000000</td>\n",
       "      <td>120.000000</td>\n",
       "      <td>1.000000</td>\n",
       "      <td>9.999900e+04</td>\n",
       "      <td>0.000000e+00</td>\n",
       "      <td>1.000000e+01</td>\n",
       "      <td>1.000000</td>\n",
       "      <td>1.500000e+01</td>\n",
       "      <td>21.000000</td>\n",
       "      <td>1.000000</td>\n",
       "    </tr>\n",
       "    <tr>\n",
       "      <th>50%</th>\n",
       "      <td>201074.000000</td>\n",
       "      <td>308.000000</td>\n",
       "      <td>1.000000</td>\n",
       "      <td>2.943484e+06</td>\n",
       "      <td>2.000000e+01</td>\n",
       "      <td>1.000000e+01</td>\n",
       "      <td>1.000000</td>\n",
       "      <td>4.500000e+01</td>\n",
       "      <td>21.000000</td>\n",
       "      <td>1.000000</td>\n",
       "    </tr>\n",
       "    <tr>\n",
       "      <th>75%</th>\n",
       "      <td>210201.000000</td>\n",
       "      <td>738.000000</td>\n",
       "      <td>2.000000</td>\n",
       "      <td>3.169882e+06</td>\n",
       "      <td>1.000000e+02</td>\n",
       "      <td>5.000000e+01</td>\n",
       "      <td>1.000000</td>\n",
       "      <td>1.510000e+02</td>\n",
       "      <td>21.000000</td>\n",
       "      <td>1.000000</td>\n",
       "    </tr>\n",
       "    <tr>\n",
       "      <th>max</th>\n",
       "      <td>210455.000000</td>\n",
       "      <td>9618.000000</td>\n",
       "      <td>312000.000000</td>\n",
       "      <td>3.338731e+06</td>\n",
       "      <td>1.300000e+06</td>\n",
       "      <td>1.300000e+06</td>\n",
       "      <td>10000.000000</td>\n",
       "      <td>1.600000e+06</td>\n",
       "      <td>22.000000</td>\n",
       "      <td>1.000000</td>\n",
       "    </tr>\n",
       "  </tbody>\n",
       "</table>\n",
       "</div>"
      ],
      "text/plain": [
       "           auctionID          lotNr  numberOfItems  buyerAccountID  \\\n",
       "count  285307.000000  285307.000000  285307.000000    2.853070e+05   \n",
       "mean   205292.621492     706.946868      15.461037    2.179230e+06   \n",
       "std      4884.057343    1046.480555     693.356570    1.348148e+06   \n",
       "min    200001.000000       0.000000       1.000000    9.999900e+04   \n",
       "25%    200420.000000     120.000000       1.000000    9.999900e+04   \n",
       "50%    201074.000000     308.000000       1.000000    2.943484e+06   \n",
       "75%    210201.000000     738.000000       2.000000    3.169882e+06   \n",
       "max    210455.000000    9618.000000  312000.000000    3.338731e+06   \n",
       "\n",
       "       estimatedValue   startingBid     reserveBid    currentBid  \\\n",
       "count    2.853070e+05  2.853070e+05  285307.000000  2.853070e+05   \n",
       "mean     3.951862e+02  1.306506e+02       1.206276  4.045803e+02   \n",
       "std      4.520164e+03  2.878194e+03      35.009842  4.434069e+03   \n",
       "min     -1.000000e+00  0.000000e+00       0.000000 -1.508000e+02   \n",
       "25%      0.000000e+00  1.000000e+01       1.000000  1.500000e+01   \n",
       "50%      2.000000e+01  1.000000e+01       1.000000  4.500000e+01   \n",
       "75%      1.000000e+02  5.000000e+01       1.000000  1.510000e+02   \n",
       "max      1.300000e+06  1.300000e+06   10000.000000  1.600000e+06   \n",
       "\n",
       "                 vat           sold  \n",
       "count  285307.000000  285307.000000  \n",
       "mean       19.681168       0.817383  \n",
       "std         4.928022       0.386353  \n",
       "min         0.000000       0.000000  \n",
       "25%        21.000000       1.000000  \n",
       "50%        21.000000       1.000000  \n",
       "75%        21.000000       1.000000  \n",
       "max        22.000000       1.000000  "
      ]
     },
     "execution_count": 19,
     "metadata": {},
     "output_type": "execute_result"
    }
   ],
   "source": [
    "#TODO: Print the description of the numerical values of the lots Pandas Dataframe.\n",
    "lots.describe()"
   ]
  },
  {
   "cell_type": "code",
   "execution_count": 20,
   "metadata": {},
   "outputs": [
    {
     "data": {
      "text/html": [
       "<div>\n",
       "<style scoped>\n",
       "    .dataframe tbody tr th:only-of-type {\n",
       "        vertical-align: middle;\n",
       "    }\n",
       "\n",
       "    .dataframe tbody tr th {\n",
       "        vertical-align: top;\n",
       "    }\n",
       "\n",
       "    .dataframe thead th {\n",
       "        text-align: right;\n",
       "    }\n",
       "</style>\n",
       "<table border=\"1\" class=\"dataframe\">\n",
       "  <thead>\n",
       "    <tr style=\"text-align: right;\">\n",
       "      <th></th>\n",
       "      <th>auctionID</th>\n",
       "      <th>LotNr</th>\n",
       "      <th>bidNr</th>\n",
       "      <th>LotID</th>\n",
       "      <th>IsCombination</th>\n",
       "      <th>AccountID</th>\n",
       "      <th>IsCompany</th>\n",
       "      <th>BidPrice</th>\n",
       "    </tr>\n",
       "  </thead>\n",
       "  <tbody>\n",
       "    <tr>\n",
       "      <th>count</th>\n",
       "      <td>3.178996e+06</td>\n",
       "      <td>3.178996e+06</td>\n",
       "      <td>3.178996e+06</td>\n",
       "      <td>3.178996e+06</td>\n",
       "      <td>3.178996e+06</td>\n",
       "      <td>3.178996e+06</td>\n",
       "      <td>3.178996e+06</td>\n",
       "      <td>3.178996e+06</td>\n",
       "    </tr>\n",
       "    <tr>\n",
       "      <th>mean</th>\n",
       "      <td>2.066205e+05</td>\n",
       "      <td>4.550741e+02</td>\n",
       "      <td>1.572412e+01</td>\n",
       "      <td>5.294385e+06</td>\n",
       "      <td>6.826055e-05</td>\n",
       "      <td>3.030902e+06</td>\n",
       "      <td>6.622320e-01</td>\n",
       "      <td>7.655975e+02</td>\n",
       "    </tr>\n",
       "    <tr>\n",
       "      <th>std</th>\n",
       "      <td>4.698346e+03</td>\n",
       "      <td>8.245781e+02</td>\n",
       "      <td>1.596777e+01</td>\n",
       "      <td>3.487074e+05</td>\n",
       "      <td>8.261713e-03</td>\n",
       "      <td>2.239804e+05</td>\n",
       "      <td>4.729491e-01</td>\n",
       "      <td>3.756768e+03</td>\n",
       "    </tr>\n",
       "    <tr>\n",
       "      <th>min</th>\n",
       "      <td>2.000010e+05</td>\n",
       "      <td>0.000000e+00</td>\n",
       "      <td>1.000000e+00</td>\n",
       "      <td>4.636761e+06</td>\n",
       "      <td>0.000000e+00</td>\n",
       "      <td>2.505522e+06</td>\n",
       "      <td>0.000000e+00</td>\n",
       "      <td>1.000000e+00</td>\n",
       "    </tr>\n",
       "    <tr>\n",
       "      <th>25%</th>\n",
       "      <td>2.006520e+05</td>\n",
       "      <td>5.400000e+01</td>\n",
       "      <td>4.000000e+00</td>\n",
       "      <td>4.929955e+06</td>\n",
       "      <td>0.000000e+00</td>\n",
       "      <td>2.883948e+06</td>\n",
       "      <td>0.000000e+00</td>\n",
       "      <td>4.000000e+01</td>\n",
       "    </tr>\n",
       "    <tr>\n",
       "      <th>50%</th>\n",
       "      <td>2.100710e+05</td>\n",
       "      <td>1.640000e+02</td>\n",
       "      <td>1.100000e+01</td>\n",
       "      <td>5.435180e+06</td>\n",
       "      <td>0.000000e+00</td>\n",
       "      <td>3.108859e+06</td>\n",
       "      <td>1.000000e+00</td>\n",
       "      <td>1.200000e+02</td>\n",
       "    </tr>\n",
       "    <tr>\n",
       "      <th>75%</th>\n",
       "      <td>2.102380e+05</td>\n",
       "      <td>4.320000e+02</td>\n",
       "      <td>2.200000e+01</td>\n",
       "      <td>5.583198e+06</td>\n",
       "      <td>0.000000e+00</td>\n",
       "      <td>3.195484e+06</td>\n",
       "      <td>1.000000e+00</td>\n",
       "      <td>3.500000e+02</td>\n",
       "    </tr>\n",
       "    <tr>\n",
       "      <th>max</th>\n",
       "      <td>2.104550e+05</td>\n",
       "      <td>9.618000e+03</td>\n",
       "      <td>2.160000e+02</td>\n",
       "      <td>5.769222e+06</td>\n",
       "      <td>1.000000e+00</td>\n",
       "      <td>3.338731e+06</td>\n",
       "      <td>1.000000e+00</td>\n",
       "      <td>1.600000e+06</td>\n",
       "    </tr>\n",
       "  </tbody>\n",
       "</table>\n",
       "</div>"
      ],
      "text/plain": [
       "          auctionID         LotNr         bidNr         LotID  IsCombination  \\\n",
       "count  3.178996e+06  3.178996e+06  3.178996e+06  3.178996e+06   3.178996e+06   \n",
       "mean   2.066205e+05  4.550741e+02  1.572412e+01  5.294385e+06   6.826055e-05   \n",
       "std    4.698346e+03  8.245781e+02  1.596777e+01  3.487074e+05   8.261713e-03   \n",
       "min    2.000010e+05  0.000000e+00  1.000000e+00  4.636761e+06   0.000000e+00   \n",
       "25%    2.006520e+05  5.400000e+01  4.000000e+00  4.929955e+06   0.000000e+00   \n",
       "50%    2.100710e+05  1.640000e+02  1.100000e+01  5.435180e+06   0.000000e+00   \n",
       "75%    2.102380e+05  4.320000e+02  2.200000e+01  5.583198e+06   0.000000e+00   \n",
       "max    2.104550e+05  9.618000e+03  2.160000e+02  5.769222e+06   1.000000e+00   \n",
       "\n",
       "          AccountID     IsCompany      BidPrice  \n",
       "count  3.178996e+06  3.178996e+06  3.178996e+06  \n",
       "mean   3.030902e+06  6.622320e-01  7.655975e+02  \n",
       "std    2.239804e+05  4.729491e-01  3.756768e+03  \n",
       "min    2.505522e+06  0.000000e+00  1.000000e+00  \n",
       "25%    2.883948e+06  0.000000e+00  4.000000e+01  \n",
       "50%    3.108859e+06  1.000000e+00  1.200000e+02  \n",
       "75%    3.195484e+06  1.000000e+00  3.500000e+02  \n",
       "max    3.338731e+06  1.000000e+00  1.600000e+06  "
      ]
     },
     "execution_count": 20,
     "metadata": {},
     "output_type": "execute_result"
    }
   ],
   "source": [
    "#TODO: Print the description of the numerical values of the bids Pandas Dataframe.\n",
    "bids.describe()"
   ]
  },
  {
   "cell_type": "markdown",
   "metadata": {},
   "source": [
    "#### Questions B4\n",
    "* `Q_B4_0` - What is the max `id` for the `auctions` dataframe? <br>\n",
    "* `Q_B4_1` - What is the maximal value for `numberOfItems` in the `lots` dataframe? <br>\n",
    "* `Q_B4_2` - What is the mean value for `BidPrice` in the `bids` dataframe? "
   ]
  },
  {
   "cell_type": "code",
   "execution_count": 21,
   "metadata": {},
   "outputs": [
    {
     "name": "stdout",
     "output_type": "stream",
     "text": [
      "🟢 That's correct!       \n"
     ]
    },
    {
     "data": {
      "text/plain": [
       "210455.0"
      ]
     },
     "metadata": {},
     "output_type": "display_data"
    }
   ],
   "source": [
    "Q_B4_0 = 210455.0\n",
    "module.check(\"B4_0\", Q_B4_0)"
   ]
  },
  {
   "cell_type": "code",
   "execution_count": 22,
   "metadata": {},
   "outputs": [
    {
     "name": "stdout",
     "output_type": "stream",
     "text": [
      "🟢 That's correct!       \n"
     ]
    },
    {
     "data": {
      "text/plain": [
       "312000.0"
      ]
     },
     "metadata": {},
     "output_type": "display_data"
    }
   ],
   "source": [
    "Q_B4_1 = 312000.0\n",
    "module.check(\"B4_1\", Q_B4_1)"
   ]
  },
  {
   "cell_type": "code",
   "execution_count": 23,
   "metadata": {},
   "outputs": [
    {
     "name": "stdout",
     "output_type": "stream",
     "text": [
      "🟢 That's correct!       \n"
     ]
    },
    {
     "data": {
      "text/plain": [
       "765.5975"
      ]
     },
     "metadata": {},
     "output_type": "display_data"
    }
   ],
   "source": [
    "Q_B4_2 = 7.655975e+2\n",
    "module.check(\"B4_2\", Q_B4_2)"
   ]
  },
  {
   "cell_type": "markdown",
   "metadata": {},
   "source": [
    "### B5. Analyze categories\n",
    "Investigate the occurrence of different categories in the column `branchCategory` of the `auction` dataframe. <br>\n",
    "To do this, you will need the `Counter` function, imported from the `Collections` library. <br>\n",
    "We suggest to take a look at the documentation, which can be found by clicking <a href=\"https://docs.python.org/3/library/collections.html#collections.Counter\">here</a>. <br>\n",
    "When successfully obtained the number of occurrences per category, send this in form of a dictionary to the checker function.\n"
   ]
  },
  {
   "cell_type": "code",
   "execution_count": 24,
   "metadata": {},
   "outputs": [
    {
     "name": "stdout",
     "output_type": "stream",
     "text": [
      "🟢 That's correct!       \n"
     ]
    },
    {
     "data": {
      "text/plain": [
       "{'transport': 202,\n",
       " 'metal': 202,\n",
       " 'woodworking': 68,\n",
       " 'construction': 142,\n",
       " 'other': 213,\n",
       " 'real estate': 40,\n",
       " 'agricultural': 113,\n",
       " 'consumer': 283,\n",
       " 'food': 208,\n",
       " 'graphical': 27,\n",
       " 'plastic': 10,\n",
       " 'pharmaceutical': 48}"
      ]
     },
     "metadata": {},
     "output_type": "display_data"
    }
   ],
   "source": [
    "#TODO: Retrieve the number of occurrences for all branch categories of the auctions dataframe.\n",
    "totalByCategory = Counter(auctions.branchCategory)\n",
    "\n",
    "#TODO: Place the values in a dictionary and send it to the checker function.\n",
    "Q_B5 = dict(totalByCategory)\n",
    "module.check(\"B5\", Q_B5)"
   ]
  },
  {
   "cell_type": "markdown",
   "metadata": {},
   "source": [
    "<hr>\n",
    "\n",
    "## C. Preprocessing and storing\n",
    "\n",
    "The initial analysis of the raw data consisted of the descriptive analysis. Now, the invention provides a method for preprocessing and storing data, which relates to the technical field of data storage and comprises the following steps: <br>\n",
    "\n",
    "* `Preprocessing` - Transform the raw data in an usefull and efficient format.\n",
    "* `Storage` - Setup a SQL database.\n",
    "* `Acquire data` - Retrieve the preprocessed data.\n",
    "* `Transmitting` - Fill the database with the data.\n",
    "* `Enhance` - Improve data consistency and quality for rigorous data management.\n",
    "\n",
    "Creation and usage of the `MySQL` database is similar to the way we used it in the `API Advanced` module. <br>"
   ]
  },
  {
   "cell_type": "markdown",
   "metadata": {},
   "source": [
    "### C1. Preprocessing\n",
    "Preprocessing the data concerns the transformation of raw data into a usefull and efficient format. We already gave you some code, where your task is to extend this code by adding the requested functionality. To guide you through this process, a list of consecutive actions is shown below:\n",
    "* `Data types`: (Re-)Define the data types of the data frame columns;\n",
    "* `Outlier handling`: Remove and/or transform outliers in the data frame;\n",
    "* `Missing values`: Deal with incomplete columns in the data frame;\n",
    "* `Remove duplicate values`: Remove redundant values in the data frame."
   ]
  },
  {
   "cell_type": "markdown",
   "metadata": {},
   "source": [
    "We will first focus on the `data type inconsistencies`. If not done properly conflicts might occur when we will create relations between columns, as is done in a `relational database`. Based on our `Descriptive Analytics`, using the `.info()` function, we have seen the following relational columns have inconsistent data types:\n",
    "* `auctions.id` <--> `lots.auctionID`;\n",
    "* `lots.lotNr` <--> `bids.LotNr`;\n",
    "Besides also the columns `lots.numberOfItems`, `lots.buyerAccountID` and `bids.LotID` have incorrect data types. <br>\n",
    "\n",
    "Below some code is given to transform these data types in an efficient manner. The code changes values towards three different data types, namely:\n",
    "* Integers (`int`): Change id values and number of items to integer, as they do not have decimal values;\n",
    "* Datetime (`datetime.date`): Change values from object data type into datetimes, this allows easier processing of these values;\n",
    "* Boolean (`bool`): Often True/False values are depicted as an Integer 1 or 0, however it is better to write them as actual boolean values."
   ]
  },
  {
   "cell_type": "code",
   "execution_count": 25,
   "metadata": {},
   "outputs": [],
   "source": [
    "# Transforms each column to the correct dtype\n",
    "dtype_dic = {\n",
    "    \"integer\" : {\n",
    "        'lots': ['auctionID', 'lotNr', 'numberOfItems', 'buyerAccountID'],\n",
    "        'bids': ['LotID']\n",
    "                }, \n",
    "    \"datetime\": {\n",
    "        'auctions': ['auctionStart', 'auctionEnd'],\n",
    "        'lots': ['saleDate'],\n",
    "        'bids': ['BiddingDateTime', 'ClosingDateTime']\n",
    "                },\n",
    "    \"boolean\": {\n",
    "            'lots': ['sold'],\n",
    "            'bids': ['IsCombination', 'IsCompany']\n",
    "               }\n",
    "            }\n",
    "\n",
    "for keys_dtype in dtype_dic:\n",
    "    for keys_df in dtype_dic[keys_dtype]:\n",
    "        for column_name in dtype_dic[keys_dtype][keys_df]:\n",
    "            \n",
    "            if keys_dtype == 'integer':\n",
    "                if keys_df == 'auctions':\n",
    "                    auctions[column_name] = auctions[column_name].astype(int)\n",
    "                elif keys_df == 'lots':\n",
    "                    lots[column_name] = lots[column_name].astype(int)\n",
    "                elif keys_df == 'bids':\n",
    "                    bids[column_name] = bids[column_name].astype(int)\n",
    "\n",
    "            elif keys_dtype == 'datetime':\n",
    "                if keys_df == 'auctions':\n",
    "                    auctions[column_name] = pd.to_datetime(auctions[column_name], format='%Y-%m-%d %H:%M:%S', errors='coerce')\n",
    "                elif keys_df == 'lots':\n",
    "                    lots[column_name] = pd.to_datetime(lots[column_name], format='%Y-%m-%d %H:%M:%S', errors='coerce')\n",
    "                elif keys_df == 'bids':\n",
    "                    bids[column_name] = pd.to_datetime(bids[column_name], format='%Y-%m-%d %H:%M:%S', errors='coerce')\n",
    "            \n",
    "            elif keys_dtype == 'boolean':\n",
    "                if keys_df == 'lots':\n",
    "                    lots[column_name] = lots[column_name].astype(bool)\n",
    "                elif keys_df == 'bids':\n",
    "                    bids[column_name] = bids[column_name].astype(bool)"
   ]
  },
  {
   "cell_type": "markdown",
   "metadata": {},
   "source": [
    "Now we ensured that our data types will not lead to any problems in the future, we can continue with handling `outliers`. Based on our Descriptive Analysis, we see no clear indication for outliers in the `auction` and `bids` data frame. However, the `lots` data frame did contain some inconsistencies in the `estimatedValue` and `currentBid` columns. These columns both contain negative values, which is of course incorrect looking at the meaning of these columns. Also, the `category` column contains 'Unknown' values, which concern missing values which need to be dealt with accordigly. Finally the `auctions` data frame contains some duplicate auctionIDs, which we need to remove in a well-thought through manner. Before transforming these columns, answer the questions below. "
   ]
  },
  {
   "cell_type": "markdown",
   "metadata": {},
   "source": [
    "#### Questions C1\n",
    "* `Q_C1_0` - How many rows with a negative `currentBid` does the `lots` data frame contain? <br>\n",
    "* `Q_C1_1` - How many `NaN` values has the `category` column in the `lots` data frame? <br>\n",
    "* `Q_C1_2` - How many duplicate rows does the `auctions` data frame have?"
   ]
  },
  {
   "cell_type": "code",
   "execution_count": 26,
   "metadata": {},
   "outputs": [
    {
     "name": "stdout",
     "output_type": "stream",
     "text": [
      "🟢 That's correct!       \n"
     ]
    },
    {
     "data": {
      "text/plain": [
       "4"
      ]
     },
     "metadata": {},
     "output_type": "display_data"
    }
   ],
   "source": [
    "#TODO: Retrieve the amount of lots with a negative currentBid.\n",
    "Q_C1_0 = len(lots[lots.currentBid < 0])\n",
    "module.check(\"C1_0\", Q_C1_0)"
   ]
  },
  {
   "cell_type": "code",
   "execution_count": 27,
   "metadata": {},
   "outputs": [
    {
     "name": "stdout",
     "output_type": "stream",
     "text": [
      "🟢 That's correct!       \n"
     ]
    },
    {
     "data": {
      "text/plain": [
       "661"
      ]
     },
     "metadata": {},
     "output_type": "display_data"
    }
   ],
   "source": [
    "#TODO: Retrieve the amount of 'unknown' categories in the lots data frame.\n",
    "Q_C1_1 = int(lots.category.isna().sum())\n",
    "module.check(\"C1_1\", Q_C1_1)"
   ]
  },
  {
   "cell_type": "code",
   "execution_count": 28,
   "metadata": {},
   "outputs": [
    {
     "name": "stdout",
     "output_type": "stream",
     "text": [
      "🟢 That's correct!       \n"
     ]
    },
    {
     "data": {
      "text/plain": [
       "49"
      ]
     },
     "metadata": {},
     "output_type": "display_data"
    }
   ],
   "source": [
    "#TODO: Retrieve the amount of duplicate ids in the auction table.\n",
    "Q_C1_2 = int(auctions.id.count() - auctions.id.nunique())\n",
    "module.check(\"C1_2\", Q_C1_2)"
   ]
  },
  {
   "cell_type": "markdown",
   "metadata": {},
   "source": [
    "Now we have gained the needed knowledge through the execution of the analyses above, we can start to transform our data. First we will start with the negative `currentBid`, for which we have to decide whether to remove or replace the value. Looking at the context of the value, we should investigate if the negative currentBid has some relation to the actual final value found in the bids data frame. If not, it is best to remove the lot entirely."
   ]
  },
  {
   "cell_type": "code",
   "execution_count": 29,
   "metadata": {},
   "outputs": [
    {
     "data": {
      "text/html": [
       "<div>\n",
       "<style scoped>\n",
       "    .dataframe tbody tr th:only-of-type {\n",
       "        vertical-align: middle;\n",
       "    }\n",
       "\n",
       "    .dataframe tbody tr th {\n",
       "        vertical-align: top;\n",
       "    }\n",
       "\n",
       "    .dataframe thead th {\n",
       "        text-align: right;\n",
       "    }\n",
       "</style>\n",
       "<table border=\"1\" class=\"dataframe\">\n",
       "  <thead>\n",
       "    <tr style=\"text-align: right;\">\n",
       "      <th></th>\n",
       "      <th>countryCode</th>\n",
       "      <th>saleDate</th>\n",
       "      <th>auctionID</th>\n",
       "      <th>lotNr</th>\n",
       "      <th>suffix</th>\n",
       "      <th>numberOfItems</th>\n",
       "      <th>buyerAccountID</th>\n",
       "      <th>estimatedValue</th>\n",
       "      <th>startingBid</th>\n",
       "      <th>reserveBid</th>\n",
       "      <th>currentBid</th>\n",
       "      <th>vat</th>\n",
       "      <th>category</th>\n",
       "      <th>sold</th>\n",
       "    </tr>\n",
       "  </thead>\n",
       "  <tbody>\n",
       "    <tr>\n",
       "      <th>6806</th>\n",
       "      <td>Not Available</td>\n",
       "      <td>2018-01-15 15:09:08</td>\n",
       "      <td>200099</td>\n",
       "      <td>201</td>\n",
       "      <td>Not Available</td>\n",
       "      <td>1</td>\n",
       "      <td>2817860</td>\n",
       "      <td>0.0</td>\n",
       "      <td>50.0</td>\n",
       "      <td>0.0</td>\n",
       "      <td>-30.00</td>\n",
       "      <td>21.0</td>\n",
       "      <td>Furniture and Accessories</td>\n",
       "      <td>True</td>\n",
       "    </tr>\n",
       "    <tr>\n",
       "      <th>6819</th>\n",
       "      <td>Not Available</td>\n",
       "      <td>2018-01-15 15:09:08</td>\n",
       "      <td>200099</td>\n",
       "      <td>214</td>\n",
       "      <td>Not Available</td>\n",
       "      <td>1</td>\n",
       "      <td>2652045</td>\n",
       "      <td>0.0</td>\n",
       "      <td>50.0</td>\n",
       "      <td>0.0</td>\n",
       "      <td>-75.00</td>\n",
       "      <td>21.0</td>\n",
       "      <td>Furniture and Accessories</td>\n",
       "      <td>True</td>\n",
       "    </tr>\n",
       "    <tr>\n",
       "      <th>118115</th>\n",
       "      <td>Not Available</td>\n",
       "      <td>2018-05-31 18:07:26</td>\n",
       "      <td>200797</td>\n",
       "      <td>173</td>\n",
       "      <td>Not Available</td>\n",
       "      <td>1</td>\n",
       "      <td>99999</td>\n",
       "      <td>0.0</td>\n",
       "      <td>10.0</td>\n",
       "      <td>1.0</td>\n",
       "      <td>-57.93</td>\n",
       "      <td>21.0</td>\n",
       "      <td>Boats</td>\n",
       "      <td>True</td>\n",
       "    </tr>\n",
       "    <tr>\n",
       "      <th>204955</th>\n",
       "      <td>Not Available</td>\n",
       "      <td>2019-03-27 20:03:30</td>\n",
       "      <td>210210</td>\n",
       "      <td>122</td>\n",
       "      <td>Not Available</td>\n",
       "      <td>1</td>\n",
       "      <td>99999</td>\n",
       "      <td>200.0</td>\n",
       "      <td>10.0</td>\n",
       "      <td>1.0</td>\n",
       "      <td>-150.80</td>\n",
       "      <td>21.0</td>\n",
       "      <td>Rolling Material</td>\n",
       "      <td>True</td>\n",
       "    </tr>\n",
       "  </tbody>\n",
       "</table>\n",
       "</div>"
      ],
      "text/plain": [
       "          countryCode            saleDate  auctionID  lotNr         suffix  \\\n",
       "6806    Not Available 2018-01-15 15:09:08     200099    201  Not Available   \n",
       "6819    Not Available 2018-01-15 15:09:08     200099    214  Not Available   \n",
       "118115  Not Available 2018-05-31 18:07:26     200797    173  Not Available   \n",
       "204955  Not Available 2019-03-27 20:03:30     210210    122  Not Available   \n",
       "\n",
       "        numberOfItems  buyerAccountID  estimatedValue  startingBid  \\\n",
       "6806                1         2817860             0.0         50.0   \n",
       "6819                1         2652045             0.0         50.0   \n",
       "118115              1           99999             0.0         10.0   \n",
       "204955              1           99999           200.0         10.0   \n",
       "\n",
       "        reserveBid  currentBid   vat                   category  sold  \n",
       "6806           0.0      -30.00  21.0  Furniture and Accessories  True  \n",
       "6819           0.0      -75.00  21.0  Furniture and Accessories  True  \n",
       "118115         1.0      -57.93  21.0                      Boats  True  \n",
       "204955         1.0     -150.80  21.0           Rolling Material  True  "
      ]
     },
     "execution_count": 29,
     "metadata": {},
     "output_type": "execute_result"
    }
   ],
   "source": [
    "#TODO: Print the rows of the lots data frame that contain a negative currentBid.\n",
    "lots[lots.currentBid < 0]"
   ]
  },
  {
   "cell_type": "code",
   "execution_count": 30,
   "metadata": {},
   "outputs": [
    {
     "data": {
      "text/html": [
       "<div>\n",
       "<style scoped>\n",
       "    .dataframe tbody tr th:only-of-type {\n",
       "        vertical-align: middle;\n",
       "    }\n",
       "\n",
       "    .dataframe tbody tr th {\n",
       "        vertical-align: top;\n",
       "    }\n",
       "\n",
       "    .dataframe thead th {\n",
       "        text-align: right;\n",
       "    }\n",
       "</style>\n",
       "<table border=\"1\" class=\"dataframe\">\n",
       "  <thead>\n",
       "    <tr style=\"text-align: right;\">\n",
       "      <th></th>\n",
       "      <th>auctionID</th>\n",
       "      <th>LotNr</th>\n",
       "      <th>bidNr</th>\n",
       "      <th>LotID</th>\n",
       "      <th>IsCombination</th>\n",
       "      <th>AccountID</th>\n",
       "      <th>IsCompany</th>\n",
       "      <th>BidPrice</th>\n",
       "      <th>BiddingDateTime</th>\n",
       "      <th>ClosingDateTime</th>\n",
       "    </tr>\n",
       "  </thead>\n",
       "  <tbody>\n",
       "    <tr>\n",
       "      <th>119584</th>\n",
       "      <td>200099</td>\n",
       "      <td>201</td>\n",
       "      <td>1</td>\n",
       "      <td>4677122</td>\n",
       "      <td>False</td>\n",
       "      <td>3174712</td>\n",
       "      <td>True</td>\n",
       "      <td>50.0</td>\n",
       "      <td>2018-01-15 11:48:04</td>\n",
       "      <td>2018-01-15 13:35:00</td>\n",
       "    </tr>\n",
       "    <tr>\n",
       "      <th>119585</th>\n",
       "      <td>200099</td>\n",
       "      <td>201</td>\n",
       "      <td>2</td>\n",
       "      <td>4677122</td>\n",
       "      <td>False</td>\n",
       "      <td>3170543</td>\n",
       "      <td>False</td>\n",
       "      <td>55.0</td>\n",
       "      <td>2018-01-15 13:09:24</td>\n",
       "      <td>2018-01-15 13:35:00</td>\n",
       "    </tr>\n",
       "    <tr>\n",
       "      <th>119586</th>\n",
       "      <td>200099</td>\n",
       "      <td>201</td>\n",
       "      <td>3</td>\n",
       "      <td>4677122</td>\n",
       "      <td>False</td>\n",
       "      <td>3174712</td>\n",
       "      <td>True</td>\n",
       "      <td>60.0</td>\n",
       "      <td>2018-01-15 13:10:35</td>\n",
       "      <td>2018-01-15 13:35:00</td>\n",
       "    </tr>\n",
       "    <tr>\n",
       "      <th>119587</th>\n",
       "      <td>200099</td>\n",
       "      <td>201</td>\n",
       "      <td>4</td>\n",
       "      <td>4677122</td>\n",
       "      <td>False</td>\n",
       "      <td>3170543</td>\n",
       "      <td>False</td>\n",
       "      <td>70.0</td>\n",
       "      <td>2018-01-15 13:24:42</td>\n",
       "      <td>2018-01-15 13:35:00</td>\n",
       "    </tr>\n",
       "    <tr>\n",
       "      <th>119588</th>\n",
       "      <td>200099</td>\n",
       "      <td>201</td>\n",
       "      <td>5</td>\n",
       "      <td>4677122</td>\n",
       "      <td>False</td>\n",
       "      <td>3174712</td>\n",
       "      <td>True</td>\n",
       "      <td>80.0</td>\n",
       "      <td>2018-01-15 13:24:57</td>\n",
       "      <td>2018-01-15 13:35:00</td>\n",
       "    </tr>\n",
       "    <tr>\n",
       "      <th>119589</th>\n",
       "      <td>200099</td>\n",
       "      <td>201</td>\n",
       "      <td>6</td>\n",
       "      <td>4677122</td>\n",
       "      <td>False</td>\n",
       "      <td>3170543</td>\n",
       "      <td>False</td>\n",
       "      <td>90.0</td>\n",
       "      <td>2018-01-15 13:29:19</td>\n",
       "      <td>2018-01-15 13:35:00</td>\n",
       "    </tr>\n",
       "    <tr>\n",
       "      <th>119590</th>\n",
       "      <td>200099</td>\n",
       "      <td>201</td>\n",
       "      <td>7</td>\n",
       "      <td>4677122</td>\n",
       "      <td>False</td>\n",
       "      <td>3174712</td>\n",
       "      <td>True</td>\n",
       "      <td>100.0</td>\n",
       "      <td>2018-01-15 13:29:49</td>\n",
       "      <td>2018-01-15 13:35:00</td>\n",
       "    </tr>\n",
       "  </tbody>\n",
       "</table>\n",
       "</div>"
      ],
      "text/plain": [
       "        auctionID  LotNr  bidNr    LotID  IsCombination  AccountID  IsCompany  \\\n",
       "119584     200099    201      1  4677122          False    3174712       True   \n",
       "119585     200099    201      2  4677122          False    3170543      False   \n",
       "119586     200099    201      3  4677122          False    3174712       True   \n",
       "119587     200099    201      4  4677122          False    3170543      False   \n",
       "119588     200099    201      5  4677122          False    3174712       True   \n",
       "119589     200099    201      6  4677122          False    3170543      False   \n",
       "119590     200099    201      7  4677122          False    3174712       True   \n",
       "\n",
       "        BidPrice     BiddingDateTime     ClosingDateTime  \n",
       "119584      50.0 2018-01-15 11:48:04 2018-01-15 13:35:00  \n",
       "119585      55.0 2018-01-15 13:09:24 2018-01-15 13:35:00  \n",
       "119586      60.0 2018-01-15 13:10:35 2018-01-15 13:35:00  \n",
       "119587      70.0 2018-01-15 13:24:42 2018-01-15 13:35:00  \n",
       "119588      80.0 2018-01-15 13:24:57 2018-01-15 13:35:00  \n",
       "119589      90.0 2018-01-15 13:29:19 2018-01-15 13:35:00  \n",
       "119590     100.0 2018-01-15 13:29:49 2018-01-15 13:35:00  "
      ]
     },
     "execution_count": 30,
     "metadata": {},
     "output_type": "execute_result"
    }
   ],
   "source": [
    "#TODO: Print the bids of the first lot with a negative currentBid using the AuctionID and lotNr.\n",
    "bids[(bids.auctionID == 200099) & (bids.LotNr == 201)]"
   ]
  },
  {
   "cell_type": "code",
   "execution_count": 31,
   "metadata": {},
   "outputs": [],
   "source": [
    "#TODO: Remove the lots with a negative currentBid entirely from the dataframe.\n",
    "lots.drop(lots[lots.currentBid < 0].index, inplace=True)"
   ]
  },
  {
   "cell_type": "markdown",
   "metadata": {},
   "source": [
    "With regards to the `estimatedValue`, we will deal with it in an easier way. We will simply set all negative values to 0. First you have to print these values, after which you can use the `.replace({<FROM>:<TO>})` function to replace the values."
   ]
  },
  {
   "cell_type": "code",
   "execution_count": 32,
   "metadata": {},
   "outputs": [
    {
     "data": {
      "text/html": [
       "<div>\n",
       "<style scoped>\n",
       "    .dataframe tbody tr th:only-of-type {\n",
       "        vertical-align: middle;\n",
       "    }\n",
       "\n",
       "    .dataframe tbody tr th {\n",
       "        vertical-align: top;\n",
       "    }\n",
       "\n",
       "    .dataframe thead th {\n",
       "        text-align: right;\n",
       "    }\n",
       "</style>\n",
       "<table border=\"1\" class=\"dataframe\">\n",
       "  <thead>\n",
       "    <tr style=\"text-align: right;\">\n",
       "      <th></th>\n",
       "      <th>countryCode</th>\n",
       "      <th>saleDate</th>\n",
       "      <th>auctionID</th>\n",
       "      <th>lotNr</th>\n",
       "      <th>suffix</th>\n",
       "      <th>numberOfItems</th>\n",
       "      <th>buyerAccountID</th>\n",
       "      <th>estimatedValue</th>\n",
       "      <th>startingBid</th>\n",
       "      <th>reserveBid</th>\n",
       "      <th>currentBid</th>\n",
       "      <th>vat</th>\n",
       "      <th>category</th>\n",
       "      <th>sold</th>\n",
       "    </tr>\n",
       "  </thead>\n",
       "  <tbody>\n",
       "    <tr>\n",
       "      <th>158122</th>\n",
       "      <td>Not Available</td>\n",
       "      <td>2019-01-28 19:26:14</td>\n",
       "      <td>210001</td>\n",
       "      <td>395</td>\n",
       "      <td>Not Available</td>\n",
       "      <td>1</td>\n",
       "      <td>3031944</td>\n",
       "      <td>-1.0</td>\n",
       "      <td>10.0</td>\n",
       "      <td>1.0</td>\n",
       "      <td>25.0</td>\n",
       "      <td>21.0</td>\n",
       "      <td>Hand Tools</td>\n",
       "      <td>True</td>\n",
       "    </tr>\n",
       "  </tbody>\n",
       "</table>\n",
       "</div>"
      ],
      "text/plain": [
       "          countryCode            saleDate  auctionID  lotNr         suffix  \\\n",
       "158122  Not Available 2019-01-28 19:26:14     210001    395  Not Available   \n",
       "\n",
       "        numberOfItems  buyerAccountID  estimatedValue  startingBid  \\\n",
       "158122              1         3031944            -1.0         10.0   \n",
       "\n",
       "        reserveBid  currentBid   vat    category  sold  \n",
       "158122         1.0        25.0  21.0  Hand Tools  True  "
      ]
     },
     "execution_count": 32,
     "metadata": {},
     "output_type": "execute_result"
    }
   ],
   "source": [
    "#TODO: Print all rows of the lots data frame that contain a negative estimatedValue.\n",
    "lots[lots.estimatedValue < 0]"
   ]
  },
  {
   "cell_type": "code",
   "execution_count": 33,
   "metadata": {},
   "outputs": [],
   "source": [
    "#TODO: Replace the value(s) with the replace() function.\n",
    "lots['estimatedValue'] = lots.estimatedValue.replace({-1.0:0.0})"
   ]
  },
  {
   "cell_type": "markdown",
   "metadata": {},
   "source": [
    "Next, transform the `NaN` values in the category column to 'Unknown'. Pandas has a usefull function for this, named `.fillna(<VALUE>)`. Use this function below to fill the `NaN` values with the value 'Unknown'."
   ]
  },
  {
   "cell_type": "code",
   "execution_count": 34,
   "metadata": {},
   "outputs": [],
   "source": [
    "#TODO Fill the missing values in the lots.category column with 'Unkown'.\n",
    "lots['category'] = lots['category'].fillna('Unknown')"
   ]
  },
  {
   "cell_type": "markdown",
   "metadata": {},
   "source": [
    "Finally, to find the duplicate values you have to first merge the auctions and lots data frames. The reason for this being that we work with relational data frames. As this concerns some more complex Pandas coding, we will give you the code to do this. However, we advise to analyse the code and test if you understand the way it works. We use the outer join to do this, and only do this for the relation `lots` to `auctions`. Doing this for the `lots` to `bids` relation would result in a very inefficient computational cost, looking at the size of the `bids` table."
   ]
  },
  {
   "cell_type": "code",
   "execution_count": 35,
   "metadata": {},
   "outputs": [],
   "source": [
    "# Retrieve the ids that do not occur in the lots auctionID column.\n",
    "remove_these_ids = pd.merge(\n",
    "    lots, auctions, \n",
    "    left_on='auctionID', \n",
    "    right_on='id', \n",
    "    how='outer')[\n",
    "        pd.merge(\n",
    "            lots, auctions, \n",
    "            left_on='auctionID', \n",
    "            right_on='id', \n",
    "            how='outer').lotNr.isna()\n",
    "            ].id.unique()\n",
    "\n",
    "# Remove these IDs\n",
    "auctions.drop(auctions.index[auctions['id'].isin(remove_these_ids)], inplace=True)"
   ]
  },
  {
   "cell_type": "markdown",
   "metadata": {},
   "source": [
    "### C2. Storage\n",
    "\n",
    "Now we ave gained a greater understanding of our data and executed the needed preprocessing steps, it is time to put our data into a `production environment`. Before being able to do so, we first need to get our data to a `database` and create `APIs` to communicate with this database. For this assignment we will use a local `MySQL server`, just as we learning in the `API Advanced` module. A lot of code is aready given, however additional functionality is required to make the framework more robust. Execute the following steps:\n",
    "* `models`: Create a `model.py` file in the `app` directory, defining the correct columns and relationships;<br>\n",
    "* `schemas`: Create the `Pydantic` models to have commong attributes while creating or reading data;<br>\n",
    "* `main`: Create the `main.py` file, which represents where our API lives;<br>\n",
    "* `services`: Create the `services.py` file, which defines the requests that can be done using the API. <br>\n",
    "\n",
    "Most of these actions you already conducte in the `API - Advanced` module. Feel free to look back at your code to find hints about how to execute the creation of the files mentioned above. <br>\n",
    "\n",
    "After creating these files, you will be able to start the API and create the database:\n",
    "* `Open Terminal`: Open a terminal to run command line code; <br>\n",
    "* `Navigate`: Navigate to your locally stored folder for this module; <br>\n",
    "* `Load FastAPI`: Using the command `uvicorn app.main:app --reload`, load FastAPI and create an empty data base; <br>\n",
    "* `Open User Interface (UI)`: Open the URL on which Uvicorn is running and add `/docs` to the end. For example: `http://127.0.0.1:8000/docs`. <br>\n",
    "\n",
    "If executed correctly a new `database.db` will appear in the source directory (`src`) of this module. Now we only have to fill this database with our cleaned data. The code below can be used to send our cleaned data to the database. Note that this `uploadData` function replaces all the data curently in your database, it does not append data to it. Running the function might take some time, as the `bids` dataset is quite large."
   ]
  },
  {
   "cell_type": "code",
   "execution_count": 36,
   "metadata": {},
   "outputs": [
    {
     "name": "stdout",
     "output_type": "stream",
     "text": [
      "--- Finished upload auctions data. ---\n",
      "--- Finished upload lots data. ---\n",
      "--- Finished upload bids data. ---\n"
     ]
    }
   ],
   "source": [
    "from app.uploadData import uploadData  \n",
    "    \n",
    "df_to_upload = {\n",
    "    'auctions': auctions,\n",
    "    'lots': lots,\n",
    "    'bids': bids\n",
    "    }\n",
    "_ = uploadData(dic_dfs=df_to_upload)                                           "
   ]
  },
  {
   "cell_type": "markdown",
   "metadata": {},
   "source": [
    "Accessing our data from within a MySQL database allows us to retrieve data using `SQL queries`. SQL is a `reliable` and `efficient` language used for comunicating with databases.Some advantages of using SQL are:\n",
    "* Large amount s of data are retrieved quickly and efficiently; <br>\n",
    "* For data retrieval, large number of lines of code are not required; <br>\n",
    "* It is relately easy to learn and understand. <br>\n",
    "We use the library `SQLite3` to integrate the SQLite database, which is simple-to-use and pretty strightforward. There is no need to install this modle separately, as it comes along with Python after the 2.5x version. Below some example code is given, together with an example query to retrieve all records from the `lots` table."
   ]
  },
  {
   "cell_type": "code",
   "execution_count": 37,
   "metadata": {},
   "outputs": [
    {
     "data": {
      "text/plain": [
       "[('Not Available',\n",
       "  '2018-01-02 14:22:29',\n",
       "  200013,\n",
       "  1,\n",
       "  'Not Available',\n",
       "  1,\n",
       "  99999,\n",
       "  0.0,\n",
       "  10.0,\n",
       "  1.0,\n",
       "  160.0,\n",
       "  21.0,\n",
       "  'Rolling Material',\n",
       "  0)]"
      ]
     },
     "metadata": {},
     "output_type": "display_data"
    }
   ],
   "source": [
    "conn = sqlite3.connect(f\"./database.db\")\n",
    "cur = conn.cursor()\n",
    "sql_query = \"\"\"\n",
    "            SELECT * \n",
    "            FROM 'lots'\n",
    "            LIMIT 0,1\n",
    "            \"\"\"\n",
    "display(cur.execute(sql_query).fetchall())\n",
    "conn.close()"
   ]
  },
  {
   "cell_type": "markdown",
   "metadata": {},
   "source": [
    "#### Questions C2\n",
    "Answer the following questions by `querying` your database. Do not format the answers, but send the actual response of the query to validate if the database is initiated and the query is written properly.\n",
    "\n",
    "* `Q_C2_0` - What are the `AccountID`s of the first 5 bids in the bids table, only show AccountID? <br>\n",
    "* `Q_C2_1` - What is the highest `numberOfItems` found in the lots table, only show the MAX(numberOfItems)? <br>\n",
    "* `Q_C2_2` - How often are all `branchCategory` used within the auction table, show both branchCategory and COUNT(*)? <br>\n"
   ]
  },
  {
   "cell_type": "code",
   "execution_count": 38,
   "metadata": {},
   "outputs": [
    {
     "name": "stdout",
     "output_type": "stream",
     "text": [
      "🟢 That's correct!       \n"
     ]
    },
    {
     "data": {
      "text/plain": [
       "[(3094282,), (2930599,), (2851482,), (2930599,), (2851482,)]"
      ]
     },
     "metadata": {},
     "output_type": "display_data"
    }
   ],
   "source": [
    "#TODO: Complete the query to retrieve the first 5 auctionIDs from the bids table.\n",
    "conn = sqlite3.connect(f\"./database.db\")\n",
    "cur = conn.cursor()\n",
    "sql_query = \"\"\"\n",
    "            SELECT AccountID\n",
    "            FROM 'bids'\n",
    "            LIMIT 5\n",
    "            \"\"\"\n",
    "Q_C2_0 = cur.execute(sql_query).fetchall()\n",
    "conn.close()\n",
    "\n",
    "module.check(\"C2_0\", Q_C2_0)"
   ]
  },
  {
   "cell_type": "code",
   "execution_count": 39,
   "metadata": {},
   "outputs": [
    {
     "name": "stdout",
     "output_type": "stream",
     "text": [
      "🟢 That's correct!       \n"
     ]
    },
    {
     "data": {
      "text/plain": [
       "[(312000,)]"
      ]
     },
     "metadata": {},
     "output_type": "display_data"
    }
   ],
   "source": [
    "#TODO: Complete the query to retrieve the maximum numberOfItems from the lots table.\n",
    "conn = sqlite3.connect(f\"./database.db\")\n",
    "cur = conn.cursor()\n",
    "sql_query = \"\"\"\n",
    "            SELECT MAX(numberOfItems)\n",
    "            FROM 'lots'\n",
    "            \"\"\"\n",
    "Q_C2_1 = cur.execute(sql_query).fetchall()\n",
    "conn.close()\n",
    "\n",
    "module.check(\"C2_1\", Q_C2_1)"
   ]
  },
  {
   "cell_type": "code",
   "execution_count": 40,
   "metadata": {},
   "outputs": [
    {
     "name": "stdout",
     "output_type": "stream",
     "text": [
      "🟢 That's correct!       \n"
     ]
    },
    {
     "data": {
      "text/plain": [
       "[('agricultural', 83),\n",
       " ('construction', 71),\n",
       " ('consumer', 197),\n",
       " ('food', 119),\n",
       " ('graphical', 4),\n",
       " ('metal', 97),\n",
       " ('other', 70),\n",
       " ('pharmaceutical', 32),\n",
       " ('plastic', 3),\n",
       " ('real estate', 3),\n",
       " ('transport', 126),\n",
       " ('woodworking', 39)]"
      ]
     },
     "metadata": {},
     "output_type": "display_data"
    }
   ],
   "source": [
    "#TODO: Complete the query to retrieve the number of occurrences for all branchCategories in the auctions table.\n",
    "conn = sqlite3.connect(f\"./database.db\")\n",
    "cur = conn.cursor()\n",
    "sql_query = \"\"\"\n",
    "            SELECT branchCategory, COUNT(*)\n",
    "            FROM 'auctions'\n",
    "            GROUP BY branchCategory\n",
    "            \"\"\"\n",
    "Q_C2_2 = cur.execute(sql_query).fetchall()\n",
    "conn.close()\n",
    "\n",
    "module.check(\"C2_2\", Q_C2_2)"
   ]
  },
  {
   "cell_type": "markdown",
   "metadata": {},
   "source": [
    "<hr>\n",
    "\n",
    "## D. Cluster bidding behavior\n",
    "\n",
    "An important insight for the auction house is the different types of bidders. By clustering their behavior we gain insight into these different `bidding strategies`. Besides being of big descriptive value, these `clusters` can also be used in further programming. For example in `prediction models`, where the expected composition of different bidders can be of determinative value for the outcome of the auction.<br>\n",
    "\n",
    "In this section we will implement the `KMeans algorithm`, to classify certain bidders into different categories of behavior. The process of implementation is described in five consecutive steps below:\n",
    "* `Feature Engineering`: Extract usefull features from the data set; <br>\n",
    "* `Scale the data`: Apply scaling to all numerical values; <br>\n",
    "* `Find amount of clusters`: Use the so-called `elbow method` in the pre-written code below to find the optimal amount of clusters;\n",
    "* `Cluster the data`: Using the found optimal amount of clusters, cluster the entire data set; <br>\n",
    "* `Extract cluster characteristics`: Retrieve the relevant statistics of all parameters per cluster. <br>\n",
    "\n",
    "Notice that we need to query all tables in our database, let's begin to create a Pandas data frame for our database tables given a query."
   ]
  },
  {
   "cell_type": "code",
   "execution_count": 41,
   "metadata": {},
   "outputs": [],
   "source": [
    "def pandas_df_from_database(table:str=None, query:str=None) -> pd.DataFrame:\n",
    "    \"\"\"\n",
    "    Loading data from an SQLite database table into a Python Pandas Data Frame.\n",
    "\n",
    "    Args:\n",
    "        path_db (str): The path to the folder where the database is stored;\n",
    "        table (str): If we only want to retrieve one table, the table name is needed;\n",
    "        query (str): Write a custom query to fetch.\n",
    "\n",
    "    Returns:\n",
    "        pd.DataFrame: Dataframe retrieve from the database.\n",
    "    \"\"\"\n",
    "\n",
    "    # Connect to the SQLite database using the line:\n",
    "    conn = sqlite3.connect((f\"database.db\"))\n",
    "\n",
    "    # Use table or query (if both are provided use table)\n",
    "    if table:\n",
    "        query_db = f\"SELECT * FROM {table};\"\n",
    "    elif query:\n",
    "        query_db = query\n",
    "    else:\n",
    "        print(\"No input is given\")\n",
    "\n",
    "    # The line that converts SQLite data to a Panda data frame is:\n",
    "    database_table = pd.read_sql_query(query_db, conn)\n",
    "    conn.close()\n",
    "\n",
    "    return database_table"
   ]
  },
  {
   "cell_type": "markdown",
   "metadata": {},
   "source": [
    "### D1. Feature Engineering\n",
    "First we will extract some statistics about different bidders within an auction. To do this, some characteristics of the lots are needed as well, which are:\n",
    "* `FirstBid`: Datetime object describing the moment the first bid is placed; <br>\n",
    "* `Duration`: Datetime object describing the duration of the lot (time between first and last bid). <br>\n",
    "\n",
    "These values are given through calling the function `generate_lot_statistic(data=bids)`given below. Integrate this function within the second function: `generate_bid_statistic(data)`, which is left incomplete. Follow the description in the `DOCSTRING`, which tells what the function needs to do, what it gets as input and what the output should look like. Note that generating the bid statistics might take a while, because there are a lot of computations needed as the sze of the data is rather large."
   ]
  },
  {
   "cell_type": "code",
   "execution_count": 42,
   "metadata": {},
   "outputs": [],
   "source": [
    "def generate_lot_statistic(data:pd.DataFrame) -> pd.DataFrame:\n",
    "    \"\"\"\n",
    "    Generate statistics regarding the Lots, describing both the datetime of the fist bid and the actual duration of the lot.\n",
    "\n",
    "    Args:\n",
    "        data (pd.DataFrame): Bids data, describing the bids that are made on specific auction-lot combinations.\n",
    "\n",
    "    Returns:\n",
    "        pd.DataFrame: Dataframe containing the lot statistics. This needs to contain two columns:\n",
    "            - FirstBid: The datetime of the first bid placed in the lot.\n",
    "            - Duration: The time between the first bid and the scheduled time the lot is supposed to end.\n",
    "    \"\"\"\n",
    "                \n",
    "    # Group based on SaleID and LotNumber and generate characteristics\n",
    "    lot_statistic = data.groupby(['auctionID','LotNr']).agg({'BiddingDateTime': ['min'], \n",
    "                                                             'ClosingDateTime': ['max']})\n",
    "    lot_statistic.columns = ['FirstBid', 'LotEnding']\n",
    "    \n",
    "    # Convert LotEnding (Str) to timestamp object\n",
    "    lot_statistic['LotEnding'] = lot_statistic['LotEnding'].apply(pd.to_datetime, errors='coerce')\n",
    "    \n",
    "    # Calculate Lot Duration by subtracting datetime of the first bid from the lot ending datetime\n",
    "    lot_statistic['Duration'] = lot_statistic['LotEnding'] - lot_statistic['FirstBid']\n",
    "    lot_statistic['Duration'] = lot_statistic['Duration'].apply(lambda x: x/pd.Timedelta('1 minute'))\n",
    "    lot_statistic = lot_statistic.reset_index()\n",
    "    \n",
    "    return lot_statistic"
   ]
  },
  {
   "cell_type": "code",
   "execution_count": 43,
   "metadata": {},
   "outputs": [],
   "source": [
    "def create_bid_statistic(data:pd.DataFrame) -> pd.DataFrame:\n",
    "    \"\"\"\n",
    "    Generate statistics regarding the bidders, to be used to cluster different bidding behaviors.\n",
    "\n",
    "    Args:\n",
    "        data (pd.DataFrame): Bids data, describing the bids that are made on specific auction-lot combinations.\n",
    "\n",
    "    Returns:\n",
    "        pd.DataFrame: Dataframe containing the statistics regarding bidders. This needs to contain nine columns:\n",
    "            - AuctionID: The ID reference of the auction in which the bid was placed.\n",
    "            - LotNr: The number reference of the lot in which the bid was placed.\n",
    "            - AccountID: The ID reference of the bidder which placed the bid.\n",
    "            - NOB: The Number Of Bids this bidders has placed in the concerning auction lot.\n",
    "            - ABP: The Average Bid Price of all the bids that the bidders has placed in the concerning auction lot.\n",
    "            - HBP: The Highest Bid Price of all the bids that the bidders has placed in the concerning auction lot.\n",
    "            - TOE: The Time Of Entry, describing at what percentage of total lot duration the bidder placed his first bid.\n",
    "            - TOX: The Time Of Exit, describing at what percentage of total lot duration the bidder placed his last bid.\n",
    "    \"\"\"\n",
    "    # Ensure datetime type in datetime variables\n",
    "    data['BiddingDateTime'] = pd.to_datetime(data['BiddingDateTime'], format='ISO8601')\n",
    "    data['ClosingDateTime'] = pd.to_datetime(data['ClosingDateTime'], format='ISO8601')\n",
    "\n",
    "    # Group based on accountID, LotNr and AccountID and generate NOB, ABP, HBP, TOE and TOX.\n",
    "    bid_statistic = data.groupby(['auctionID','LotNr','AccountID']).agg({'BidPrice': ['count', 'mean', 'max'], \n",
    "                                                                         'BiddingDateTime': ['min', 'max']})\n",
    "    bid_statistic.columns = ['NOB', 'ABP', 'HBP', 'TOE', 'TOX']\n",
    "    bid_statistic = bid_statistic.reset_index()\n",
    "\n",
    "    # Generate statistics of the lot and merge with bid statistic\n",
    "    lot_statistic = generate_lot_statistic(data)\n",
    "    bid_statistic = pd.merge(bid_statistic, lot_statistic, on=['auctionID', 'LotNr'], how='left')\n",
    "\n",
    "    # Convert static time characteristics (TOE and TOX) to relative time characteristics using the merged Lot statistics (FirstBid and Duration)\n",
    "    bid_statistic['TOE'] = (bid_statistic['TOE'] - bid_statistic['FirstBid']).apply(lambda x: x/pd.Timedelta('1 minute'))\n",
    "    bid_statistic['TOE'] = bid_statistic['TOE'] / bid_statistic['Duration']\n",
    "    bid_statistic['TOX'] = (bid_statistic['TOX'] - bid_statistic['FirstBid']).apply(lambda x: x/pd.Timedelta('1 minute'))\n",
    "    bid_statistic['TOX'] = bid_statistic['TOX'] / bid_statistic['Duration']\n",
    "    \n",
    "    # Set outliers in normalized TOE or TOX (> 1) to 1\n",
    "    bid_statistic['TOE'] = [x if x <= 1 else 1 for x in bid_statistic['TOE']]\n",
    "    bid_statistic['TOX'] = [x if x <= 1 else 1 for x in bid_statistic['TOX']]\n",
    "\n",
    "    # Remove lot statistics from the data again\n",
    "    bid_statistic.drop(['FirstBid', 'LotEnding'], axis=1, inplace=True)\n",
    "\n",
    "    return bid_statistic"
   ]
  },
  {
   "cell_type": "code",
   "execution_count": 44,
   "metadata": {},
   "outputs": [],
   "source": [
    "#TODO: Use the padas_df_from_database() function to retrieve the bids data\n",
    "bids_from_db = pandas_df_from_database(table='bids')\n",
    "\n",
    "#TODO: Use the create_bid_statistic() function to create the bid statistics \n",
    "bid_statistic = create_bid_statistic(data=bids_from_db)"
   ]
  },
  {
   "cell_type": "code",
   "execution_count": 45,
   "metadata": {},
   "outputs": [
    {
     "data": {
      "text/html": [
       "<div>\n",
       "<style scoped>\n",
       "    .dataframe tbody tr th:only-of-type {\n",
       "        vertical-align: middle;\n",
       "    }\n",
       "\n",
       "    .dataframe tbody tr th {\n",
       "        vertical-align: top;\n",
       "    }\n",
       "\n",
       "    .dataframe thead th {\n",
       "        text-align: right;\n",
       "    }\n",
       "</style>\n",
       "<table border=\"1\" class=\"dataframe\">\n",
       "  <thead>\n",
       "    <tr style=\"text-align: right;\">\n",
       "      <th></th>\n",
       "      <th>auctionID</th>\n",
       "      <th>LotNr</th>\n",
       "      <th>AccountID</th>\n",
       "      <th>NOB</th>\n",
       "      <th>ABP</th>\n",
       "      <th>HBP</th>\n",
       "      <th>TOE</th>\n",
       "      <th>TOX</th>\n",
       "      <th>Duration</th>\n",
       "    </tr>\n",
       "  </thead>\n",
       "  <tbody>\n",
       "    <tr>\n",
       "      <th>0</th>\n",
       "      <td>200001</td>\n",
       "      <td>1</td>\n",
       "      <td>2623749</td>\n",
       "      <td>3</td>\n",
       "      <td>31000.0</td>\n",
       "      <td>34000.0</td>\n",
       "      <td>0.998297</td>\n",
       "      <td>0.999567</td>\n",
       "      <td>26262.533333</td>\n",
       "    </tr>\n",
       "    <tr>\n",
       "      <th>1</th>\n",
       "      <td>200001</td>\n",
       "      <td>1</td>\n",
       "      <td>2694572</td>\n",
       "      <td>4</td>\n",
       "      <td>23500.0</td>\n",
       "      <td>25000.0</td>\n",
       "      <td>0.954183</td>\n",
       "      <td>0.989500</td>\n",
       "      <td>26262.533333</td>\n",
       "    </tr>\n",
       "    <tr>\n",
       "      <th>2</th>\n",
       "      <td>200001</td>\n",
       "      <td>1</td>\n",
       "      <td>2785630</td>\n",
       "      <td>1</td>\n",
       "      <td>22500.0</td>\n",
       "      <td>22500.0</td>\n",
       "      <td>0.956727</td>\n",
       "      <td>0.956727</td>\n",
       "      <td>26262.533333</td>\n",
       "    </tr>\n",
       "    <tr>\n",
       "      <th>3</th>\n",
       "      <td>200001</td>\n",
       "      <td>1</td>\n",
       "      <td>2851482</td>\n",
       "      <td>2</td>\n",
       "      <td>19000.0</td>\n",
       "      <td>19500.0</td>\n",
       "      <td>0.455016</td>\n",
       "      <td>0.629394</td>\n",
       "      <td>26262.533333</td>\n",
       "    </tr>\n",
       "    <tr>\n",
       "      <th>4</th>\n",
       "      <td>200001</td>\n",
       "      <td>1</td>\n",
       "      <td>2930599</td>\n",
       "      <td>3</td>\n",
       "      <td>19000.0</td>\n",
       "      <td>20000.0</td>\n",
       "      <td>0.400309</td>\n",
       "      <td>0.683017</td>\n",
       "      <td>26262.533333</td>\n",
       "    </tr>\n",
       "    <tr>\n",
       "      <th>...</th>\n",
       "      <td>...</td>\n",
       "      <td>...</td>\n",
       "      <td>...</td>\n",
       "      <td>...</td>\n",
       "      <td>...</td>\n",
       "      <td>...</td>\n",
       "      <td>...</td>\n",
       "      <td>...</td>\n",
       "      <td>...</td>\n",
       "    </tr>\n",
       "    <tr>\n",
       "      <th>1136256</th>\n",
       "      <td>210455</td>\n",
       "      <td>509</td>\n",
       "      <td>2919997</td>\n",
       "      <td>1</td>\n",
       "      <td>15.0</td>\n",
       "      <td>15.0</td>\n",
       "      <td>0.192513</td>\n",
       "      <td>0.192513</td>\n",
       "      <td>46.750000</td>\n",
       "    </tr>\n",
       "    <tr>\n",
       "      <th>1136257</th>\n",
       "      <td>210455</td>\n",
       "      <td>509</td>\n",
       "      <td>3328984</td>\n",
       "      <td>1</td>\n",
       "      <td>10.0</td>\n",
       "      <td>10.0</td>\n",
       "      <td>0.000000</td>\n",
       "      <td>0.000000</td>\n",
       "      <td>46.750000</td>\n",
       "    </tr>\n",
       "    <tr>\n",
       "      <th>1136258</th>\n",
       "      <td>210455</td>\n",
       "      <td>516</td>\n",
       "      <td>2834863</td>\n",
       "      <td>1</td>\n",
       "      <td>10.0</td>\n",
       "      <td>10.0</td>\n",
       "      <td>0.000000</td>\n",
       "      <td>0.000000</td>\n",
       "      <td>7027.983333</td>\n",
       "    </tr>\n",
       "    <tr>\n",
       "      <th>1136259</th>\n",
       "      <td>210455</td>\n",
       "      <td>516</td>\n",
       "      <td>3170566</td>\n",
       "      <td>1</td>\n",
       "      <td>15.0</td>\n",
       "      <td>15.0</td>\n",
       "      <td>0.928540</td>\n",
       "      <td>0.928540</td>\n",
       "      <td>7027.983333</td>\n",
       "    </tr>\n",
       "    <tr>\n",
       "      <th>1136260</th>\n",
       "      <td>210455</td>\n",
       "      <td>516</td>\n",
       "      <td>3328984</td>\n",
       "      <td>1</td>\n",
       "      <td>20.0</td>\n",
       "      <td>20.0</td>\n",
       "      <td>0.999225</td>\n",
       "      <td>0.999225</td>\n",
       "      <td>7027.983333</td>\n",
       "    </tr>\n",
       "  </tbody>\n",
       "</table>\n",
       "<p>1136261 rows × 9 columns</p>\n",
       "</div>"
      ],
      "text/plain": [
       "         auctionID  LotNr  AccountID  NOB      ABP      HBP       TOE  \\\n",
       "0           200001      1    2623749    3  31000.0  34000.0  0.998297   \n",
       "1           200001      1    2694572    4  23500.0  25000.0  0.954183   \n",
       "2           200001      1    2785630    1  22500.0  22500.0  0.956727   \n",
       "3           200001      1    2851482    2  19000.0  19500.0  0.455016   \n",
       "4           200001      1    2930599    3  19000.0  20000.0  0.400309   \n",
       "...            ...    ...        ...  ...      ...      ...       ...   \n",
       "1136256     210455    509    2919997    1     15.0     15.0  0.192513   \n",
       "1136257     210455    509    3328984    1     10.0     10.0  0.000000   \n",
       "1136258     210455    516    2834863    1     10.0     10.0  0.000000   \n",
       "1136259     210455    516    3170566    1     15.0     15.0  0.928540   \n",
       "1136260     210455    516    3328984    1     20.0     20.0  0.999225   \n",
       "\n",
       "              TOX      Duration  \n",
       "0        0.999567  26262.533333  \n",
       "1        0.989500  26262.533333  \n",
       "2        0.956727  26262.533333  \n",
       "3        0.629394  26262.533333  \n",
       "4        0.683017  26262.533333  \n",
       "...           ...           ...  \n",
       "1136256  0.192513     46.750000  \n",
       "1136257  0.000000     46.750000  \n",
       "1136258  0.000000   7027.983333  \n",
       "1136259  0.928540   7027.983333  \n",
       "1136260  0.999225   7027.983333  \n",
       "\n",
       "[1136261 rows x 9 columns]"
      ]
     },
     "execution_count": 45,
     "metadata": {},
     "output_type": "execute_result"
    }
   ],
   "source": [
    "bid_statistic"
   ]
  },
  {
   "cell_type": "markdown",
   "metadata": {},
   "source": [
    "### D2. Scale the data\n",
    "\n",
    "To prevent the different distributions in the data to interfere with the model results, we will scale the data. To keep things simple, we will apply `Min-Max Scaling`. This method is the most simple, but also the most applied method out there. It will simply spread all values over a range from 0 to 1, as explained in the library [documentation](https://scikit-learn.org/stable/modules/generated/sklearn.preprocessing.MinMaxScaler.html)."
   ]
  },
  {
   "cell_type": "code",
   "execution_count": 46,
   "metadata": {},
   "outputs": [],
   "source": [
    "def scale_data(data: pd.DataFrame) -> np.array:\n",
    "    \"\"\"\n",
    "    Apply min-max scaling to the data to have all values between 0 and 1.\n",
    "\n",
    "    Args:\n",
    "        data (pd.DataFrame): Bid statistics dataframe, containing all characteristic values of bidders in a given auction lot.\n",
    "\n",
    "    Returns:\n",
    "        np.array: Normalized bid statistic data, ready to be used for clustering.\n",
    "    \"\"\"\n",
    "    # Only select characteristic values, namely NOB, ABP, HBP, Duration (excluding TOE and TOX as they are already scaled)\n",
    "    bid_stat_array = bid_statistic.iloc[:,3:8]\n",
    "    bid_stat_array.drop(['TOE', 'TOX'], axis=1, inplace=True)\n",
    "\n",
    "    # Initialize minmax scaler and apply to selected data\n",
    "    min_max_scaler = MinMaxScaler()\n",
    "    norm_bid_stat = min_max_scaler.fit_transform(bid_stat_array)\n",
    "\n",
    "    # Reappend the TOE and TOX values (as they were excluded upon selection)\n",
    "    norm_bid_stat = np.c_[norm_bid_stat, bid_statistic['TOE'], bid_statistic['TOX']]\n",
    "\n",
    "    return norm_bid_stat\n"
   ]
  },
  {
   "cell_type": "code",
   "execution_count": 47,
   "metadata": {},
   "outputs": [
    {
     "data": {
      "text/plain": [
       "array([[2.59740260e-02, 1.93743871e-02, 2.12493883e-02, 9.98297321e-01,\n",
       "        9.99567191e-01],\n",
       "       [3.89610390e-02, 1.46868842e-02, 1.56243848e-02, 9.54182511e-01,\n",
       "        9.89499617e-01],\n",
       "       [0.00000000e+00, 1.40618838e-02, 1.40618838e-02, 9.56727328e-01,\n",
       "        9.56727328e-01],\n",
       "       ...,\n",
       "       [0.00000000e+00, 5.62500352e-06, 5.62500352e-06, 0.00000000e+00,\n",
       "        0.00000000e+00],\n",
       "       [0.00000000e+00, 8.75000547e-06, 8.75000547e-06, 9.28540430e-01,\n",
       "        9.28540430e-01],\n",
       "       [0.00000000e+00, 1.18750074e-05, 1.18750074e-05, 9.99224529e-01,\n",
       "        9.99224529e-01]])"
      ]
     },
     "execution_count": 47,
     "metadata": {},
     "output_type": "execute_result"
    }
   ],
   "source": [
    "scaled_data = scale_data(data=bid_statistic)\n",
    "scaled_data"
   ]
  },
  {
   "cell_type": "markdown",
   "metadata": {},
   "source": [
    "### D3. Find amount of clusters\n",
    "\n",
    "A fundamental setp for any clustering algorithm is the determination of the optimal number of clusters into which the data needs to be clustered.However, in most cases, the optimal amount of clusters is not known beforehand. To decide the amount of clusters that is optimal with regards to the data, the Elbow Method will be used. For more information about the Elbow Method, [Click Here!](https://www.geeksforgeeks.org/elbow-method-for-optimal-value-of-k-in-kmeans/) "
   ]
  },
  {
   "cell_type": "code",
   "execution_count": 48,
   "metadata": {},
   "outputs": [],
   "source": [
    "def elbow_method(scaled_data: np.array, start_: int, end_: int) -> None:\n",
    "    \"\"\"Code to generate a visual representation of the elbow method over the given range.\n",
    "\n",
    "    Args:\n",
    "        scaled_data (np.array): data to be used for clustering.\n",
    "        start_ (int): Starting value for the amount of clusters.\n",
    "        end_ (int): Ending value for the amount of clusters.\n",
    "    \"\"\"\n",
    "    nr_of_clusters = list(range(start_, end_))\n",
    "    within_cluster_variation = []\n",
    "    for amount in tqdm(nr_of_clusters):\n",
    "        within_cluster_variation.append(\n",
    "            KMeans(init='k-means++', n_clusters=amount).fit(scaled_data).inertia_\n",
    "        )\n",
    "    \n",
    "    plt.figure()\n",
    "    plt.plot(nr_of_clusters, within_cluster_variation, color='red')\n",
    "    plt.xticks(nr_of_clusters)\n",
    "    plt.ylabel('Within Cluster Variation (WCV)')\n",
    "    plt.xlabel('Number of Clusters')\n",
    "    plt.title('Elbow method')\n",
    "    plt.show()"
   ]
  },
  {
   "cell_type": "code",
   "execution_count": 49,
   "metadata": {},
   "outputs": [
    {
     "name": "stderr",
     "output_type": "stream",
     "text": [
      "100%|██████████| 8/8 [00:04<00:00,  1.64it/s]\n"
     ]
    },
    {
     "data": {
      "image/png": "[encoded data removed]",
      "text/plain": [
       "<Figure size 640x480 with 1 Axes>"
      ]
     },
     "metadata": {},
     "output_type": "display_data"
    }
   ],
   "source": [
    "#TODO: Execute the Elbow method.\n",
    "elbow_method(scaled_data=scaled_data, start_=2, end_=10)"
   ]
  },
  {
   "cell_type": "markdown",
   "metadata": {},
   "source": [
    "#### Questions D3\n",
    "* `Q_D3` - What is the optimal amount of clusters?"
   ]
  },
  {
   "cell_type": "code",
   "execution_count": 50,
   "metadata": {},
   "outputs": [
    {
     "name": "stdout",
     "output_type": "stream",
     "text": [
      "🟢 That's correct!       \n"
     ]
    },
    {
     "data": {
      "text/plain": [
       "3"
      ]
     },
     "metadata": {},
     "output_type": "display_data"
    }
   ],
   "source": [
    "#TODO: Read the Elbow plot above and decide the optimal amount of clusters.\n",
    "optimal_amount_of_clusters = 3\n",
    "\n",
    "Q_D3 = optimal_amount_of_clusters\n",
    "module.check(\"D3\", Q_D3)"
   ]
  },
  {
   "cell_type": "markdown",
   "metadata": {},
   "source": [
    "### D4. Cluster the data\n",
    "\n",
    "After finding the optimal amount of clusters, we only have to run the `KMeans` algorithm once more to cluster the data. Thereafter, we will combine the data with the `clustering labels` into a single Pandas data frame. This final data frame we will use to further investigate the different `bidding behaviours`."
   ]
  },
  {
   "cell_type": "code",
   "execution_count": 51,
   "metadata": {},
   "outputs": [],
   "source": [
    "# Execute the KMeans algorithm to cluster the data.\n",
    "kmeans = KMeans(\n",
    "    init= 'k-means++', \n",
    "    n_clusters=optimal_amount_of_clusters, \n",
    "    random_state=0,\n",
    "    n_init=10\n",
    "    ).fit(scaled_data)"
   ]
  },
  {
   "cell_type": "code",
   "execution_count": 52,
   "metadata": {},
   "outputs": [
    {
     "data": {
      "text/html": [
       "<div>\n",
       "<style scoped>\n",
       "    .dataframe tbody tr th:only-of-type {\n",
       "        vertical-align: middle;\n",
       "    }\n",
       "\n",
       "    .dataframe tbody tr th {\n",
       "        vertical-align: top;\n",
       "    }\n",
       "\n",
       "    .dataframe thead th {\n",
       "        text-align: right;\n",
       "    }\n",
       "</style>\n",
       "<table border=\"1\" class=\"dataframe\">\n",
       "  <thead>\n",
       "    <tr style=\"text-align: right;\">\n",
       "      <th></th>\n",
       "      <th>auctionID</th>\n",
       "      <th>LotNr</th>\n",
       "      <th>AccountID</th>\n",
       "      <th>NOB</th>\n",
       "      <th>ABP</th>\n",
       "      <th>HBP</th>\n",
       "      <th>TOE</th>\n",
       "      <th>TOX</th>\n",
       "      <th>Duration</th>\n",
       "      <th>cluster</th>\n",
       "    </tr>\n",
       "  </thead>\n",
       "  <tbody>\n",
       "    <tr>\n",
       "      <th>0</th>\n",
       "      <td>200001</td>\n",
       "      <td>1</td>\n",
       "      <td>2623749</td>\n",
       "      <td>3</td>\n",
       "      <td>31000.0</td>\n",
       "      <td>34000.0</td>\n",
       "      <td>0.998297</td>\n",
       "      <td>0.999567</td>\n",
       "      <td>26262.533333</td>\n",
       "      <td>0</td>\n",
       "    </tr>\n",
       "    <tr>\n",
       "      <th>1</th>\n",
       "      <td>200001</td>\n",
       "      <td>1</td>\n",
       "      <td>2694572</td>\n",
       "      <td>4</td>\n",
       "      <td>23500.0</td>\n",
       "      <td>25000.0</td>\n",
       "      <td>0.954183</td>\n",
       "      <td>0.989500</td>\n",
       "      <td>26262.533333</td>\n",
       "      <td>0</td>\n",
       "    </tr>\n",
       "    <tr>\n",
       "      <th>2</th>\n",
       "      <td>200001</td>\n",
       "      <td>1</td>\n",
       "      <td>2785630</td>\n",
       "      <td>1</td>\n",
       "      <td>22500.0</td>\n",
       "      <td>22500.0</td>\n",
       "      <td>0.956727</td>\n",
       "      <td>0.956727</td>\n",
       "      <td>26262.533333</td>\n",
       "      <td>0</td>\n",
       "    </tr>\n",
       "    <tr>\n",
       "      <th>3</th>\n",
       "      <td>200001</td>\n",
       "      <td>1</td>\n",
       "      <td>2851482</td>\n",
       "      <td>2</td>\n",
       "      <td>19000.0</td>\n",
       "      <td>19500.0</td>\n",
       "      <td>0.455016</td>\n",
       "      <td>0.629394</td>\n",
       "      <td>26262.533333</td>\n",
       "      <td>2</td>\n",
       "    </tr>\n",
       "    <tr>\n",
       "      <th>4</th>\n",
       "      <td>200001</td>\n",
       "      <td>1</td>\n",
       "      <td>2930599</td>\n",
       "      <td>3</td>\n",
       "      <td>19000.0</td>\n",
       "      <td>20000.0</td>\n",
       "      <td>0.400309</td>\n",
       "      <td>0.683017</td>\n",
       "      <td>26262.533333</td>\n",
       "      <td>2</td>\n",
       "    </tr>\n",
       "    <tr>\n",
       "      <th>...</th>\n",
       "      <td>...</td>\n",
       "      <td>...</td>\n",
       "      <td>...</td>\n",
       "      <td>...</td>\n",
       "      <td>...</td>\n",
       "      <td>...</td>\n",
       "      <td>...</td>\n",
       "      <td>...</td>\n",
       "      <td>...</td>\n",
       "      <td>...</td>\n",
       "    </tr>\n",
       "    <tr>\n",
       "      <th>1136256</th>\n",
       "      <td>210455</td>\n",
       "      <td>509</td>\n",
       "      <td>2919997</td>\n",
       "      <td>1</td>\n",
       "      <td>15.0</td>\n",
       "      <td>15.0</td>\n",
       "      <td>0.192513</td>\n",
       "      <td>0.192513</td>\n",
       "      <td>46.750000</td>\n",
       "      <td>1</td>\n",
       "    </tr>\n",
       "    <tr>\n",
       "      <th>1136257</th>\n",
       "      <td>210455</td>\n",
       "      <td>509</td>\n",
       "      <td>3328984</td>\n",
       "      <td>1</td>\n",
       "      <td>10.0</td>\n",
       "      <td>10.0</td>\n",
       "      <td>0.000000</td>\n",
       "      <td>0.000000</td>\n",
       "      <td>46.750000</td>\n",
       "      <td>1</td>\n",
       "    </tr>\n",
       "    <tr>\n",
       "      <th>1136258</th>\n",
       "      <td>210455</td>\n",
       "      <td>516</td>\n",
       "      <td>2834863</td>\n",
       "      <td>1</td>\n",
       "      <td>10.0</td>\n",
       "      <td>10.0</td>\n",
       "      <td>0.000000</td>\n",
       "      <td>0.000000</td>\n",
       "      <td>7027.983333</td>\n",
       "      <td>1</td>\n",
       "    </tr>\n",
       "    <tr>\n",
       "      <th>1136259</th>\n",
       "      <td>210455</td>\n",
       "      <td>516</td>\n",
       "      <td>3170566</td>\n",
       "      <td>1</td>\n",
       "      <td>15.0</td>\n",
       "      <td>15.0</td>\n",
       "      <td>0.928540</td>\n",
       "      <td>0.928540</td>\n",
       "      <td>7027.983333</td>\n",
       "      <td>0</td>\n",
       "    </tr>\n",
       "    <tr>\n",
       "      <th>1136260</th>\n",
       "      <td>210455</td>\n",
       "      <td>516</td>\n",
       "      <td>3328984</td>\n",
       "      <td>1</td>\n",
       "      <td>20.0</td>\n",
       "      <td>20.0</td>\n",
       "      <td>0.999225</td>\n",
       "      <td>0.999225</td>\n",
       "      <td>7027.983333</td>\n",
       "      <td>0</td>\n",
       "    </tr>\n",
       "  </tbody>\n",
       "</table>\n",
       "<p>1136261 rows × 10 columns</p>\n",
       "</div>"
      ],
      "text/plain": [
       "         auctionID  LotNr  AccountID  NOB      ABP      HBP       TOE  \\\n",
       "0           200001      1    2623749    3  31000.0  34000.0  0.998297   \n",
       "1           200001      1    2694572    4  23500.0  25000.0  0.954183   \n",
       "2           200001      1    2785630    1  22500.0  22500.0  0.956727   \n",
       "3           200001      1    2851482    2  19000.0  19500.0  0.455016   \n",
       "4           200001      1    2930599    3  19000.0  20000.0  0.400309   \n",
       "...            ...    ...        ...  ...      ...      ...       ...   \n",
       "1136256     210455    509    2919997    1     15.0     15.0  0.192513   \n",
       "1136257     210455    509    3328984    1     10.0     10.0  0.000000   \n",
       "1136258     210455    516    2834863    1     10.0     10.0  0.000000   \n",
       "1136259     210455    516    3170566    1     15.0     15.0  0.928540   \n",
       "1136260     210455    516    3328984    1     20.0     20.0  0.999225   \n",
       "\n",
       "              TOX      Duration  cluster  \n",
       "0        0.999567  26262.533333        0  \n",
       "1        0.989500  26262.533333        0  \n",
       "2        0.956727  26262.533333        0  \n",
       "3        0.629394  26262.533333        2  \n",
       "4        0.683017  26262.533333        2  \n",
       "...           ...           ...      ...  \n",
       "1136256  0.192513     46.750000        1  \n",
       "1136257  0.000000     46.750000        1  \n",
       "1136258  0.000000   7027.983333        1  \n",
       "1136259  0.928540   7027.983333        0  \n",
       "1136260  0.999225   7027.983333        0  \n",
       "\n",
       "[1136261 rows x 10 columns]"
      ]
     },
     "execution_count": 52,
     "metadata": {},
     "output_type": "execute_result"
    }
   ],
   "source": [
    "# Append the clustering labels to the bid statistics.\n",
    "bid_statistic['cluster'] = kmeans.labels_\n",
    "bid_statistic"
   ]
  },
  {
   "cell_type": "markdown",
   "metadata": {},
   "source": [
    "#### Questions D4\n",
    "* `Q_D4` - What are the amount of rows assigned to all clusters?"
   ]
  },
  {
   "cell_type": "code",
   "execution_count": 53,
   "metadata": {},
   "outputs": [
    {
     "data": {
      "text/plain": [
       "Counter({0: 592794, 1: 296136, 2: 247331})"
      ]
     },
     "execution_count": 53,
     "metadata": {},
     "output_type": "execute_result"
    }
   ],
   "source": [
    "Counter(bid_statistic['cluster'])"
   ]
  },
  {
   "cell_type": "code",
   "execution_count": 54,
   "metadata": {},
   "outputs": [
    {
     "name": "stdout",
     "output_type": "stream",
     "text": [
      "🟢 That's correct!       \n"
     ]
    },
    {
     "data": {
      "text/plain": [
       "{'0': 592794, '1': 296136, '2': 247331}"
      ]
     },
     "metadata": {},
     "output_type": "display_data"
    }
   ],
   "source": [
    "#TODO: Fill in the values of the dictionary below\n",
    "Q_D4 = {\n",
    "    \"0\":592794,\n",
    "    \"1\":296136,\n",
    "    \"2\":247331\n",
    "}\n",
    "\n",
    "module.check(\"D4\", Q_D4)"
   ]
  },
  {
   "cell_type": "markdown",
   "metadata": {},
   "source": [
    "### D5. Extract cluster characteristics\n",
    "\n",
    "Solemnly having the data clustered does not really have any `descriptive business value`. What we want to see is what these clusters imply, which is done through extraction of `cluster characteristics`. In a similar manner as we extracted the clustering characteristics, we can apply Pandas `Groupby` to extract these values. What we would like to see is the following average values for all clusters separately:\n",
    "* `NOB` - Average Number Of Bids; <br>\n",
    "* `ABP` - Average Bid Price; <br>\n",
    "* `HBP` - Average Highest Bid Price; <br>\n",
    "* `TOE` - Average Time Of Entry; <br>\n",
    "* `TOX` - Average Time Of Exit. <br>\n",
    "\n",
    "Use the Pandas `.groupby().agg()` function to extract these features from the bid statistics. Make sure to groupby the `cluster` column, to ensure that the charateristics are calculated for every distinct cluster separately."
   ]
  },
  {
   "cell_type": "code",
   "execution_count": 55,
   "metadata": {},
   "outputs": [
    {
     "data": {
      "text/html": [
       "<div>\n",
       "<style scoped>\n",
       "    .dataframe tbody tr th:only-of-type {\n",
       "        vertical-align: middle;\n",
       "    }\n",
       "\n",
       "    .dataframe tbody tr th {\n",
       "        vertical-align: top;\n",
       "    }\n",
       "\n",
       "    .dataframe thead tr th {\n",
       "        text-align: left;\n",
       "    }\n",
       "\n",
       "    .dataframe thead tr:last-of-type th {\n",
       "        text-align: right;\n",
       "    }\n",
       "</style>\n",
       "<table border=\"1\" class=\"dataframe\">\n",
       "  <thead>\n",
       "    <tr>\n",
       "      <th></th>\n",
       "      <th>NOB</th>\n",
       "      <th>ABP</th>\n",
       "      <th>HBP</th>\n",
       "      <th>TOE</th>\n",
       "      <th>TOX</th>\n",
       "    </tr>\n",
       "    <tr>\n",
       "      <th></th>\n",
       "      <th>mean</th>\n",
       "      <th>mean</th>\n",
       "      <th>mean</th>\n",
       "      <th>mean</th>\n",
       "      <th>mean</th>\n",
       "    </tr>\n",
       "    <tr>\n",
       "      <th>cluster</th>\n",
       "      <th></th>\n",
       "      <th></th>\n",
       "      <th></th>\n",
       "      <th></th>\n",
       "      <th></th>\n",
       "    </tr>\n",
       "  </thead>\n",
       "  <tbody>\n",
       "    <tr>\n",
       "      <th>0</th>\n",
       "      <td>2.935153</td>\n",
       "      <td>569.412425</td>\n",
       "      <td>660.483315</td>\n",
       "      <td>0.924981</td>\n",
       "      <td>0.957024</td>\n",
       "    </tr>\n",
       "    <tr>\n",
       "      <th>1</th>\n",
       "      <td>1.547005</td>\n",
       "      <td>251.000293</td>\n",
       "      <td>278.914968</td>\n",
       "      <td>0.062987</td>\n",
       "      <td>0.086264</td>\n",
       "    </tr>\n",
       "    <tr>\n",
       "      <th>2</th>\n",
       "      <td>3.966066</td>\n",
       "      <td>453.819655</td>\n",
       "      <td>602.468527</td>\n",
       "      <td>0.290776</td>\n",
       "      <td>0.751338</td>\n",
       "    </tr>\n",
       "  </tbody>\n",
       "</table>\n",
       "</div>"
      ],
      "text/plain": [
       "              NOB         ABP         HBP       TOE       TOX\n",
       "             mean        mean        mean      mean      mean\n",
       "cluster                                                      \n",
       "0        2.935153  569.412425  660.483315  0.924981  0.957024\n",
       "1        1.547005  251.000293  278.914968  0.062987  0.086264\n",
       "2        3.966066  453.819655  602.468527  0.290776  0.751338"
      ]
     },
     "execution_count": 55,
     "metadata": {},
     "output_type": "execute_result"
    }
   ],
   "source": [
    "#TODO: Apply the .groupby().agg({}) function to extract the cluster characteristics.\n",
    "cluster_statistics = bid_statistic.groupby(['cluster']).agg({\n",
    "    'NOB': ['mean'], \n",
    "    'ABP': ['mean'], \n",
    "    'HBP': ['mean'], \n",
    "    'TOE': ['mean'], \n",
    "    'TOX': ['mean']\n",
    "    })\n",
    "\n",
    "cluster_statistics"
   ]
  },
  {
   "cell_type": "markdown",
   "metadata": {},
   "source": [
    "#### Questions D5\n",
    "To answer the questions below, we will ask you to return a complete row of a data frame. This can be done using the `.iloc[row_idx, :]` functionality. Make sure to send in a list by adding `.tolist()` to the end of your iloc statement.\n",
    "\n",
    "* `Q_D5_0` - What are the statistics of the bidder that only places bids at the beginning of an auction? <br>\n",
    "* `Q_D5_1` - What are the statistics of the bidder that places bids for the largest fraction of time a lot is being auctioned? <br>\n",
    "* `Q_D5_2` - What are the statistics of the bidder that only places bids at the end of an auction? <br>"
   ]
  },
  {
   "cell_type": "code",
   "execution_count": 56,
   "metadata": {},
   "outputs": [
    {
     "name": "stdout",
     "output_type": "stream",
     "text": [
      "🟢 That's correct!       \n"
     ]
    },
    {
     "data": {
      "text/plain": [
       "[1.5470054299375962,\n",
       " 251.00029309575794,\n",
       " 278.91496819029095,\n",
       " 0.06298682779635133,\n",
       " 0.08626426772538734]"
      ]
     },
     "metadata": {},
     "output_type": "display_data"
    }
   ],
   "source": [
    "#TODO: Extract the statistics of the early bidder\n",
    "Q_D5_0 = cluster_statistics.iloc[1, :].tolist()\n",
    "\n",
    "module.check(\"D5_0\", Q_D5_0)"
   ]
  },
  {
   "cell_type": "code",
   "execution_count": 57,
   "metadata": {},
   "outputs": [
    {
     "name": "stdout",
     "output_type": "stream",
     "text": [
      "🟢 That's correct!       \n"
     ]
    },
    {
     "data": {
      "text/plain": [
       "[3.9660657176011096,\n",
       " 453.8196546049989,\n",
       " 602.4685269537583,\n",
       " 0.2907756444553201,\n",
       " 0.7513379265837025]"
      ]
     },
     "metadata": {},
     "output_type": "display_data"
    }
   ],
   "source": [
    "#TODO: Extract the statistics of the full duration bidder\n",
    "Q_D5_1 = cluster_statistics.iloc[2, :].tolist()\n",
    "\n",
    "module.check(\"D5_1\", Q_D5_1)"
   ]
  },
  {
   "cell_type": "code",
   "execution_count": 58,
   "metadata": {},
   "outputs": [
    {
     "name": "stdout",
     "output_type": "stream",
     "text": [
      "🟢 That's correct!       \n"
     ]
    },
    {
     "data": {
      "text/plain": [
       "[2.9351528524242823,\n",
       " 569.412424525258,\n",
       " 660.4833150133098,\n",
       " 0.9249807093747386,\n",
       " 0.9570240831407226]"
      ]
     },
     "metadata": {},
     "output_type": "display_data"
    }
   ],
   "source": [
    "#TODO: Extract the statistics of the late bidder\n",
    "Q_D5_2 = cluster_statistics.iloc[0, :].tolist()\n",
    "\n",
    "module.check(\"D5_2\", Q_D5_2)"
   ]
  },
  {
   "cell_type": "markdown",
   "metadata": {},
   "source": [
    "<hr>\n",
    "\n",
    "## E. Predict sale or no-sale\n",
    "After clustering (which is unsupervised learning) we are now going to apply supervised learning in the form of forecasting. To improve the auction platform we want to automate the decision about what the starting bid should be. For this, we will use a prediction model which predicts if a product will be sold. By increasing the starting bid iteratively and continuously checking if a product will be sold, we can define a breaking point. This breaking point is where the product goes from a sold prediction to an unsold prediction, which shows the highest starting bid which will result in a sell. <br>\n",
    "\n",
    "This use case is of course greatly simplified, as the assumption that a higher starting bid will result in a higher final bid is quite a big one. But for the sole purpose of testing whether you understand the fundamentals of supervised learning it will suffice. What we want you to do is the following:\n",
    "* `Merge & Preprocess`: Manually prepare auctions and lots data set and build a `preprocessing pipeline`; <br>\n",
    "* `Train/Test split`: Split the lots data set into a 70/30 train/test split <b>(with `random_state=0`!)</b>; <br>\n",
    "* `Initialize models`: Initialize both the `LogisticRegression` and `RandomForestClassifer` using defaul settings and `random_state=0`; <br>\n",
    "* `Train models`: Train both models on the train set using `.fit(X, y)`; <br>\n",
    "* `Predict`: Use the trained model to predict the labels of the test set using `.predict(X, y)`; <br>\n",
    "* `Evaluate models`: Evaluate the performance of the models using the `accuracy` and plot the `confusion matrix`; <br>\n",
    "* `Save`: Save the best performing model to a `model.pkl` file for later usage; <br>\n",
    "* `Implement`: Integrate the model into `API` to define a starting bid."
   ]
  },
  {
   "cell_type": "markdown",
   "metadata": {},
   "source": [
    "### E1. Merge & Preprocess\n",
    "\n",
    "First we will merge the auctions and lots table using a SQL query, as this is computationally most efficient. Thereafter, two transformations are neede to be done, namely:\n",
    "* `Datetime values` - Transform datetime objects into tangible numeric value; <br>\n",
    "* `Categorical values` - Apply one-hot encoding to categorical variables. <br>\n",
    "\n",
    "After completing these manual preprocessing steps we will create a `preprocessing pipeline`. This enables us to more quickly test out different preprocessing steps, while ensuring that we execute all the steps in the correct order. This prevents the previously explained phenomenon of `data spoilage` to occur. <br>\n",
    "\n",
    "Throughout the steps we will ask you to send in the dimensions of the data frame, by submitting the output of the `.shape` functionality. We transform the Tuple into a list, as our checker function is build to only deal with lists. You do not have to write the code, when you named the data frame correctly then simply run the code and your data frame will be checked."
   ]
  },
  {
   "cell_type": "code",
   "execution_count": 59,
   "metadata": {},
   "outputs": [
    {
     "data": {
      "text/html": [
       "<div>\n",
       "<style scoped>\n",
       "    .dataframe tbody tr th:only-of-type {\n",
       "        vertical-align: middle;\n",
       "    }\n",
       "\n",
       "    .dataframe tbody tr th {\n",
       "        vertical-align: top;\n",
       "    }\n",
       "\n",
       "    .dataframe thead th {\n",
       "        text-align: right;\n",
       "    }\n",
       "</style>\n",
       "<table border=\"1\" class=\"dataframe\">\n",
       "  <thead>\n",
       "    <tr style=\"text-align: right;\">\n",
       "      <th></th>\n",
       "      <th>auctionID</th>\n",
       "      <th>lotNr</th>\n",
       "      <th>numberOfItems</th>\n",
       "      <th>estimatedValue</th>\n",
       "      <th>startingBid</th>\n",
       "      <th>reserveBid</th>\n",
       "      <th>sold</th>\n",
       "      <th>auctionStart</th>\n",
       "      <th>auctionEnd</th>\n",
       "      <th>branchCategory</th>\n",
       "    </tr>\n",
       "  </thead>\n",
       "  <tbody>\n",
       "    <tr>\n",
       "      <th>0</th>\n",
       "      <td>200013</td>\n",
       "      <td>1</td>\n",
       "      <td>1</td>\n",
       "      <td>0.0</td>\n",
       "      <td>10.0</td>\n",
       "      <td>1.0</td>\n",
       "      <td>0</td>\n",
       "      <td>2017-12-19 11:22:29</td>\n",
       "      <td>2018-01-02 14:22:29</td>\n",
       "      <td>consumer</td>\n",
       "    </tr>\n",
       "    <tr>\n",
       "      <th>1</th>\n",
       "      <td>200013</td>\n",
       "      <td>2</td>\n",
       "      <td>1</td>\n",
       "      <td>0.0</td>\n",
       "      <td>25.0</td>\n",
       "      <td>1.0</td>\n",
       "      <td>1</td>\n",
       "      <td>2017-12-19 11:22:29</td>\n",
       "      <td>2018-01-02 14:22:29</td>\n",
       "      <td>consumer</td>\n",
       "    </tr>\n",
       "    <tr>\n",
       "      <th>2</th>\n",
       "      <td>200013</td>\n",
       "      <td>3</td>\n",
       "      <td>1</td>\n",
       "      <td>0.0</td>\n",
       "      <td>25.0</td>\n",
       "      <td>1.0</td>\n",
       "      <td>0</td>\n",
       "      <td>2017-12-19 11:22:29</td>\n",
       "      <td>2018-01-02 14:22:29</td>\n",
       "      <td>consumer</td>\n",
       "    </tr>\n",
       "    <tr>\n",
       "      <th>3</th>\n",
       "      <td>200013</td>\n",
       "      <td>4</td>\n",
       "      <td>1</td>\n",
       "      <td>0.0</td>\n",
       "      <td>25.0</td>\n",
       "      <td>1.0</td>\n",
       "      <td>0</td>\n",
       "      <td>2017-12-19 11:22:29</td>\n",
       "      <td>2018-01-02 14:22:29</td>\n",
       "      <td>consumer</td>\n",
       "    </tr>\n",
       "    <tr>\n",
       "      <th>4</th>\n",
       "      <td>200013</td>\n",
       "      <td>5</td>\n",
       "      <td>66</td>\n",
       "      <td>0.0</td>\n",
       "      <td>10.0</td>\n",
       "      <td>1.0</td>\n",
       "      <td>0</td>\n",
       "      <td>2017-12-19 11:22:29</td>\n",
       "      <td>2018-01-02 14:22:29</td>\n",
       "      <td>consumer</td>\n",
       "    </tr>\n",
       "    <tr>\n",
       "      <th>...</th>\n",
       "      <td>...</td>\n",
       "      <td>...</td>\n",
       "      <td>...</td>\n",
       "      <td>...</td>\n",
       "      <td>...</td>\n",
       "      <td>...</td>\n",
       "      <td>...</td>\n",
       "      <td>...</td>\n",
       "      <td>...</td>\n",
       "      <td>...</td>\n",
       "    </tr>\n",
       "    <tr>\n",
       "      <th>286694</th>\n",
       "      <td>210447</td>\n",
       "      <td>1242</td>\n",
       "      <td>1</td>\n",
       "      <td>700.0</td>\n",
       "      <td>100.0</td>\n",
       "      <td>1.0</td>\n",
       "      <td>1</td>\n",
       "      <td>2019-06-17 15:14:18</td>\n",
       "      <td>2019-06-28 19:14:18</td>\n",
       "      <td>transport</td>\n",
       "    </tr>\n",
       "    <tr>\n",
       "      <th>286695</th>\n",
       "      <td>210447</td>\n",
       "      <td>1243</td>\n",
       "      <td>1</td>\n",
       "      <td>1000.0</td>\n",
       "      <td>100.0</td>\n",
       "      <td>1.0</td>\n",
       "      <td>1</td>\n",
       "      <td>2019-06-17 15:14:18</td>\n",
       "      <td>2019-06-28 19:14:18</td>\n",
       "      <td>transport</td>\n",
       "    </tr>\n",
       "    <tr>\n",
       "      <th>286696</th>\n",
       "      <td>210447</td>\n",
       "      <td>1244</td>\n",
       "      <td>1</td>\n",
       "      <td>700.0</td>\n",
       "      <td>100.0</td>\n",
       "      <td>1.0</td>\n",
       "      <td>1</td>\n",
       "      <td>2019-06-17 15:14:18</td>\n",
       "      <td>2019-06-28 19:14:18</td>\n",
       "      <td>transport</td>\n",
       "    </tr>\n",
       "    <tr>\n",
       "      <th>286697</th>\n",
       "      <td>210447</td>\n",
       "      <td>1245</td>\n",
       "      <td>1</td>\n",
       "      <td>700.0</td>\n",
       "      <td>100.0</td>\n",
       "      <td>1.0</td>\n",
       "      <td>1</td>\n",
       "      <td>2019-06-17 15:14:18</td>\n",
       "      <td>2019-06-28 19:14:18</td>\n",
       "      <td>transport</td>\n",
       "    </tr>\n",
       "    <tr>\n",
       "      <th>286698</th>\n",
       "      <td>210447</td>\n",
       "      <td>1246</td>\n",
       "      <td>1</td>\n",
       "      <td>1000.0</td>\n",
       "      <td>100.0</td>\n",
       "      <td>1.0</td>\n",
       "      <td>1</td>\n",
       "      <td>2019-06-17 15:14:18</td>\n",
       "      <td>2019-06-28 19:14:18</td>\n",
       "      <td>transport</td>\n",
       "    </tr>\n",
       "  </tbody>\n",
       "</table>\n",
       "<p>286699 rows × 10 columns</p>\n",
       "</div>"
      ],
      "text/plain": [
       "        auctionID  lotNr  numberOfItems  estimatedValue  startingBid  \\\n",
       "0          200013      1              1             0.0         10.0   \n",
       "1          200013      2              1             0.0         25.0   \n",
       "2          200013      3              1             0.0         25.0   \n",
       "3          200013      4              1             0.0         25.0   \n",
       "4          200013      5             66             0.0         10.0   \n",
       "...           ...    ...            ...             ...          ...   \n",
       "286694     210447   1242              1           700.0        100.0   \n",
       "286695     210447   1243              1          1000.0        100.0   \n",
       "286696     210447   1244              1           700.0        100.0   \n",
       "286697     210447   1245              1           700.0        100.0   \n",
       "286698     210447   1246              1          1000.0        100.0   \n",
       "\n",
       "        reserveBid  sold         auctionStart           auctionEnd  \\\n",
       "0              1.0     0  2017-12-19 11:22:29  2018-01-02 14:22:29   \n",
       "1              1.0     1  2017-12-19 11:22:29  2018-01-02 14:22:29   \n",
       "2              1.0     0  2017-12-19 11:22:29  2018-01-02 14:22:29   \n",
       "3              1.0     0  2017-12-19 11:22:29  2018-01-02 14:22:29   \n",
       "4              1.0     0  2017-12-19 11:22:29  2018-01-02 14:22:29   \n",
       "...            ...   ...                  ...                  ...   \n",
       "286694         1.0     1  2019-06-17 15:14:18  2019-06-28 19:14:18   \n",
       "286695         1.0     1  2019-06-17 15:14:18  2019-06-28 19:14:18   \n",
       "286696         1.0     1  2019-06-17 15:14:18  2019-06-28 19:14:18   \n",
       "286697         1.0     1  2019-06-17 15:14:18  2019-06-28 19:14:18   \n",
       "286698         1.0     1  2019-06-17 15:14:18  2019-06-28 19:14:18   \n",
       "\n",
       "       branchCategory  \n",
       "0            consumer  \n",
       "1            consumer  \n",
       "2            consumer  \n",
       "3            consumer  \n",
       "4            consumer  \n",
       "...               ...  \n",
       "286694      transport  \n",
       "286695      transport  \n",
       "286696      transport  \n",
       "286697      transport  \n",
       "286698      transport  \n",
       "\n",
       "[286699 rows x 10 columns]"
      ]
     },
     "execution_count": 59,
     "metadata": {},
     "output_type": "execute_result"
    }
   ],
   "source": [
    "#TODO: Write a SQL query with a left join of auctions on lots.auctionID = auctions.id\n",
    "sql_merge_query = \"\"\"\n",
    "                SELECT\n",
    "                    lots.auctionID, \n",
    "                    lots.lotNr, \n",
    "                    lots.numberOfItems, \n",
    "                    lots.estimatedValue, \n",
    "                    lots.startingBid,\n",
    "                    lots.reserveBid,\n",
    "                    lots.sold,\n",
    "                    auctions.auctionStart,\n",
    "                    auctions.auctionEnd,\n",
    "                    auctions.branchCategory\n",
    "                FROM lots\n",
    "                LEFT JOIN auctions ON \n",
    "                    lots.auctionID = auctions.id\n",
    "                  \"\"\"\n",
    "\n",
    "Lots_Sales_Pred = pandas_df_from_database(query=sql_merge_query)\n",
    "Lots_Sales_Pred"
   ]
  },
  {
   "cell_type": "code",
   "execution_count": 70,
   "metadata": {},
   "outputs": [
    {
     "name": "stdout",
     "output_type": "stream",
     "text": [
      "🟢 That's correct!       \n"
     ]
    },
    {
     "data": {
      "text/plain": [
       "[286699, 10]"
      ]
     },
     "metadata": {},
     "output_type": "display_data"
    }
   ],
   "source": [
    "#TODO: Submit the shape of the data frame.\n",
    "Q_E1 = list(Lots_Sales_Pred.shape)\n",
    "\n",
    "module.check(\"E1\", Q_E1)"
   ]
  },
  {
   "cell_type": "code",
   "execution_count": 71,
   "metadata": {},
   "outputs": [
    {
     "data": {
      "text/html": [
       "<div>\n",
       "<style scoped>\n",
       "    .dataframe tbody tr th:only-of-type {\n",
       "        vertical-align: middle;\n",
       "    }\n",
       "\n",
       "    .dataframe tbody tr th {\n",
       "        vertical-align: top;\n",
       "    }\n",
       "\n",
       "    .dataframe thead th {\n",
       "        text-align: right;\n",
       "    }\n",
       "</style>\n",
       "<table border=\"1\" class=\"dataframe\">\n",
       "  <thead>\n",
       "    <tr style=\"text-align: right;\">\n",
       "      <th></th>\n",
       "      <th>auctionID</th>\n",
       "      <th>lotNr</th>\n",
       "      <th>numberOfItems</th>\n",
       "      <th>estimatedValue</th>\n",
       "      <th>startingBid</th>\n",
       "      <th>reserveBid</th>\n",
       "      <th>sold</th>\n",
       "      <th>branchCategory</th>\n",
       "      <th>auctionDuration</th>\n",
       "    </tr>\n",
       "  </thead>\n",
       "  <tbody>\n",
       "    <tr>\n",
       "      <th>0</th>\n",
       "      <td>200013</td>\n",
       "      <td>1</td>\n",
       "      <td>1</td>\n",
       "      <td>0.0</td>\n",
       "      <td>10.0</td>\n",
       "      <td>1.0</td>\n",
       "      <td>0</td>\n",
       "      <td>consumer</td>\n",
       "      <td>339.0</td>\n",
       "    </tr>\n",
       "    <tr>\n",
       "      <th>1</th>\n",
       "      <td>200013</td>\n",
       "      <td>2</td>\n",
       "      <td>1</td>\n",
       "      <td>0.0</td>\n",
       "      <td>25.0</td>\n",
       "      <td>1.0</td>\n",
       "      <td>1</td>\n",
       "      <td>consumer</td>\n",
       "      <td>339.0</td>\n",
       "    </tr>\n",
       "    <tr>\n",
       "      <th>2</th>\n",
       "      <td>200013</td>\n",
       "      <td>3</td>\n",
       "      <td>1</td>\n",
       "      <td>0.0</td>\n",
       "      <td>25.0</td>\n",
       "      <td>1.0</td>\n",
       "      <td>0</td>\n",
       "      <td>consumer</td>\n",
       "      <td>339.0</td>\n",
       "    </tr>\n",
       "    <tr>\n",
       "      <th>3</th>\n",
       "      <td>200013</td>\n",
       "      <td>4</td>\n",
       "      <td>1</td>\n",
       "      <td>0.0</td>\n",
       "      <td>25.0</td>\n",
       "      <td>1.0</td>\n",
       "      <td>0</td>\n",
       "      <td>consumer</td>\n",
       "      <td>339.0</td>\n",
       "    </tr>\n",
       "    <tr>\n",
       "      <th>4</th>\n",
       "      <td>200013</td>\n",
       "      <td>5</td>\n",
       "      <td>66</td>\n",
       "      <td>0.0</td>\n",
       "      <td>10.0</td>\n",
       "      <td>1.0</td>\n",
       "      <td>0</td>\n",
       "      <td>consumer</td>\n",
       "      <td>339.0</td>\n",
       "    </tr>\n",
       "    <tr>\n",
       "      <th>...</th>\n",
       "      <td>...</td>\n",
       "      <td>...</td>\n",
       "      <td>...</td>\n",
       "      <td>...</td>\n",
       "      <td>...</td>\n",
       "      <td>...</td>\n",
       "      <td>...</td>\n",
       "      <td>...</td>\n",
       "      <td>...</td>\n",
       "    </tr>\n",
       "    <tr>\n",
       "      <th>286694</th>\n",
       "      <td>210447</td>\n",
       "      <td>1242</td>\n",
       "      <td>1</td>\n",
       "      <td>700.0</td>\n",
       "      <td>100.0</td>\n",
       "      <td>1.0</td>\n",
       "      <td>1</td>\n",
       "      <td>transport</td>\n",
       "      <td>268.0</td>\n",
       "    </tr>\n",
       "    <tr>\n",
       "      <th>286695</th>\n",
       "      <td>210447</td>\n",
       "      <td>1243</td>\n",
       "      <td>1</td>\n",
       "      <td>1000.0</td>\n",
       "      <td>100.0</td>\n",
       "      <td>1.0</td>\n",
       "      <td>1</td>\n",
       "      <td>transport</td>\n",
       "      <td>268.0</td>\n",
       "    </tr>\n",
       "    <tr>\n",
       "      <th>286696</th>\n",
       "      <td>210447</td>\n",
       "      <td>1244</td>\n",
       "      <td>1</td>\n",
       "      <td>700.0</td>\n",
       "      <td>100.0</td>\n",
       "      <td>1.0</td>\n",
       "      <td>1</td>\n",
       "      <td>transport</td>\n",
       "      <td>268.0</td>\n",
       "    </tr>\n",
       "    <tr>\n",
       "      <th>286697</th>\n",
       "      <td>210447</td>\n",
       "      <td>1245</td>\n",
       "      <td>1</td>\n",
       "      <td>700.0</td>\n",
       "      <td>100.0</td>\n",
       "      <td>1.0</td>\n",
       "      <td>1</td>\n",
       "      <td>transport</td>\n",
       "      <td>268.0</td>\n",
       "    </tr>\n",
       "    <tr>\n",
       "      <th>286698</th>\n",
       "      <td>210447</td>\n",
       "      <td>1246</td>\n",
       "      <td>1</td>\n",
       "      <td>1000.0</td>\n",
       "      <td>100.0</td>\n",
       "      <td>1.0</td>\n",
       "      <td>1</td>\n",
       "      <td>transport</td>\n",
       "      <td>268.0</td>\n",
       "    </tr>\n",
       "  </tbody>\n",
       "</table>\n",
       "<p>286699 rows × 9 columns</p>\n",
       "</div>"
      ],
      "text/plain": [
       "        auctionID  lotNr  numberOfItems  estimatedValue  startingBid  \\\n",
       "0          200013      1              1             0.0         10.0   \n",
       "1          200013      2              1             0.0         25.0   \n",
       "2          200013      3              1             0.0         25.0   \n",
       "3          200013      4              1             0.0         25.0   \n",
       "4          200013      5             66             0.0         10.0   \n",
       "...           ...    ...            ...             ...          ...   \n",
       "286694     210447   1242              1           700.0        100.0   \n",
       "286695     210447   1243              1          1000.0        100.0   \n",
       "286696     210447   1244              1           700.0        100.0   \n",
       "286697     210447   1245              1           700.0        100.0   \n",
       "286698     210447   1246              1          1000.0        100.0   \n",
       "\n",
       "        reserveBid  sold branchCategory  auctionDuration  \n",
       "0              1.0     0       consumer            339.0  \n",
       "1              1.0     1       consumer            339.0  \n",
       "2              1.0     0       consumer            339.0  \n",
       "3              1.0     0       consumer            339.0  \n",
       "4              1.0     0       consumer            339.0  \n",
       "...            ...   ...            ...              ...  \n",
       "286694         1.0     1      transport            268.0  \n",
       "286695         1.0     1      transport            268.0  \n",
       "286696         1.0     1      transport            268.0  \n",
       "286697         1.0     1      transport            268.0  \n",
       "286698         1.0     1      transport            268.0  \n",
       "\n",
       "[286699 rows x 9 columns]"
      ]
     },
     "execution_count": 71,
     "metadata": {},
     "output_type": "execute_result"
    }
   ],
   "source": [
    "# Transform auctionStart and auctionEnd into a single column depicting the duration of the auction in hours\n",
    "Lots_Sales_Pred[['auctionStart', 'auctionEnd']] = Lots_Sales_Pred[['auctionStart', 'auctionEnd']].apply(pd.to_datetime, errors='coerce') \n",
    "Lots_Sales_Pred['auctionDuration'] = (Lots_Sales_Pred['auctionEnd'] - Lots_Sales_Pred['auctionStart']).apply(lambda x: abs(x/pd.Timedelta('1 hour')))\n",
    "Lots_Sales_Pred.drop(['auctionStart', 'auctionEnd'], axis=1, inplace=True)\n",
    "\n",
    "Lots_Sales_Pred"
   ]
  },
  {
   "cell_type": "code",
   "execution_count": 72,
   "metadata": {},
   "outputs": [],
   "source": [
    "#TODO: Fill in the blanks below to complete the pipeline creation function.\n",
    "def create_pipeline(scaler, encoder, clf, cat_col:list, num_col:list) -> Pipeline:\n",
    "    \"\"\"\n",
    "    Take the imputer, scaler, encoder and classifier and create and return a sklearn pipeline.\n",
    "\n",
    "    Args:\n",
    "        scaler (_type_): Scaling module, used to scale the data to a set range of values.\n",
    "        encoder (_type_): Encoding module, used to transform categorical values to a workable format.\n",
    "        clf (_type_): Classification model, which can be any model from the sklearn classification model catalog.\n",
    "        cat_col (list): A list of the categorical columns that need to be transformed.\n",
    "        num_col (list): A list of the numerical columns that need to be transformed.\n",
    "\n",
    "    Returns:\n",
    "        Pipeline: Pipeline containing all preprocessing and classification models.\n",
    "    \"\"\"\n",
    "    # 2 sub-pipelines, one for numeric features, other for categorical ones\n",
    "    numeric_pipe = make_pipeline(scaler)\n",
    "    categorical_pipe = make_pipeline(encoder)\n",
    "\n",
    "    # Using categorical pipe for feature State, numeric pipe otherwise\n",
    "    preprocessor = make_column_transformer((categorical_pipe, cat_col), \n",
    "                                            (numeric_pipe, num_col),\n",
    "                                            remainder='passthrough')\n",
    "    \n",
    "    return Pipeline(steps=[('preprocess', preprocessor), ('clf', clf)])"
   ]
  },
  {
   "cell_type": "markdown",
   "metadata": {},
   "source": [
    "### E2. Train/Test Split\n",
    "\n",
    "The quality of the `supervised learning` method is in a big way dependent on de amount of data that is available. As we have to split the data into a `train and test set`, the set used for training the model also decreases in size. For this reason it is a must to put this data to good use to get a reliable evaluation of the performance of different models. <br>\n",
    "\n",
    "Using the `train_test_split()` function we will create a 70/30 train/test split. Please make sure to set the `random_state` to 0, to retrieve similar answers everytime you run the code. This is needed to help our `evaluation functions` to work properly as well."
   ]
  },
  {
   "cell_type": "code",
   "execution_count": 73,
   "metadata": {},
   "outputs": [
    {
     "name": "stdout",
     "output_type": "stream",
     "text": [
      "Created a training set containing 200689 records and a test set containing 86010 records\n"
     ]
    }
   ],
   "source": [
    "# First split the data in independent (X) and dependent (y) variables\n",
    "X_sale = Lots_Sales_Pred.copy().drop(['auctionID', 'lotNr', 'sold'], axis=1)\n",
    "y_sale = Lots_Sales_Pred['sold'].copy()\n",
    "\n",
    "X_train, X_test, y_train, y_test = train_test_split(X_sale, y_sale, test_size=0.3, random_state=0)\n",
    "print(f'Created a training set containing {len(X_train)} records and a test set containing {len(X_test)} records')"
   ]
  },
  {
   "cell_type": "code",
   "execution_count": 75,
   "metadata": {},
   "outputs": [
    {
     "name": "stdout",
     "output_type": "stream",
     "text": [
      "🟢 That's correct!       \n"
     ]
    },
    {
     "data": {
      "text/plain": [
       "[[200689, 6], [86010, 6], [200689], [86010]]"
      ]
     },
     "metadata": {},
     "output_type": "display_data"
    }
   ],
   "source": [
    "#TODO: Submit the shape of the data frames.\n",
    "Q_E2 = [list(X_train.shape), list(X_test.shape), list(y_train.shape), list(y_test.shape)]\n",
    "\n",
    "module.check(\"E2\", Q_E2)"
   ]
  },
  {
   "cell_type": "markdown",
   "metadata": {},
   "source": [
    "### E3. Initialize models\n",
    "Before training and using our models, we first have to `initialize` them. For this we will use the Python library `Scikit-Learn`. Please initialize the following models:\n",
    "* `MinMaxScaler()` - Used to scale the numerical data between the values of 0 and 1;\n",
    "* `OneHotEncoder()` - Used to encode the categorical data to either a 1 or 0;\n",
    "* `LogisticRegression()` - First model to test to classify either a sale or no-sale;\n",
    "* `RandomForestClassifier()` - First model to test to classify either a sale or no-sale;"
   ]
  },
  {
   "cell_type": "code",
   "execution_count": null,
   "metadata": {},
   "outputs": [],
   "source": [
    "#TODO: Initialize the scaler and encoder\n",
    "scaler = MinMaxScaler()\n",
    "encoder = OneHotEncoder()\n",
    "\n",
    "# Define columns to pass through scaler and encoder\n",
    "sclr_col = ['numberOfItems', 'estimatedValue', 'startingBid', 'reserveBid', 'auctionDuration']\n",
    "encd_col = ['branchCategory']"
   ]
  },
  {
   "cell_type": "code",
   "execution_count": null,
   "metadata": {},
   "outputs": [],
   "source": [
    "#TODO: Initialize both models.\n",
    "classifiers = [\n",
    "     LogisticRegression(max_iter=5000, random_state=0),\n",
    "     RandomForestClassifier(random_state=0)\n",
    "     ]"
   ]
  },
  {
   "cell_type": "markdown",
   "metadata": {},
   "source": [
    "### E4. Train models and predict\n",
    "Now we have initialized our models, it is time to train them on our data. Training can be done using the `.fit(X,y)` function that is an inherent function of every `scikit-learn` model. Make sure to train the model only on the `train set`, as we will use the `test set` for evaluation of the trained model. Training will be done using a `pipeline`, which ensures that all the preprocessing steps are done in the correct order. To create such a pipeline we utilize the `create_pipeline()` function we developed earlier."
   ]
  },
  {
   "cell_type": "code",
   "execution_count": null,
   "metadata": {},
   "outputs": [],
   "source": [
    "#TODO: Create a dictionary to hold the classification results.\n",
    "predictions_clf = {\n",
    "    'LogisticRegression': None,\n",
    "    'RandomForestClassifier': None\n",
    "    }"
   ]
  },
  {
   "cell_type": "code",
   "execution_count": null,
   "metadata": {},
   "outputs": [],
   "source": [
    "#TODO: Loop over both classifiers, create and fit a pipeline and retrieve the predictions.\n",
    "for clf in classifiers:\n",
    "    name_clf = str(clf).split('(')[0]\n",
    "\n",
    "    # Combine with learning algorithm in another pipeline\n",
    "    pipe = create_pipeline(scaler, encoder, clf, cat_col=encd_col, num_col=sclr_col)\n",
    "    clf_pipe = pipe.fit(X=X_train, y=y_train)\n",
    "\n",
    "    # Save the predicted values in a list\n",
    "    predictions_clf[name_clf] = clf_pipe.predict(X_test)\n",
    "    \n",
    "    # Print the test accuracy\n",
    "    print(f\"{name_clf} test accuracy: {clf_pipe.score(X_test, y_test):.3f}\")"
   ]
  },
  {
   "cell_type": "code",
   "execution_count": null,
   "metadata": {},
   "outputs": [],
   "source": [
    "# Create and print the Confusion Matrix for the Logistic Regression.\n",
    "print(f'Confusion Matrix: Logistic Regression')\n",
    "cm_logRes = confusion_matrix(y_test, predictions_clf['LogisticRegression'])\n",
    "disp = ConfusionMatrixDisplay(cm_logRes, display_labels=['Sold', 'Unsold']).plot()"
   ]
  },
  {
   "cell_type": "code",
   "execution_count": null,
   "metadata": {},
   "outputs": [],
   "source": [
    "#TODO: Transform code to print the Confusion Matrix for the Random Forest Classifier.\n",
    "print(f'Confusion Matrix: Random Forest Classifier')\n",
    "cm_rf = confusion_matrix(y_test, predictions_clf['RandomForestClassifier'])\n",
    "disp = ConfusionMatrixDisplay(cm_rf, display_labels=['Sold', 'Unsold']).plot()"
   ]
  },
  {
   "cell_type": "markdown",
   "metadata": {},
   "source": [
    "### E5. Save model\n",
    "Now we have trained and tested our models, we are able to define which model performs best and thus which model we want to further investigate and/or put into `operation`. Now we will save the best performing model, but before we do we will train a new version on all our data. No train/test set are needed anymore, as we will not test the model against other models. We will solemnly use it, so we can utilize the entire data set to further optimize the performance. <br>\n",
    "\n",
    "To save your model we will use a `pickle (.pkl)` file, which is often used to save objects in Python. We will do this using the `joblib.dump()` function. Later on we can load the .pkl file and retrieve the trained version of our pipeline."
   ]
  },
  {
   "cell_type": "code",
   "execution_count": null,
   "metadata": {},
   "outputs": [],
   "source": [
    "#TODO: Develop and train a new pipeline with the best performing model as classifier:\n",
    "pipe_to_save = create_pipeline(\n",
    "                    scaler=MinMaxScaler(),\n",
    "                    encoder=OneHotEncoder(),\n",
    "                    clf=RandomForestClassifier(random_state=0),\n",
    "                    cat_col=['branchCategory'],\n",
    "                    num_col=['numberOfItems', 'estimatedValue', 'startingBid', 'reserveBid', 'auctionDuration']\n",
    "                    )\n",
    "\n",
    "trained_pipe = pipe_to_save.fit(X=X_sale, y=y_sale)"
   ]
  },
  {
   "cell_type": "code",
   "execution_count": null,
   "metadata": {},
   "outputs": [],
   "source": [
    "#TODO: Use joblib.dump() to save the model with the name \"trained_pipeline.pkl\".\n",
    "joblib.dump(trained_pipe, f\"trained_pipeline.pkl\") "
   ]
  },
  {
   "cell_type": "markdown",
   "metadata": {},
   "source": [
    "### E6. Implement\n",
    "To put our model to use, we will integrate it into the `API` which enables the user to create a lot. When a new lot is created a fundamental step is to decide the `starting price` of the auctioned lot. To make this data driven, your task is to implement the prediction model to automatically set an optimal price. This is done through `incrementally` increasing the starting bid until the lot prediction of the lot goes from sold to unsold. <br>\n",
    "\n",
    "Implementing the automation of the starting bid is of course hugely `simplified`, as it acquiesces on the assumption that a higher starting bid will result in a higher final bid. However, for the sole purpose of deploying an AI model it suffices. <br>\n",
    "\n",
    "To execute this assignment, go to the directory called `app` and open the python file `Services`. Here you need to change the functionality of the `create_lot()` function. Within this function some basis code is already given (which you have to uncomment), to get you up to speed."
   ]
  },
  {
   "cell_type": "markdown",
   "metadata": {},
   "source": [
    "#### Questions E6\n",
    "* `Q_E6` - What is the starting price of the following auction:\n",
    "\n",
    "Using your newly created API in the Swagger UI and test the following auction:\n",
    "* `numberOfItems`: 7; <br>\n",
    "* `estimatedValue`: 100; <br>\n",
    "* `reserveBid`: 1.0; <br>\n",
    "* `branchCategory`: transport; <br>\n",
    "* `auctionDuration`: 250.0; <br>\n",
    "* `min_starting_bid`: 5; <br>\n",
    "* `max_starting_bid`: 155; <br>\n",
    "* `step_size`: 5. <br>"
   ]
  },
  {
   "cell_type": "code",
   "execution_count": null,
   "metadata": {},
   "outputs": [],
   "source": [
    "Q_E6 = ...\n",
    "module.check(\"Q_E6\", Q_E6)"
   ]
  },
  {
   "cell_type": "markdown",
   "metadata": {},
   "source": [
    "### F. Dashboarding\n",
    "Finally we will guide you through the process of connecting your database to a PowerBI dashboard. In most cases, this is a logical step in a Data Science project. Executing the steps below will allow you to start creating a dashboard to gain data insights.\n",
    "* `Setup environment` - Download the `SQLite ODBC driver` and `PowerBI` (if not done already); <br>\n",
    "* `Get Data` - Open PowerBI and press the \"Get Data\" button and make an ODBC connection; <br>\n",
    "* `Settings` - Set DSN to None and open \"Advanced settings\"; <br>\n",
    "* `Connection string` - Write the connection string as follows: `DRIVER={SQLite3 ODBC Driver};Database=C:\\ [PATH TO THIS DIRECTORY] \\database.db`; <br>\n",
    "* `Login` - Write a random username and password (will not be checked but needed to pursue); <Br>\n",
    "* `Load data` - Press \"Load Data\" to get the data into `PowerBI`; <br>\n",
    "* `Bug Fixing` - Fix `many-to-many` cardinality by creating additional column with `auctionLotID` in both lots and bids data set."
   ]
  }
 ],
 "metadata": {
  "kernelspec": {
   "display_name": "bootcamp",
   "language": "python",
   "name": "python3"
  },
  "language_info": {
   "codemirror_mode": {
    "name": "ipython",
    "version": 3
   },
   "file_extension": ".py",
   "mimetype": "text/x-python",
   "name": "python",
   "nbconvert_exporter": "python",
   "pygments_lexer": "ipython3",
   "version": "3.11.5"
  },
  "orig_nbformat": 4,
  "vscode": {
   "interpreter": {
    "hash": "b4079134c0179285e3a55d2e425b94f441ed12cd55a998c83f6f5077fa904635"
   }
  }
 },
 "nbformat": 4,
 "nbformat_minor": 2
}
