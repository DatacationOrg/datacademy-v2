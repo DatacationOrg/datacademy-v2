{
 "cells": [
  {
   "cell_type": "code",
   "execution_count": 1,
   "metadata": {},
   "outputs": [],
   "source": [
    "from datacademy.modules import Module05\n",
    "\n",
    "from api import app\n",
    "\n",
    "module = Module05(app)"
   ]
  },
  {
   "cell_type": "code",
   "execution_count": 2,
   "metadata": {},
   "outputs": [
    {
     "name": "stdout",
     "output_type": "stream",
     "text": [
      "🔵 Checking your answer\r"
     ]
    },
    {
     "name": "stdout",
     "output_type": "stream",
     "text": [
      "🟢 That's correct!       \n"
     ]
    },
    {
     "data": {
      "text/plain": [
       "{'first_name': 'John', 'last_name': 'Doe', 'address': '1948 Conifer Drive'}"
      ]
     },
     "metadata": {},
     "output_type": "display_data"
    }
   ],
   "source": [
    "module.check_get('GET-example', '/get-customer/0')"
   ]
  },
  {
   "cell_type": "code",
   "execution_count": 3,
   "metadata": {},
   "outputs": [
    {
     "name": "stdout",
     "output_type": "stream",
     "text": [
      "🔵 Checking your answer\r"
     ]
    },
    {
     "name": "stdout",
     "output_type": "stream",
     "text": [
      "🟢 That's correct!       \n"
     ]
    },
    {
     "data": {
      "text/plain": [
       "{'first_name': 'Deshawn',\n",
       " 'last_name': 'Booker',\n",
       " 'address': '183 Jadewood Farms'}"
      ]
     },
     "metadata": {},
     "output_type": "display_data"
    }
   ],
   "source": [
    "module.check_get('GET-1', '/get-customer-by-name/Booker')"
   ]
  },
  {
   "cell_type": "code",
   "execution_count": 4,
   "metadata": {},
   "outputs": [
    {
     "name": "stdout",
     "output_type": "stream",
     "text": [
      "🟢 That's correct!       \n"
     ]
    },
    {
     "data": {
      "text/plain": [
       "{'0': {'first_name': 'John',\n",
       "  'last_name': 'Doe',\n",
       "  'address': '1948 Conifer Drive'},\n",
       " '1': {'first_name': 'Arthur',\n",
       "  'last_name': 'Holmes',\n",
       "  'address': '2149 Stockert Hollow Road'},\n",
       " '2': {'first_name': 'Jamie',\n",
       "  'last_name': 'Dean',\n",
       "  'address': '4883 White Lane'}}"
      ]
     },
     "metadata": {},
     "output_type": "display_data"
    }
   ],
   "source": [
    "module.check_get('GET-2', '/get-customers/?limit=3&skip=0')"
   ]
  }
 ],
 "metadata": {
  "kernelspec": {
   "display_name": ".venv",
   "language": "python",
   "name": "python3"
  },
  "language_info": {
   "codemirror_mode": {
    "name": "ipython",
    "version": 3
   },
   "file_extension": ".py",
   "mimetype": "text/x-python",
   "name": "python",
   "nbconvert_exporter": "python",
   "pygments_lexer": "ipython3",
   "version": "3.11.5"
  },
  "orig_nbformat": 4
 },
 "nbformat": 4,
 "nbformat_minor": 2
}
