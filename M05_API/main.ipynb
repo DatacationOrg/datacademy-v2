{
 "cells": [
  {
   "cell_type": "markdown",
   "metadata": {},
   "source": [
    "# Module 5: Application Programming Interfaces (API) Basics\n",
    "In this module, you will get up to speed with (REST) **Application Programming Interfaces (APIs)**.\n",
    "\n",
    "Unlike previous modules, you will not use Jupyter notebooks to write programs in this module. <br>\n",
    "Instead, all instructions are in **Easy-LMS** and this notebook is only to **check your answers** and give you some **guidance**.\n",
    "\n",
    "You will write the code in `api.py` that should be next to this notebook in the `M05_API` folder."
   ]
  },
  {
   "cell_type": "markdown",
   "metadata": {},
   "source": [
    "## Contents\n",
    "* [Setup](#setup)\n",
    "* [General instructions](#general-instructions)\n",
    "* [`GET` requests](#get-requests)\n",
    "  * [Example `GET` request](#example-get-request)\n",
    "  * [Question `GET-1`](#question-get-1)\n",
    "  * [Question `GET-2`](#question-get-2)\n",
    "* [`POST` requests](#post-requests)\n",
    "  * [Example `POST` request](#example-post-request)\n",
    "  * [Question `POST-1`](#question-post-1)\n",
    "* [`PUT` requests](#put-requests)\n",
    "  * [Question `PUT-1`](#question-put-1)\n",
    "* [`DELETE` requests](#delete-requests)\n",
    "  * [Question `DELETE-1`](#question-delete-1)"
   ]
  },
  {
   "cell_type": "markdown",
   "metadata": {},
   "source": [
    "## Setup"
   ]
  },
  {
   "cell_type": "code",
   "execution_count": 1,
   "metadata": {},
   "outputs": [],
   "source": [
    "from datacademy.modules import Module05\n",
    "\n",
    "from api import app\n",
    "\n",
    "module = Module05(app)"
   ]
  },
  {
   "cell_type": "markdown",
   "metadata": {},
   "source": [
    "[Back to top](#module-5-application-programming-interfaces-api-basics)\n",
    "\n",
    "<hr>\n",
    "\n",
    "## General instructions\n",
    "Please read the instructions below to help you get up to speed as fast as possible!\n",
    "\n",
    "#### TODO comments\n",
    "In `api.py`, you will find `# TODO ...` comments that indicate that you should programm an API endpoint here, for example:\n",
    "\n",
    "```python\n",
    "# TODO: Create GET request with end point: \"/get-customer-by-name/{last_name}\"\n",
    "...\n",
    "```\n",
    "Put your function on the dots.\n",
    "\n",
    "#### Data source\n",
    "To keep it simple, we will not be working with a database in this module. Instead, we use the <br>\n",
    "`customers` dictionary as a database. The format is as follows:\n",
    "```python\n",
    "customers = {\n",
    "    0: {\n",
    "        'first_name': 'John',\n",
    "        'last_name': 'Doe',\n",
    "        'address': '1948 Conifer Drive'\n",
    "    },\n",
    "    1: {\n",
    "        'first_name': 'Arthur',\n",
    "        'last_name': 'Holmes',\n",
    "        'address': '2149 Stockert Hollow Road'\n",
    "    },\n",
    "    2: {\n",
    "        'first_name': 'Jamie',\n",
    "        'last_name': 'Dean',\n",
    "        'address': '4883 White Lane'\n",
    "    },\n",
    "    ...\n",
    "}\n",
    "```\n",
    "\n",
    "#### Variable naming\n",
    "Earlier verions of the Datacademy used a different variable naming, they use `camelCase` instead of the current `snake_case`. <br>\n",
    "Easy-LMS might still contain the old naming, but you have to use the new version! Below an overview of the changes:\n",
    "\n",
    "| Old version (what you may see in the instruction) | Current (what you should use) | type | \n",
    "| - | - | - |\n",
    "| `customerId` | `customer_id` | `int` |\n",
    "| `firstName` | `first_name`| `str` |\n",
    "| `lastName` | `last_name` | `str` |\n",
    "| `address` | `address` (unchanged) | `str` |"
   ]
  },
  {
   "cell_type": "markdown",
   "metadata": {},
   "source": [
    "[Back to top](#module-5-application-programming-interfaces-api-basics)\n",
    "\n",
    "<hr>\n",
    "\n",
    "## `GET` requests\n",
    "\n",
    "### Example `GET` request\n",
    "We have already implemented an example `GET` request in `api.py`:\n",
    "\n",
    "```python\n",
    "# Example GET request\n",
    "@app.get('/get-customer/{customer_id}')\n",
    "def get_customer(customer_id: int) -> dict[str, str]:\n",
    "    # See api.py for docs and implementation\n",
    "```\n",
    "\n",
    "This returns the details of the customer based on its ID. Try it below:\n",
    "\n",
    "> **Tip** - Your `uvicorn` is not required to run, it will also work without it being active!"
   ]
  },
  {
   "cell_type": "code",
   "execution_count": 2,
   "metadata": {},
   "outputs": [
    {
     "name": "stdout",
     "output_type": "stream",
     "text": [
      "🔵 Checking your answer\r"
     ]
    },
    {
     "name": "stdout",
     "output_type": "stream",
     "text": [
      "🟢 That's correct!       \n"
     ]
    },
    {
     "data": {
      "text/plain": [
       "{'first_name': 'John', 'last_name': 'Doe', 'address': '1948 Conifer Drive'}"
      ]
     },
     "metadata": {},
     "output_type": "display_data"
    }
   ],
   "source": [
    "module.check_get(\"GET-example\", \"/get-customer/0\")"
   ]
  },
  {
   "cell_type": "markdown",
   "metadata": {},
   "source": [
    "### Question `GET-1`\n",
    "\n",
    "Implement a `GET` endpoint for `/get-customer-by-name/{last_name}`. You should return all details of the customer with the given last name."
   ]
  },
  {
   "cell_type": "code",
   "execution_count": 3,
   "metadata": {},
   "outputs": [
    {
     "name": "stdout",
     "output_type": "stream",
     "text": [
      "🟢 That's correct!       \n"
     ]
    },
    {
     "data": {
      "text/plain": [
       "{'first_name': 'Deshawn',\n",
       " 'last_name': 'Booker',\n",
       " 'address': '183 Jadewood Farms'}"
      ]
     },
     "metadata": {},
     "output_type": "display_data"
    }
   ],
   "source": [
    "module.check_get(\"GET-1\", \"/get-customer-by-name/Booker\")"
   ]
  },
  {
   "cell_type": "markdown",
   "metadata": {},
   "source": [
    "### Question `GET-2`\n",
    "Implement a `GET` endpoint for `/get-customers/` that should accept `skip` (`int`) and `limit` (`int`) as query parameters. <br>\n",
    "It should return all customers with a `skip <= customer_id <= skip + limit`. <br>\n",
    "Please note that it should return a `dict` of the format: `{customer_id: <customer details dict>}`\n"
   ]
  },
  {
   "cell_type": "code",
   "execution_count": 4,
   "metadata": {},
   "outputs": [
    {
     "name": "stdout",
     "output_type": "stream",
     "text": [
      "🟢 That's correct!       \n"
     ]
    },
    {
     "data": {
      "text/plain": [
       "{'0': {'first_name': 'John',\n",
       "  'last_name': 'Doe',\n",
       "  'address': '1948 Conifer Drive'},\n",
       " '1': {'first_name': 'Arthur',\n",
       "  'last_name': 'Holmes',\n",
       "  'address': '2149 Stockert Hollow Road'},\n",
       " '2': {'first_name': 'Jamie',\n",
       "  'last_name': 'Dean',\n",
       "  'address': '4883 White Lane'}}"
      ]
     },
     "metadata": {},
     "output_type": "display_data"
    }
   ],
   "source": [
    "module.check_get(\"GET-2\", \"/get-customers/?limit=3&skip=0\")"
   ]
  },
  {
   "cell_type": "markdown",
   "metadata": {},
   "source": [
    "[Back to top](#module-5-application-programming-interfaces-api-basics)\n",
    "\n",
    "<hr>\n",
    "\n",
    "## `POST` requests"
   ]
  },
  {
   "cell_type": "markdown",
   "metadata": {},
   "source": [
    "### Example `POST` request\n",
    "We've also already implemented an example `POST` request endpoint for the URL `/create-customer/{customer_id}`. <br>\n",
    "Next to the `customer_id` URL paramater, it accepts `first_name`, `last_name` and `address` as query parameters.\n",
    "\n",
    "```python\n",
    "# Example POST request\n",
    "@app.post('/create-customer/{customer_id}')\n",
    "def create_customer(customer_id: int, first_name: str, last_name: str, address: str) -> dict[str, str]:\n",
    "    ...\n",
    "```\n",
    "\n",
    "Try it out below!"
   ]
  },
  {
   "cell_type": "code",
   "execution_count": 5,
   "metadata": {},
   "outputs": [
    {
     "name": "stdout",
     "output_type": "stream",
     "text": [
      "🟢 That's correct!       \n"
     ]
    },
    {
     "data": {
      "text/plain": [
       "{'first_name': 'Jan', 'last_name': 'Janssen', 'address': 'Kerkstraat 10'}"
      ]
     },
     "metadata": {},
     "output_type": "display_data"
    }
   ],
   "source": [
    "module.check_post(\n",
    "    \"POST-example\", \"/create-customer/12?first_name=Jan&last_name=Janssen&address=Kerkstraat 10\", \"/get-customer/12\"\n",
    ")"
   ]
  },
  {
   "cell_type": "markdown",
   "metadata": {},
   "source": [
    "### Question `POST-1`\n",
    "Implement a `POST` endpoint for `/create-customer-auto-increment/`. It is similar to the `POST` example above. <br>\n",
    "However, it should determine a new `customer_id` itself, using an ID of `max(customer_id) + 1`."
   ]
  },
  {
   "cell_type": "code",
   "execution_count": 6,
   "metadata": {},
   "outputs": [
    {
     "name": "stdout",
     "output_type": "stream",
     "text": [
      "🔵 Checking your answer\r"
     ]
    },
    {
     "name": "stdout",
     "output_type": "stream",
     "text": [
      "🟢 That's correct!       \n"
     ]
    },
    {
     "data": {
      "text/plain": [
       "{'first_name': 'Klaas', 'last_name': 'Klaassen', 'address': 'Dorpsstraat 41'}"
      ]
     },
     "metadata": {},
     "output_type": "display_data"
    }
   ],
   "source": [
    "module.check_post(\n",
    "    \"POST-1\",\n",
    "    \"/create-customer-auto-increment/?first_name=Klaas&last_name=Klaassen&address=Dorpsstraat 41\",\n",
    "    \"/get-customer/13\",\n",
    ")"
   ]
  },
  {
   "cell_type": "markdown",
   "metadata": {},
   "source": [
    "[Back to top](#module-5-application-programming-interfaces-api-basics)\n",
    "\n",
    "<hr>\n",
    "\n",
    "## `PUT` requests"
   ]
  },
  {
   "cell_type": "markdown",
   "metadata": {},
   "source": [
    "### Example `PUT` request\n",
    "We've already implemented a `PUT` request endpoint for `/update-customer-address/{customer_id}`. <br>\n",
    "It also accepts `address` as query parameter. As the name suggests, it updates the `address` of the customer with `customer_id`."
   ]
  },
  {
   "cell_type": "code",
   "execution_count": 7,
   "metadata": {},
   "outputs": [
    {
     "name": "stdout",
     "output_type": "stream",
     "text": [
      "🟢 That's correct!       \n"
     ]
    },
    {
     "data": {
      "text/plain": [
       "{'first_name': 'Arthur', 'last_name': 'Holmes', 'address': 'Ons Dorp 100'}"
      ]
     },
     "metadata": {},
     "output_type": "display_data"
    }
   ],
   "source": [
    "module.check_put(\"PUT-example\", \"/update-customer-address/1?address=Ons Dorp 100\", \"/get-customer/1\")"
   ]
  },
  {
   "cell_type": "markdown",
   "metadata": {},
   "source": [
    "### Question `PUT-1`\n",
    "Implement a `PUT` endpoint for `/update-customer-address-by-name/`. Next to `address`, it should take `first_name` and `last_name` as query paramater. <br>\n",
    "It should update the `address` of the customer that has the same `first_name` and `last_name`."
   ]
  },
  {
   "cell_type": "code",
   "execution_count": 8,
   "metadata": {},
   "outputs": [
    {
     "name": "stdout",
     "output_type": "stream",
     "text": [
      "🟢 That's correct!       \n"
     ]
    },
    {
     "data": {
      "text/plain": [
       "{'first_name': 'Axton', 'last_name': 'Rogers', 'address': 'Imaginary street 1'}"
      ]
     },
     "metadata": {},
     "output_type": "display_data"
    }
   ],
   "source": [
    "module.check_put(\n",
    "    \"PUT-1\",\n",
    "    \"/update-customer-address-by-name/?first_name=Axton&last_name=Rogers&address=Imaginary street 1\",\n",
    "    \"/get-customer-by-name/Rogers\",\n",
    ")"
   ]
  },
  {
   "cell_type": "markdown",
   "metadata": {},
   "source": [
    "[Back to top](#module-5-application-programming-interfaces-api-basics)\n",
    "\n",
    "<hr>\n",
    "\n",
    "## `DELETE` requests"
   ]
  },
  {
   "cell_type": "markdown",
   "metadata": {},
   "source": [
    "### Example `DELETE` request\n",
    "We've already implemented an example endpoint for `/delete-customer/{customer_id}`. It removes the customer from `customers`."
   ]
  },
  {
   "cell_type": "code",
   "execution_count": 9,
   "metadata": {},
   "outputs": [
    {
     "name": "stdout",
     "output_type": "stream",
     "text": [
      "🔵 Checking your answer\r"
     ]
    },
    {
     "name": "stdout",
     "output_type": "stream",
     "text": [
      "🟢 That's correct!       \n"
     ]
    },
    {
     "data": {
      "text/plain": [
       "{'Error': 'Customer does not exists yet.'}"
      ]
     },
     "metadata": {},
     "output_type": "display_data"
    }
   ],
   "source": [
    "module.check_delete(\"DELETE-example\", \"/delete-customer/0\", \"/get-customer/0\")"
   ]
  },
  {
   "cell_type": "markdown",
   "metadata": {},
   "source": [
    "### Question `DELETE-1`\n",
    "Implement a `DELETE` endpoint for `/delete-customer-by-name/`. It should take `first_name` and `last_name` <br>\n",
    "as query parameters and remove the corresponding customer from `customers`."
   ]
  },
  {
   "cell_type": "code",
   "execution_count": 10,
   "metadata": {},
   "outputs": [
    {
     "name": "stdout",
     "output_type": "stream",
     "text": [
      "🔵 Checking your answer\r"
     ]
    },
    {
     "name": "stdout",
     "output_type": "stream",
     "text": [
      "🟢 That's correct!       \n"
     ]
    },
    {
     "data": {
      "text/plain": [
       "{'Error': 'Customer does not exists yet.'}"
      ]
     },
     "metadata": {},
     "output_type": "display_data"
    }
   ],
   "source": [
    "module.check_delete(\"DELETE-example\", \"/delete-customer-by-name/?first_name=Jamie&last_name=Dean\", \"/get-customer/2\")"
   ]
  },
  {
   "cell_type": "markdown",
   "metadata": {},
   "source": [
    "[Back to top](#module-5-application-programming-interfaces-api-basics)\n",
    "\n",
    "<hr>\n",
    "\n",
    "## Congratulations!\n",
    "\n",
    "You have succesfully created your API! <br>\n",
    "Some code was already pre-written, as we perceived from our studies that this is the best way to learn this process. <br>\n",
    "\n",
    "If all tests are passed you are allowed to continue to our next module <b>Module 6: Application Programming Interface (API) - Advanced</b>. <br>\n",
    "Feel free to return to this module when you need some example code to develop your APIs in the future, for example in the final assignment."
   ]
  }
 ],
 "metadata": {
  "kernelspec": {
   "display_name": ".venv",
   "language": "python",
   "name": "python3"
  },
  "language_info": {
   "codemirror_mode": {
    "name": "ipython",
    "version": 3
   },
   "file_extension": ".py",
   "mimetype": "text/x-python",
   "name": "python",
   "nbconvert_exporter": "python",
   "pygments_lexer": "ipython3",
   "version": "3.11.5"
  },
  "orig_nbformat": 4
 },
 "nbformat": 4,
 "nbformat_minor": 2
}
