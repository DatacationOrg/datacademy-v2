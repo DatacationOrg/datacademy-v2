{
 "cells": [
  {
   "cell_type": "markdown",
   "metadata": {},
   "source": [
    "# Module 4 - Machine Learning (ML)\n",
    "Throughout this module you will be working through the CRISP-DM model, as shown in the Easy-LMS course. <br>\n",
    "The CRISP-DM model clearly defines the phases of design, creation and evaluation of a Machine Learning (ML) model. <br>\n",
    "For this module, the business understanding and deployment phases are excluded, as they are not suited for this task. <br>\n",
    "You will however learn to deploy your models towards the final module of this Bootcamp!\n",
    "\n",
    "You will be working with a simple, but well-known, dataset called the Iris dataset. <br>\n",
    "This dataset consists of 150 samples of flowers, described using the following characteristics:\n",
    "\n",
    "| **Name** | **Description** |\n",
    "| -------- | --------------- |\n",
    "| `id` | The unique ID reference of the properties. |\n",
    "| `sepal length (cm)` | The length of the outer part of an iris flower that surround the petals. |\n",
    "| `sepal width (mm)` | The width of the outer part of an iris flower that surround the petals. |\n",
    "| `petal length (cm)` | The length of the parts of an iris flower that are often conspicuously colored. |\n",
    "| `petal width (cm)` | The width of the parts of an iris flower that are often conspicuously colored. |\n",
    "| `state` | How moist the plant felt at the time of measurement. |\n",
    "\n",
    "Good luck!\n",
    "\n",
    "## Contents\n",
    "* [A. Data understanding](#a-data-understanding)\n",
    "  * [A1. Pandas DataFrame basic statistics](#a1-pandas-dataframe-basic-statistics)\n",
    "  * [A2. Pandas DataFrame extended statistics](#a2-pandas-dataframe-extended-statistics)\n",
    "  * [Question A1](#question-a1)\n",
    "  * [Question A2](#question-a2)\n",
    "  * [Question A3](#question-a3)\n",
    "* [B. Data preparation](#b-data-preparation)\n",
    "  * [B1. Data integration](#b1-data-integration)\n",
    "  * [B2. Data cleaning](#b2-data-cleaning)\n",
    "  * [Question B1](#question-b1)\n",
    "  * [Question B2](#question-b3)\n",
    "  * [Question B3](#question-b3)\n",
    "  * [B3. Data transformation](#b3-data-transformation)\n",
    "  * [B4. Data (feature) selection](#b4-data-feature-selection)\n",
    "  * [Question B4](#question-b4)\n",
    "  * [B5. Data reduction](#b5-data-reduction)\n",
    "* [C. Modelling](#c-modelling)\n",
    "  * [C1. Unsupervised learning](#c1-unsupervised-learning)\n",
    "  * [C2. Supervised learning](#c2-supervised-learning)\n",
    "  * [Question C1](#question-c1)\n",
    "  * [Question C2](#question-c2)\n",
    "  * [Question C3](#question-c3)\n",
    "* [D. Evaluation](#d-evaluation)\n",
    "  * [D1. Unsupervised learning: KMeans clustering](#d1-unsupervised-learning-kmeans-clustering)\n",
    "  * [Question D1](#question-d1)\n",
    "  * [D2. Supervised learning: classification model](#d2-supervised-learning-classification-model)"
   ]
  },
  {
   "cell_type": "markdown",
   "metadata": {},
   "source": [
    "## Setup\n",
    "Like the previous module, at Datacation we have already pre-written some code for you. <br> \n",
    "This enables you to check your answers and help you access the database that we'll use.\n",
    "\n",
    "We import it below:"
   ]
  },
  {
   "cell_type": "code",
   "execution_count": null,
   "metadata": {},
   "outputs": [],
   "source": [
    "from datacademy.modules import Module04\n",
    "\n",
    "module = Module04()"
   ]
  },
  {
   "cell_type": "markdown",
   "metadata": {},
   "source": [
    "[Back to top](#module-4---machine-learning-ml)\n",
    "\n",
    "<hr>\n",
    "\n",
    "## A. Data understanding\n",
    "We will use the Iris dataset to **analyze**, **classify** and **predict** different Iris plant species. <br>\n",
    "As this is not a task at a company but just for practice, we skip the business understanding and dive directly into the data.\n",
    "\n",
    "The **data understanding phase** is executed to gain insight into the characteristics of the dataset. <br>\n",
    "A first glance on the data might reveal weaknesses, and could tell you which preprocessing steps are needed in the **data preparation phase**.\n",
    "\n",
    "Within Python the mosts used library to work with data is called `pandas`. <br>\n",
    "Pandas saves data in a so-called `DataFrame`, which can be thought of as an SQL table or an Excel worksheet. <br>\n",
    "Such DataFrames can be created manually, however in most cases this is not needed. <br>\n",
    "Pandas allows to read a DataFrame from for example a CSV or Excel file, which prevents the need to define it yourself.\n",
    "\n",
    "It is common practice to save a DataFrame into the variable `df`. <br>\n",
    "You can use this variable to access al the data in the other steps.\n",
    "\n",
    "To show the data, we simply put `df` at the last line of the cell:"
   ]
  },
  {
   "cell_type": "code",
   "execution_count": null,
   "metadata": {},
   "outputs": [],
   "source": [
    "# Load the dataset\n",
    "df = module.load_dataset()\n",
    "\n",
    "# Show it!\n",
    "df"
   ]
  },
  {
   "attachments": {},
   "cell_type": "markdown",
   "metadata": {},
   "source": [
    "The **data understanding phase** is used to gather a great understanding of the dataset to be used. <br>\n",
    "This process is often described as **Exploratory Data Analysis (EDA)**, which is all about making sense of the data. <br>\n",
    "Starting this process can be done using the in-build functions of Pandas, of which the most important will be described below."
   ]
  },
  {
   "cell_type": "markdown",
   "metadata": {},
   "source": [
    "[Back to top](#module-4---machine-learning-ml)\n",
    "### A1. Pandas DataFrame basic statistics\n",
    "These functionss can be used to get a first glimpse of the characteristics of the Iris dataset.\n",
    "\n",
    "If you desire to extend your knowledge, which might be usefull for later exercises, look through the [Pandas documentation](https://pandas.pydata.org/docs/reference/frame.html) for all the modules in this library."
   ]
  },
  {
   "cell_type": "markdown",
   "metadata": {},
   "source": [
    "`[DataFrame].shape` returns the dimensionality of the `DataFrame`:"
   ]
  },
  {
   "cell_type": "code",
   "execution_count": null,
   "metadata": {},
   "outputs": [],
   "source": [
    "df.shape"
   ]
  },
  {
   "cell_type": "markdown",
   "metadata": {},
   "source": [
    "`[DataFrame].head(n)` returns the first `n` rows of the `DataFrame`:"
   ]
  },
  {
   "cell_type": "code",
   "execution_count": null,
   "metadata": {},
   "outputs": [],
   "source": [
    "df.head(n=5)"
   ]
  },
  {
   "cell_type": "markdown",
   "metadata": {},
   "source": [
    "`[DataFrame].info()` returns a summary describing the DataFrame, containing the index, columns, non-null values and the datatype:"
   ]
  },
  {
   "cell_type": "code",
   "execution_count": null,
   "metadata": {},
   "outputs": [],
   "source": [
    "df.info()"
   ]
  },
  {
   "cell_type": "markdown",
   "metadata": {},
   "source": [
    "`[DataFrame].isnull().sum()` returns the number of zero values in each column:"
   ]
  },
  {
   "cell_type": "code",
   "execution_count": null,
   "metadata": {},
   "outputs": [],
   "source": [
    "df.isnull().sum()"
   ]
  },
  {
   "cell_type": "markdown",
   "metadata": {},
   "source": [
    "[Back to top](#module-4---machine-learning-ml)\n",
    "\n",
    "### A2. Pandas DataFrame extended statistics\n",
    "Besides these basic analyses, additional analysis can be executed to discover patterns, spot anomalies and to check assumptions. <br>\n",
    "Doing this can be done in different ways, both using summary statistics as with graphical respresentations. <br>\n",
    "Again Pandas has some in-build functions for this, of which the most important will be described below."
   ]
  },
  {
   "cell_type": "markdown",
   "metadata": {},
   "source": [
    "`[DataFrame].describe()` returns the basic data statistics, including the count, mean, standard deviation, the quartiles and the minimum and maximum value. These statistics exclude the `NaN` values."
   ]
  },
  {
   "cell_type": "code",
   "execution_count": null,
   "metadata": {},
   "outputs": [],
   "source": [
    "df.describe()"
   ]
  },
  {
   "attachments": {},
   "cell_type": "markdown",
   "metadata": {},
   "source": [
    "Looking at the summary statistics above, three conclusions can be drawn:\n",
    "\n",
    "* There indeed are missing values in the `petal length (cm)` column, as the count shows a different value than in other columns due to the exclusion of `NaN` values.\n",
    "* The values for the `sepal width (mm)` column are significantly higher than the mean plus standard deviation of other columns, which might indicate a different measuring unit used.\n",
    "* The maximum value of the `sepal length (cm)` column shows quite high, this needs further investigation."
   ]
  },
  {
   "cell_type": "markdown",
   "metadata": {},
   "source": [
    "`[DataFrame].hist()` returns histograms of the data for all columns (parameters) separately, showing the distribution of the data.\n",
    "\n",
    "> **Note** - The hist function returns the values of the histogram. To prevent these from being printed, we save the output of hist to `_`.\n",
    "\n",
    "> **Info** - In Python, it is common to use `_` for variable names that will not be used."
   ]
  },
  {
   "cell_type": "code",
   "execution_count": null,
   "metadata": {},
   "outputs": [],
   "source": [
    "_ = df.hist(figsize=(16, 8))"
   ]
  },
  {
   "attachments": {},
   "cell_type": "markdown",
   "metadata": {},
   "source": [
    "The histograms above show the distribution of values for all parameters separately. <br>\n",
    "Immediately it can be seen that the distribution in the `sepal length (cm)` plot looks off. <br>\n",
    "Together with our conclusion of the `sepal length (cm)` from the summary statistics, this might indicate an outlier. <br>\n",
    "To define whether this hypothesis is true, a boxplot can give some deeper understanding."
   ]
  },
  {
   "cell_type": "markdown",
   "metadata": {},
   "source": [
    "`[DataFrame].boxplot()` returns boxplots of the data for all columns (parameters) separately. The box shows the range from the first to the third quartile, with the median displayed as the line in the middle. The total length between the first and third quartile (de length of the box) is defined as the Inter Quartile Range (IQR). The whiskers outside the box are set to be 1.5 times this IQR value, as this is perceived as the allowed minimum and maximum values. An outlier would be any point outside the whiskers, however as the boxplots only concern a quick measure this conclusion has to be made with caution. There are statistical tests to define whether a value is indeed an outlier or not, but the complexity of such tests exceed the purpose of this course. In most cases it suffices to rely on a soft measure, to be decided whether the distance between the whisker and the value is indeed significant.\n",
    "\n",
    "Here, we save the boxplot to a variable called `boxplot`. This because in the `[DataFrame].boxplot()` we have the option to save returning values to (in this case) a `dict` (dictionary). It contains the Lines making up the boxes, caps, fliers, medians, and whiskers. This may come in handy when we want to further investigate one of these points."
   ]
  },
  {
   "cell_type": "code",
   "execution_count": null,
   "metadata": {},
   "outputs": [],
   "source": [
    "boxplot = df.boxplot(figsize=(16, 8), return_type=\"dict\")"
   ]
  },
  {
   "attachments": {},
   "cell_type": "markdown",
   "metadata": {},
   "source": [
    "Looking at the boxplot of the `sepal length (cm)`, the maximum point we distinguished earlier is shown to be way above the whiskers. <br>\n",
    "This indicates that this value, as it shows significant distance from the whiskers, concerns an outlier. <br>\n",
    "The points outside the whiskers of the `sepal width (mm)` will be discussed later on. <br>"
   ]
  },
  {
   "cell_type": "markdown",
   "metadata": {},
   "source": [
    "To see if we have strongly correlated variables in the dataset, we can use the correlation matrix. <br>\n",
    "Adding strongly correlated variables to a Machine Learning (ML) model increases the complexity. <br>\n",
    "The increased complexity will thereafter require more computing power to train and use the model. <br> \n",
    "When leaving one of the strongly correlated variables out of a ML model increases the computation effeciency (higher dimensionallity) and doesn't effect the predictive power of the model significantly.\n",
    "\n",
    "`[DATAFRAME].corr()` - Returns a matrix, displaying the correlations between all columns (parameters). As highly correlated values do not add any knowledge and just add complexity to your model, it is a good practice to remove these values during **feature selection**."
   ]
  },
  {
   "cell_type": "code",
   "execution_count": null,
   "metadata": {},
   "outputs": [],
   "source": [
    "# We don't use the state column because it is not numerical.\n",
    "df.corr()"
   ]
  },
  {
   "attachments": {},
   "cell_type": "markdown",
   "metadata": {},
   "source": [
    "The steps above conclude the **Exploratory Data Analysis (EDA)**, which is executed to gain knowledge about your data. <br>\n",
    "The gained knowledge from execution of the **data understanding phase** will be used in the consecutive phases. <br>\n",
    "It will mostly be the basis on which you decide which data preprocessing steps need to be executed in the next phase, **data preparation**.\n",
    "\n",
    "\n",
    "To test whether the conclusion you made based on the EDA are correct, we ask you to fill in the following values."
   ]
  },
  {
   "cell_type": "markdown",
   "metadata": {},
   "source": [
    "### Question A1\n",
    "Put the number of missing values for `petal length (cm)` into `Q_A1` as `int` (no decimals)."
   ]
  },
  {
   "cell_type": "code",
   "execution_count": null,
   "metadata": {},
   "outputs": [],
   "source": [
    "Q_A1 = 5\n",
    "\n",
    "module.check(\"A1\", Q_A1)"
   ]
  },
  {
   "cell_type": "markdown",
   "metadata": {},
   "source": [
    "### Question A2\n",
    "Put the average value for `sepal_width (mm)` into `Q_A2` as float rounded to two decimals."
   ]
  },
  {
   "cell_type": "code",
   "execution_count": null,
   "metadata": {},
   "outputs": [],
   "source": [
    "Q_A2 = 30.57\n",
    "\n",
    "module.check(\"A2\", Q_A2)"
   ]
  },
  {
   "cell_type": "markdown",
   "metadata": {},
   "source": [
    "### Question A3\n",
    "Put a list of the columns that are highly correlated into `Q_A3` as a list of `str`. The order does not matter.\n",
    "\n",
    "You can use the list below and remove the columns that are not highly correlated.\n",
    "```python\n",
    "['sepal length (cm)', 'sepal width (mm)', 'petal length (cm)', 'petal width (cm)']\n",
    "```"
   ]
  },
  {
   "cell_type": "code",
   "execution_count": null,
   "metadata": {},
   "outputs": [],
   "source": [
    "Q_A3 = [\"petal length (cm)\", \"petal width (cm)\"]\n",
    "\n",
    "module.check(\"A3\", Q_A3)"
   ]
  },
  {
   "cell_type": "markdown",
   "metadata": {},
   "source": [
    "[Back to top](#module-4---machine-learning-ml)\n",
    "\n",
    "<hr>\n",
    "\n",
    "## B. Data preparation\n",
    "Before we apply Machine Learning (ML) algorithms to the data, we have to prepare it. <br>\n",
    "In the EDA we observed that there are missing values, outliers and a strong correlation between two columns. <br>\n",
    "However, besides the found characteristics, more steps can be needed to prepare the data. <br>\n",
    "The standard procedure consists of multiple so-called pillars, namely:\n",
    "\n",
    "* **Data integration** - Combining multiple data sources into one, handling data redundancy.\n",
    "* **Data cleaning** - Remove outliers, impute missing values an handle data inconsistencies.\n",
    "* **Data transformation** - Adjust numerical and categorical values to allow the model to work with them.\n",
    "* **Data (feature) selection** - Select which values to include into your model.\n",
    "* **Data reduction** - Simplify data where possible by for example producing aggregate values."
   ]
  },
  {
   "attachments": {},
   "cell_type": "markdown",
   "metadata": {},
   "source": [
    "[Back to top](#module-4---machine-learning-ml)\n",
    "\n",
    "### B1. Data integration\n",
    "\n",
    "If we would have had multiple datasets, this pillar would be used to join them into one. <br>\n",
    "Pandas has a function for this, which looks like this: `[DataFrame].merge([DataFrame])`. <br>\n",
    "As we only have data from a single source, we do not need to execute this data preparation pillar."
   ]
  },
  {
   "cell_type": "markdown",
   "metadata": {},
   "source": [
    "[Back to top](#module-4---machine-learning-ml)\n",
    "\n",
    "### B2. Data cleaning\n",
    "The cleaning pillar consists of different parts which all need to be adressed, namely:\n",
    "* **Outliers** - Ouliers can be detected by for example the previously used boxplot visualisation. Such outliers can either be entirely removed or the actual value can be updated (for example by replacing it with the mean).\n",
    "* **Missing values** - As mentioned in the introduction of Section B, missing values are detected. Such missing values can be imputed, with for example the mean or median, or completely removed.\n",
    "  *  **Pro removal** - A model trained with the removal of all missing values creates a robust model.\n",
    "  *  **Con removal** - If removed, all the information that is in the other columns is removed as well. This especially works poorly if the percentage of missing values is excessive in comparison to the complete records.\n",
    "*  **Inconsistent data** - The unit metric for one column in the dataset is different, for example the inconsistent use of `mm` or `cm`.\n",
    "\n",
    "Please answer the following questions:"
   ]
  },
  {
   "cell_type": "markdown",
   "metadata": {},
   "source": [
    "### Question B1\n",
    "Provide a list of all the points outside the boxplots (outside the wiskers) in `Q_B1` as a list of `float`.\n",
    "\n",
    "> **Tip** - Use the saved variable boxplot to retrieve these points.\n",
    "\n",
    "> **Tip** - `outliers = [flier.get_ydata() for flier in boxplot[\"fliers\"]]`"
   ]
  },
  {
   "cell_type": "code",
   "execution_count": null,
   "metadata": {},
   "outputs": [],
   "source": [
    "Q_B1 = [60.3, 20.0, 44.0, 41.0, 42.0]\n",
    "\n",
    "module.check(\"B1\", Q_B1)"
   ]
  },
  {
   "cell_type": "markdown",
   "metadata": {},
   "source": [
    "### Question B2\n",
    "Provide the actual outlier from the boxplot as a `float`."
   ]
  },
  {
   "cell_type": "code",
   "execution_count": null,
   "metadata": {},
   "outputs": [],
   "source": [
    "Q_B2 = 60.3\n",
    "\n",
    "module.check(\"B2\", Q_B2)"
   ]
  },
  {
   "attachments": {},
   "cell_type": "markdown",
   "metadata": {},
   "source": [
    "Concluding from the retrieved values, the maximum value of the `sepal length (cm)` is clearly an outlier. <br>\n",
    "Not only does it stand out in the visualisation, it also is an impossible length of a flower. <br>\n",
    "Looking at the value we might consider that by accident an additional 0 is added when inserting the measurements. <br>\n",
    "For this reason we decide to not remove the entire record, but we only remove the 0 to prevent data to be lost. <br>\n",
    "The other values in the `sepal width (mm)` boxplot are not found te be outliers. These values lie within `1.5 * IQR` and therefore not fall outside the overall pattern in the distribution."
   ]
  },
  {
   "cell_type": "code",
   "execution_count": null,
   "metadata": {},
   "outputs": [],
   "source": [
    "# Remove the actual outlier\n",
    "module.remove_zero_in_outlier(df, outlier_value=Q_B2)\n",
    "\n",
    "# Check in the boxplot whether the outlier has been removed\n",
    "_ = df.boxplot(figsize=(16, 8))"
   ]
  },
  {
   "attachments": {},
   "cell_type": "markdown",
   "metadata": {},
   "source": [
    "As we conclude the handling of **outliers**, we now continue to **missing values**.<br>\n",
    "An often used library to handle missing values is `scikit-learn`, often abbreviated to `sklearn`. <br>\n",
    "[Scikit-learn](https://scikit-learn.org/stable/) is an extensive Machine Learning (ML) library, available for Python. <br> \n",
    "This free ML library includes modules for the preparation of data and the design, training and use of actual ML models. <br>\n",
    "We recommend you get familiair with the [Scikit-learn documentation](https://scikit-learn.org/stable/), as you will often use it in your Data Science ventures.\n",
    "\n",
    "For this module you will implement the k-Nearest Neighbors imputer for filling in the missing values. <br>\n",
    "Each missing value will be imputed with the mean of the `n` closest values found in the dataset. <br>\n",
    "Close in this sense is a distance measure of all values available for the concerning record."
   ]
  },
  {
   "cell_type": "code",
   "execution_count": null,
   "metadata": {},
   "outputs": [],
   "source": [
    "from sklearn.impute import KNNImputer\n",
    "\n",
    "# Load and set the K-Nearest Neighbours imputer\n",
    "imputer = KNNImputer(n_neighbors=3, weights=\"uniform\")\n",
    "\n",
    "# Fit to the numerical data, then transform it and save the imputed values.\n",
    "df.iloc[:, :-1] = imputer.fit_transform(df.iloc[:, :-1])"
   ]
  },
  {
   "attachments": {},
   "cell_type": "markdown",
   "metadata": {},
   "source": [
    "The handling of missing values needs to happen intelligently to create a robust Machine Learning (ML) model. <br>\n",
    "Doing this can be done in several ways mostly depending on how and what the data is about, for example either categorical or numerical values. <br>\n",
    "Having domain knowledge about the dataset is crucial for this, as it gives insight into how preprocessing needs to be applied.\n",
    "\n",
    "Normally, if you apply imputation on your dataset, you should only use the training dataset to fit the transformer after applying it to both the train and test set. <br>\n",
    "This prevents the occurrence of **data leakage**, which is the phenomenon that knowledge that should not be available is available to the model. <br>\n",
    "A train-test split is used to train a model on the training set and then evaluate its performance on a test dataset that it did not see before. <br>\n",
    "If you allow the test data to be taken into account for imputation, some knowledge of the set that should be unknown is known to the trained ML model resulting in misleading evaluation of the model.\n",
    "\n",
    "Finally we handle a single **data inconsistency** that is in the measuring unit used to define the `sepal width (mm)` as opposed to other parameters. <br>\n",
    "The `sepal width (mm)` is given in `mm`, whereas the other parameters are given in `cm`."
   ]
  },
  {
   "cell_type": "markdown",
   "metadata": {},
   "source": [
    "### Question B3\n",
    "To deal with this, do the following:\n",
    "\n",
    "1. Change the metric system used by dividing the `sepal width (mm)` column by `10`.\n",
    "2. Change the column name to the correct reference `sepal width (cm)`."
   ]
  },
  {
   "cell_type": "code",
   "execution_count": null,
   "metadata": {},
   "outputs": [],
   "source": [
    "# Multiply each value by 10\n",
    "df[\"sepal width (mm)\"] = df[\"sepal width (mm)\"].apply(lambda x: x / 10)\n",
    "\n",
    "# And rename the column to 'sepal width (cm)'\n",
    "df = df.rename(columns={\"sepal width (mm)\": \"sepal width (cm)\"})\n",
    "\n",
    "module.check(\"B3\", df)"
   ]
  },
  {
   "cell_type": "markdown",
   "metadata": {},
   "source": [
    "For the next chapter, we add the `state` to the DataFrame."
   ]
  },
  {
   "cell_type": "code",
   "execution_count": null,
   "metadata": {},
   "outputs": [],
   "source": [
    "df = module.add_state(df)\n",
    "df"
   ]
  },
  {
   "attachments": {},
   "cell_type": "markdown",
   "metadata": {},
   "source": [
    "[Back to top](#module-4---machine-learning-ml)\n",
    "\n",
    "### B3. Data transformation\n",
    "\n",
    "Data Transformation is applied to make the data more suitable for the underlying mathematics of the Machine Learning (ML) models. <br>\n",
    "Properly formatted data improves the quality of the deduced models, which will eventually lead to better outcomes. <br>\n",
    "The transformations that can be applied differ for different types of data, which are described below:\n",
    "\n",
    "#### Categorical values\n",
    "\n",
    "* **Ordinal encoding** <br>\n",
    "Assigns an integer value to each category in the order they are encountered. <br> \n",
    "Only really useful if there exist a natural order in categories because the model will consider one category to be ‘higher’ or ‘closer’ to another if their assigned values are ‘higher’ or ‘closer’.\n",
    "\n",
    "* **One-hot encoding** <br>\n",
    "Creates a column for all categories separately, assigning a 1 if that category applies to that row, otherwise assigning a 0. <br>\n",
    "Can explode if a column has lots of categories, causing issues with high dimensionality.\n",
    "\n",
    "#### Numerical values\n",
    "\n",
    "* **Normalisation** <br>\n",
    "Changes the range between which the values lie. Examples are: *min-max*, *z-score*, *logarithmic*.\n",
    "\n",
    "* **Discretize** <br>\n",
    "Classify all values within certain bins, for example cutting the range from 0-10 into bins 1.0-2.5, 2.6-5.0, 5.1-7.5 and 7.6-10.0 \n",
    "\n",
    "\n",
    "To practice, we will transform the categorical column `state` using one-hot-encoding. <br>\n",
    "This can be done using the in-built function of `pandas` called `get_dummies()`."
   ]
  },
  {
   "cell_type": "code",
   "execution_count": null,
   "metadata": {},
   "outputs": [],
   "source": [
    "import pandas as pd\n",
    "\n",
    "df = pd.get_dummies(df)\n",
    "df"
   ]
  },
  {
   "attachments": {},
   "cell_type": "markdown",
   "metadata": {},
   "source": [
    "By executing the `get_dummies()` function, we now transformed all categorical variables. <br>\n",
    "Now we will focus on the numerical variables, which can be transformed using normalization or scaling. <br>\n",
    "Scaling becomes especially important if you use distance dependend techniques, like for example clustering. <br>\n",
    "In these cases, without clustering, values that spread over a longer range can automatically be viewed as more important.\n",
    "\n",
    "For the Iris dataset the distribution of values over different parameters is quite similar. <br>\n",
    "For this reason it is not really necessary to apply scaling with regards to this dataset. <br>\n",
    "However we still apply it, as it will not decrease the quality of the data and this way you can learn to work with them as well.\n",
    "\n",
    "We will be using the Min-Max scaler, that transforms features by scaling them between the minimal and maximal value. <br>\n",
    "Despite the simplicity of the method, it is very often used in practice as it preserves the distribution while placing it on a set range. <br>\n",
    "The set range is between zero and one, which together with one-hot-encoding results in all values being in the range 0 to 1. <br>\n",
    "Min-Max scaling is applied by relating the value of x to the range between the minimal and maximal value found for that parameter. <br>\n",
    "This technique can be mathematically formulated as follows:\n",
    "\n",
    "$x_{new} = \\frac{x - x_{min}}{x_{max} - x_{min}} * (x_{max} - x_{min}) + x_{min}$"
   ]
  },
  {
   "cell_type": "code",
   "execution_count": null,
   "metadata": {},
   "outputs": [],
   "source": [
    "from sklearn.preprocessing import MinMaxScaler\n",
    "\n",
    "# Robust scaling the data\n",
    "scaler = MinMaxScaler()\n",
    "\n",
    "# Fit to data, then scale it.\n",
    "df[list(df.columns)] = scaler.fit_transform(df[list(df.columns)])"
   ]
  },
  {
   "attachments": {},
   "cell_type": "markdown",
   "metadata": {},
   "source": [
    "[Back to top](#module-4---machine-learning-ml)\n",
    "\n",
    "### B4. Data (feature) selection\n",
    "\n",
    "As previously stated, the more parameters you have the complexer the Machine Learning (ML) has to be. <br>\n",
    "The increased complexity will thereafter result in more computing power needed to train and use the model. <br>\n",
    "Besides this, too much values can even worsen te performance of the trained model. <br>\n",
    "An example of this is with highly correlated values, as they are present multiple times, the model will unintendetly focus on this value more. <br>\n",
    "This will result in an output biased towards the correlated value, which is often further away from the actual truth.\n",
    "\n",
    "To prevent the downside of having too much features, Data (Feature) Selection is applied. <br>\n",
    "There are many approaches to do this, of which the following are often used:\n",
    "\n",
    "* Decide which features suit the task and algorithm based on Phase 1 and 2: Business and Data Understanding.\n",
    "* Apply ***Ablation***, which implies iteratively trying different subsets of features and evaluate model performance.\n",
    "* Let the ML algorithm decide on the features, which can be done by looking at feature importances or through so-called **AutoML**.\n",
    "\n",
    "Due to the simplicity of the task and dataset, approach 1 based on business and data understanding will be sufficient. <br>\n",
    "First, based on business understanding, we can conclude that the columns `state_wet` and `state_dry` will not have added value to the task. <br>\n",
    "Thereafter, looking at data understanding, we saw that the `petal length (cm)` and `petal width (cm)` were highly correlated. <br>"
   ]
  },
  {
   "cell_type": "markdown",
   "metadata": {},
   "source": [
    "[Back to top](#module-4---machine-learning-ml)\n",
    "### Question B4\n",
    "To prevent unnecessary model complexity, it is your task to remove `petal width (cm)`, `state_wet`, and `state_dry` from the dataset."
   ]
  },
  {
   "cell_type": "code",
   "execution_count": null,
   "metadata": {},
   "outputs": [],
   "source": [
    "df = df.drop(columns=[\"petal width (cm)\", \"state_wet\", \"state_dry\"])\n",
    "\n",
    "module.check(\"B4\", df)"
   ]
  },
  {
   "attachments": {},
   "cell_type": "markdown",
   "metadata": {},
   "source": [
    "[Back to top](#module-4---machine-learning-ml)\n",
    "\n",
    "### B5. Data reduction\n",
    "The final step is the transformation of data into a corrected, ordered, and simplified form. The purpose of data reduction can be two-fold:\n",
    "\n",
    "* Reduce the number of data records by eliminating invalid data or produce summary data.\n",
    "* Produce aggregated statistics at different levels of detail for various applications.\n",
    "\n",
    "As the used data is not that complex, we will leave this step as it is for now."
   ]
  },
  {
   "attachments": {},
   "cell_type": "markdown",
   "metadata": {},
   "source": [
    "[Back to top](#module-4---machine-learning-ml)\n",
    "<hr>\n",
    "\n",
    "## C. Modelling \n",
    "\n",
    "After execution of all the preprocessing steps, the data is now ready to be used to create some Machine Learning (ML) models. <br>\n",
    "As shown in the Easy-LMS course, the field of Machine Learning can be subdivided into three categories: \n",
    "\n",
    "* **Unsupervised Learning** - Used to identify patterns in data sets containing data points that are neither classified nor labeled.\n",
    "* **Supervised Learning** - Learn a function from labeled training data that maps an input to an output based on example input-output pairs.\n",
    "* **Reinforcement Learning** - A learning method in which an agent is trained through interacting with an environment and receiving feedback.\n",
    "\n",
    "Both Unsupervised as Supervised Learning are often used in practice, where Reinforcement Learning is not that integrated just yet. <br>\n",
    "For this reason, this notebook will primarily focus on these two types of modelling, starting with unsupervised learning."
   ]
  },
  {
   "attachments": {},
   "cell_type": "markdown",
   "metadata": {},
   "source": [
    "[Back to top](#module-4---machine-learning-ml)\n",
    "\n",
    "### C1. Unsupervised learning\n",
    "\n",
    "The Iris dataset we have been working with so far does show the characteristics of different Iris flower species. <br>\n",
    "However they are not classified nor labelled, which leaves us in the unknown how many species there are and to what species specific records belong. <br>\n",
    "Solving this can be done using Unsupervised Learning, more specifically using a **distance-based clustering** algorithm.\n",
    "\n",
    "Unsupervised Learning algorithms, and thus clustering algorithms as well, are able to identify patterns in the available data. <br>\n",
    "Through this, we are thus able to group certain records together without a need for labaled data. <br>\n",
    "To let you experience the power of such techniques we will let you work with a method called **K-Means Clustering**.\n",
    "\n",
    "K-Means Clustering is a classification algorithm that groups objects into `k` groups based on the relative distance between different datapoints.<br>\n",
    "For the creation of the K-Means algorithm we again return to the Machine Learning library Scikit-Learn, for which we refer to the [KMeans documentation](https://scikit-learn.org/stable/modules/generated/sklearn.cluster.KMeans.html) for further reference.\n",
    "\n",
    "Initially we will set the number of clusters (`k`) to 2, feel free to change this value and see what happens in the plot visualisation. <br>\n",
    "You will notice that the clustering depends on the value set for the hyperparameter `k`."
   ]
  },
  {
   "cell_type": "code",
   "execution_count": null,
   "metadata": {},
   "outputs": [],
   "source": [
    "from sklearn.cluster import KMeans\n",
    "\n",
    "# Number of clusters\n",
    "k = 2\n",
    "\n",
    "# K-Means clustering\n",
    "kmeans_model = KMeans(n_clusters=k, random_state=0, n_init=\"auto\")\n",
    "kmeans_model.fit(df)\n",
    "\n",
    "# Add predicted values to a new column in the DataFrame\n",
    "df[\"k_means\"] = kmeans_model.predict(df)\n",
    "\n",
    "# Plot the results in a 2D scatterplot\n",
    "scatter = df.plot.scatter(x=\"sepal length (cm)\", y=\"sepal width (cm)\", c=\"k_means\", colormap=\"coolwarm\")"
   ]
  },
  {
   "attachments": {},
   "cell_type": "markdown",
   "metadata": {},
   "source": [
    "[Back to top](#module-4---machine-learning-ml)\n",
    "### C2. Supervised learning\n",
    "\n",
    "In the case we have labelled data in our possession, supervised learning becomes possible. <br>\n",
    "Supervised learning can be used to predict either a continuous quantity (**regression**) or discrete class labels (**classification**). <br>\n",
    "A simple example for regression would be to predict the weather of tomorrow, where classification would predict if it will rain yes or no.\n",
    "\n",
    "The supervised learning task you will be working on is to classify to which species a given Iris flower belongs, which is a classification task. <br>\n",
    "To do this, we will extend the currently used data with a target column which describes the species of all records. <br>\n",
    "There exist a wide range of Supervised Learning algorithms, of which we will use the following:\n",
    "\n",
    "* [**K-nearest neighbours**](https://scikit-learn.org/stable/modules/generated/sklearn.neighbors.KNeighborsClassifier.html) - Classify a data point based on the class of its `k` closest neighbors, using majority voting.\n",
    "* [**Support Vector Machine**](https://scikit-learn.org/stable/modules/generated/sklearn.svm.SVC.html) - Classify data points based on dividing the data space based on a maximized distance between certain vector points.\n",
    "* [**RandomForestClassifier**](https://scikit-learn.org/stable/modules/generated/sklearn.ensemble.RandomForestClassifier.html) - Classify data points through an ensemble of different decision tree classifiers, often using majority voting.\n",
    "\n",
    "We selected these algorithms as they apply classification in significantly different ways. <br>\n",
    "A more in depth explanation of these methods can be found in the Scikit-learn documentation, which can be found following the hyperlinks behind their reference.\n",
    "\n",
    "Before being able to test these models we need to extend our current Iris dataset with the target labels and remove the clustered labels. <br>\n",
    "\n",
    "This will be done with a pre-written function, which is executed when running `module.get_supervised()`. <br>\n",
    "The DataFrame you have been working on will be replaced with a new DataFrame, removing all preprocessing steps you have made. <br>\n",
    "Removal of these steps is mandatory, as during preprocessing we did not use a train-test split, resulting in data-leakage."
   ]
  },
  {
   "cell_type": "code",
   "execution_count": null,
   "metadata": {},
   "outputs": [],
   "source": [
    "# First save the unsupervised dataset\n",
    "df.to_csv(\"unsupervised.csv\", index=False)\n",
    "\n",
    "# Then get the supervised one\n",
    "df = module.get_supervised()\n",
    "df"
   ]
  },
  {
   "attachments": {},
   "cell_type": "markdown",
   "metadata": {},
   "source": [
    "[Back to top](#module-4---machine-learning-ml)\n",
    "#### Information leaks\n",
    "As previously mentioned, a train-test split is needed to properly evaluate the performance of a Machine Learning (ML) model. <br>\n",
    "During **Unsupervised Learning** we did not make this split, for which reason we renounce the preprocessing steps we previously made. <br>\n",
    "The reason for this is data leakage, in which for example the missing values are imputed with the mean over all values. <br>\n",
    "This results in the model using data that it is not allowed to see, as visualized in the image below.\n",
    "\n",
    "![Information leak visualisation](img/information_leak.png)"
   ]
  },
  {
   "cell_type": "markdown",
   "metadata": {},
   "source": [
    "[Back to top](#module-4---machine-learning-ml)\n",
    "#### Pipelines\n",
    "To prepare our data, we would now have to split the data into two data sets and then repeat all preprocessing steps. <br>\n",
    "As this would be labour intensive, a smarter way to execute this is desired, called **Pipelines**. <br>\n",
    "Pipelines are created like a procedure, taking the data input through all the steps described upon creation of the pipeline.\n",
    "\n",
    "Again the library Scikit-learn helps us in creating these [pipelines](https://scikit-learn.org/stable/modules/generated/sklearn.pipeline.Pipeline.html), allowing to not only insert preprocessing steps but also actual models. <br>\n",
    "These pipelines have a fit, predict and score function integrated, which automatically ensure that data transformations are applied correctly. <br>\n",
    "Besides being a more professional and user-friendly way of programming, it also prevents any change of having data leakages in your process.\n",
    "\n",
    "Pipelines can combine multiple processing steps and a single estimator. <br>\n",
    "However, in some cases one pipeline is insufficient, for example when categorical data needs to be handled differently than numeric data. <br>\n",
    "If this is needed, separate pipelines can be made after which they are composed into a single pipeline, which we will show later on. <br>\n",
    "Despite their utility, pipelines are not able to replicate all preprocessing steps that we executed on the dataset (at least not without great effort). <br>\n",
    "The steps that require human intervention, like removing outliers, changing inconsistencies and removing certain columns are better to be done by hand."
   ]
  },
  {
   "cell_type": "markdown",
   "metadata": {},
   "source": [
    "[Back to top](#module-4---machine-learning-ml)\n",
    "### Question C1\n",
    "Please perform the following actions on the `df` Dataframe:\n",
    "\n",
    "* Change the metric system used by dividing the `sepal width (mm)` column by `10` and change the column name to the correct reference `sepal width (cm)`.\n",
    "* Use `module.remove_zero_in_outlier(df, outlier_value=<actual_value>)` to remove the outlier.\n",
    "* Remove `petal width (cm)` from the dataset.\n",
    "* View the first 5 rows of the Dataframe.\n",
    "\n",
    "Be aware, in the following steps we **do not** remove the \"state\" column, which we previously did. <br>\n",
    "The reason for this is that we want to show you how to create such pipelines when you have both categorical and numerical variables. <br>\n",
    "We found that leaving in the \"state\" column will affect performance significantly, however we deemed this unimportant for the purpose of learning how to apply ML."
   ]
  },
  {
   "cell_type": "code",
   "execution_count": null,
   "metadata": {},
   "outputs": [],
   "source": [
    "# Execute preprocessing steps that require human intervention.\n",
    "df[\"sepal width (mm)\"] = df[\"sepal width (mm)\"].apply(lambda x: x / 10)\n",
    "df = df.rename(columns={\"sepal width (mm)\": \"sepal width (cm)\"})\n",
    "\n",
    "module.remove_zero_in_outlier(df, 60.3)\n",
    "df = df.drop(columns=[\"petal width (cm)\"])\n",
    "\n",
    "# Check answer\n",
    "module.check(\"C1\", df)"
   ]
  },
  {
   "attachments": {},
   "cell_type": "markdown",
   "metadata": {},
   "source": [
    "[Back to top](#module-4---machine-learning-ml)\n",
    "#### Creating the pipeline\n",
    "Now we have executed all manual transformations to the data, it is time to create the data pipeline. <br>\n",
    "As we did not remove the \"state\" column, we now need to create multiple pipelines. <br>\n",
    "First we will create a numerical and categorical pipeline, after which we combine both and append a classifier to it. <br>\n",
    "To do this we create a function named `create_pipeline()`, as this allows us to create these pipelines dynamically. <br>\n",
    "This will be useful for the way we intend to test the three classification models mentioned before in a looping fashion."
   ]
  },
  {
   "cell_type": "code",
   "execution_count": null,
   "metadata": {},
   "outputs": [],
   "source": [
    "from sklearn.pipeline import make_pipeline, Pipeline\n",
    "from sklearn.compose import make_column_transformer\n",
    "from sklearn.preprocessing import OneHotEncoder\n",
    "\n",
    "from sklearn.neighbors import KNeighborsClassifier\n",
    "from sklearn.svm import SVC\n",
    "from sklearn.ensemble import RandomForestClassifier\n",
    "\n",
    "\n",
    "def create_pipeline(imputer, scaler, encoder, clf) -> Pipeline:\n",
    "    \"\"\"\n",
    "    Take the imputer, scaler, encoder and classifier and create and return a sklearn pipeline.\n",
    "\n",
    "    Args:\n",
    "        imputer (_type_): Imputer module, used to impute missing values in the data.\n",
    "        scaler (_type_): Scaling module, used to scale the data to a set range of values.\n",
    "        encoder (_type_): Encoding module, used to transform categorical values to a workable format.\n",
    "        clf (_type_): Classification model, which can be any model from the sklearn classification model catalog.\n",
    "\n",
    "    Returns:\n",
    "        Pipeline: Pipeline containing all preprocessing and classification models.\n",
    "    \"\"\"\n",
    "    # 2 sub-pipelines, one for numeric features, other for categorical ones\n",
    "    numeric_pipe = make_pipeline(imputer, scaler)\n",
    "    categorical_pipe = make_pipeline(encoder)\n",
    "\n",
    "    # Using categorical pipe for feature State, numeric pipe otherwise\n",
    "    preprocessor = make_column_transformer((categorical_pipe, [\"state\"]), remainder=numeric_pipe)\n",
    "\n",
    "    return Pipeline(steps=[(\"preprocess\", preprocessor), (\"clf\", clf)])"
   ]
  },
  {
   "attachments": {},
   "cell_type": "markdown",
   "metadata": {},
   "source": [
    "Certain things can be seen when looking at the created function above:\n",
    "\n",
    "* First, again we return to the Scikit-Learn package to help us create our Machine Learning [`Pipelines`](https://scikit-learn.org/stable/modules/generated/sklearn.pipeline.Pipeline.html). \n",
    "* Second, the pipeline consists of multiple subpipelines, namely a numeric and a categorical pipeline:\n",
    "  * The numeric pipeline handles the numeric values and applies the [`KNNImputer()`](https://scikit-learn.org/stable/modules/generated/sklearn.impute.KNNImputer.html) and [`MinMaxScaler`()](https://scikit-learn.org/stable/modules/generated/sklearn.preprocessing.MinMaxScaler.html).\n",
    "  * The categorical pipelines handles the categorical values, in this case the \"state\" column, and applies the Scikit-Learn in-built code for the [`OneHotEncoder()`](https://scikit-learn.org/stable/modules/generated/sklearn.preprocessing.OneHotEncoder.html).\n",
    "  \n",
    "In this case we use Scikit-Learn to apply One Hot Encoding, as the `pandas` in-built function `get_dummies()` cannot be integrated into a Scikit-Learn pipeline.\n",
    "Eventually both pipeliens are combined through the use of the Scikit-Learn in-built function [`make_column_transformer()`](https://scikit-learn.org/stable/modules/generated/sklearn.compose.make_column_transformer.html).\n",
    "\n",
    "As can be seen in the code and the documentation, you can combine multiple pipelines using this function by defining which columns flow through which pipelines. <br>\n",
    "Eventually we create our final pipeline, which defines the combined preprocessor pipeline and the classification model given to the function."
   ]
  },
  {
   "attachments": {},
   "cell_type": "markdown",
   "metadata": {},
   "source": [
    "[Back to top](#module-4---machine-learning-ml)\n",
    "\n",
    "#### Cross-validation\n",
    "The quality of the supervised learning method is in a big way dependent on de amount of data that is available. <br>\n",
    "As we have to split the data into a train and test set, the set used for training the model also decreases in size. <br>\n",
    "For this reason it is a must to put this data to good use to get a reliable evaluation of the performance of different models.\n",
    "\n",
    "Within the Iris dataset we have been using only 150 rows are present, which is not much when training Machine Learning (ML) models. <br>\n",
    "For this reason we will intelligently create train-test splits that will allow us to utilize the entire data for model evaluation. <br>\n",
    "The type of evaluation we will be using is called **K-fold Cross-Validation**, which is a technique to train and test models based on iteratively different subsets of the data. <br>\n",
    "The process of cross-validation using five iterations is shown in the following visualisation.\n",
    "\n",
    "![Cross validation visualisation](img/cross_validation.png) <br>\n",
    "\n",
    "Within this visualisation (`K` = 5), which implies that five iterations will be used to evaluate the models.<br>\n",
    "The score of the model is the mean score over all five iterations, which is returned as the final score. <br>\n",
    "Below we will use the Scikit-Learn in-built function for [K-fold Cross-Validation](https://scikit-learn.org/stable/modules/generated/sklearn.model_selection.cross_val_score.html). <br>\n",
    "This function will automatically execute the given number of fold (`cv`), which we set to 5, and return the attained performance."
   ]
  },
  {
   "cell_type": "code",
   "execution_count": null,
   "metadata": {},
   "outputs": [],
   "source": [
    "from sklearn.model_selection import cross_val_score\n",
    "\n",
    "# Create preprocessing steps into variables\n",
    "imputer = KNNImputer()\n",
    "scaler = MinMaxScaler()\n",
    "encoder = OneHotEncoder()\n",
    "classifiers = [KNeighborsClassifier(), SVC(random_state=0), RandomForestClassifier(random_state=0)]\n",
    "\n",
    "# Split data into independent variables (X) and dependent variable (y)\n",
    "X = df.copy().drop(\"target\", axis=1)\n",
    "y = df[\"target\"]\n",
    "\n",
    "# Test each different classifier\n",
    "for clf in classifiers:\n",
    "    # Combine with learning algorithm in another pipeline\n",
    "    pipe = create_pipeline(imputer, scaler, encoder, clf)\n",
    "\n",
    "    scores = cross_val_score(estimator=pipe, X=X, y=y, cv=5)\n",
    "    print(\n",
    "        \"{:>25} | Test Scores: {:>25} | Mean Test Score: {:.3f} | Standard deviation: {:.3f}\".format(\n",
    "            pipe[\"clf\"].__class__.__name__,\n",
    "            str([\"{:.3f}\".format(round(s, 3)) for s in scores]),\n",
    "            round(scores.mean(), 3),\n",
    "            round(scores.std(), 3),\n",
    "        )\n",
    "    )"
   ]
  },
  {
   "attachments": {},
   "cell_type": "markdown",
   "metadata": {},
   "source": [
    "The returned values from **K-fold Cross Validation** need to be interpreted in several ways to get a complete view of the model performances. <br>\n",
    "First the individual test scores are shown, which show an overview how well every model performed on different iterations. <br>\n",
    "In itself this does not say much, but what needs to be looked at is the mean and standard deviation of these scores.\n",
    "\n",
    "A Machine Learning model has two distinct features which are important evaluation metrics, namely performance and robustness. <br>\n",
    "Performance can be compared using the mean test scores, for which a high score implies a good performing model. <br>\n",
    "The robustness however is in some cases as important as the performance, which is described in the standard deviation of all test scores. <br>\n",
    "If the standard deviation is high, the test scores for different iterations (folds) is significantly inconsistent. <br>\n",
    "This means that the performance of the model is dependent on which data you feed it, which is of course not desired as it shows to be unstable in practice. "
   ]
  },
  {
   "cell_type": "markdown",
   "metadata": {},
   "source": [
    "\n",
    "Please use the above scores to select the best performing model, which we will take through the final phase of the CRISP-DM model: **Evaluation**. <br>\n",
    "For the best performing model we create another dataframe called `df`. <br>\n",
    "Before going to the final phase, you need to:\n",
    "\n",
    "*\n",
    "<ol>\n",
    "    <li> Remove the \"state\" column from the dataframe <code>df</code>. And specify the new X and y values. </li>\n",
    "    <li> Create a function called <code>best_model_pipeline</code> that returns a pipeline for the cleaned dataframe (with state removed) with the best performing model. </li>\n",
    "    <li> Run <code>func.save_pipeline_for_later_evaluation(df=df, pipeline=best_model_pipe)</code> and make sure your classifier has the argument <code>random_state=0</code>. </li>\n",
    "    <li> And finally run a K-fold Cross Validation with <code>K=4</code>. </li> \n",
    "</ol>"
   ]
  },
  {
   "cell_type": "markdown",
   "metadata": {},
   "source": [
    "[Back to top](#module-4---machine-learning-ml)\n",
    "\n",
    "### Question C2\n",
    "Remove the `state` column from the dataframe `df`. And specify the new `X` and `y` values."
   ]
  },
  {
   "cell_type": "code",
   "execution_count": null,
   "metadata": {},
   "outputs": [],
   "source": [
    "df = df.drop(columns=[\"state\"])\n",
    "\n",
    "X_new = df.copy().drop(\"target\", axis=1)\n",
    "y_new = df[\"target\"]\n",
    "\n",
    "# Check the newly specified values.\n",
    "module.check(\"C2-DF\", df)\n",
    "module.check(\"C2-X\", X_new)\n",
    "module.check(\"C2-Y\", y_new.tolist())"
   ]
  },
  {
   "cell_type": "markdown",
   "metadata": {},
   "source": [
    "[Back to top](#module-4---machine-learning-ml)\n",
    "### Question C3\n",
    "Create a function called `best_model_pipeline` that returns a pipeline that can be used by the cleaned dataframe (with state removed) with the best performing model."
   ]
  },
  {
   "cell_type": "code",
   "execution_count": null,
   "metadata": {},
   "outputs": [],
   "source": [
    "def best_model_pipeline(imputer, scaler, clf) -> Pipeline:\n",
    "    \"\"\"\n",
    "    Take the imputer, scaler, and classifier and create and return a sklearn pipeline.\n",
    "\n",
    "    Args:\n",
    "        imputer (_type_): Imputer module, used to impute missing values in the data.\n",
    "        scaler (_type_): Scaling module, used to scale the data to a set range of values.\n",
    "        clf (_type_): Classification model, which can be any model from the sklearn classification model catalog.\n",
    "\n",
    "    Returns:\n",
    "        Pipeline: Pipeline containing all preprocessing and classification models.\n",
    "    \"\"\"\n",
    "    # A sub-pipelines, one for numeric features\n",
    "    numeric_pipe = make_pipeline(imputer, scaler)\n",
    "\n",
    "    # Using categorical pipe for feature State, numeric pipe otherwise\n",
    "    preprocessor = make_column_transformer(\n",
    "        (numeric_pipe, [\"sepal length (cm)\", \"sepal width (cm)\", \"petal length (cm)\"])\n",
    "    )\n",
    "\n",
    "    return Pipeline(steps=[(\"preprocess\", preprocessor), (\"clf\", clf)])\n",
    "\n",
    "\n",
    "# Initialize the created pipeline function\n",
    "best_model_pipe = best_model_pipeline(KNNImputer(), MinMaxScaler(), RandomForestClassifier(random_state=41))\n",
    "\n",
    "# Return the scores from the cross validation\n",
    "scores_best_model_pipe = cross_val_score(estimator=best_model_pipe, X=X_new, y=y_new, cv=4)\n",
    "print(\n",
    "    \"{:<25} | Test Scores: {:>25} | Mean Test Score: {:.3f} | Standard deviation: {:.3f}\".format(\n",
    "        best_model_pipe[\"clf\"].__class__.__name__,\n",
    "        str([\"{:.3f}\".format(round(s, 3)) for s in scores_best_model_pipe]),\n",
    "        round(scores_best_model_pipe.mean(), 3),\n",
    "        round(scores_best_model_pipe.std(), 3),\n",
    "    )\n",
    ")\n",
    "\n",
    "# Check the scores\n",
    "module.check(\"C3\", round(float(scores_best_model_pipe.mean()), 2))"
   ]
  },
  {
   "cell_type": "markdown",
   "metadata": {},
   "source": [
    "[Back to top](#module-4---machine-learning-ml)\n",
    "\n",
    "<hr>\n",
    "\n",
    "## D. Evaluation\n",
    "Normally when you work through the CRISP-DM model you work through it with only a single Machine Learning (ML) model. <br>\n",
    "However, in this module, we actually created both a Unsupervised Learning model (KMeans) and multiple Supervised Learning models. <br>\n",
    "On the backend we saved the data used for Unsupervised Learning, so we can re-use it here. <br>\n",
    "If you would have evaluated these models separately you would not face this issue, but to maintain the CRISP-DM workflow we perceived this to be the best way to show it to you."
   ]
  },
  {
   "attachments": {},
   "cell_type": "markdown",
   "metadata": {},
   "source": [
    "[Back to top](#module-4---machine-learning-ml)\n",
    "\n",
    "### D1. Unsupervised learning: KMeans clustering\n",
    "\n",
    "First we will focus on evaluating the performance of the Unsupervised Learning model we created earlier using [KMeans](https://scikit-learn.org/stable/modules/generated/sklearn.cluster.KMeans.html) clustering. <br>\n",
    "The evaluation will imply defining the number of clusters that are present in the data, and fine-tuning this to optimize the output of the model. <br>"
   ]
  },
  {
   "cell_type": "code",
   "execution_count": null,
   "metadata": {},
   "outputs": [],
   "source": [
    "# Retrieve unsupervised dataset and remove k_means\n",
    "unsupervised_df = pd.read_csv(\"unsupervised.csv\")\n",
    "unsupervised_df.drop(\"k_means\", axis=1, inplace=True)\n",
    "unsupervised_df.head()"
   ]
  },
  {
   "attachments": {},
   "cell_type": "markdown",
   "metadata": {},
   "source": [
    "Evaluation of the number of clusters used in K-Means clustering can be done using the **Elbow Criterion**. <br>\n",
    "The idea of the Elbow Criterion method is to choose a number of clusters (`k`) based on a visualisation of the Sum of Squared Errors (SSE).\n",
    "\n",
    "The SSE is also called the Within Cluster Variation or the Inertia of the model, and it indicates the variation of the data points that belong to a single cluster. <br>\n",
    "The SSE is defined as the sum of the squared distance between each member of the cluster and its centroid.\n",
    "\n",
    "We therefore normalized the data because it calculates the distance between the features of a variable and the centroid. <br>\n",
    "If we don't normalize the data when using unsupervised learning methods, there could be a distance bias.\n",
    "\n",
    "The Elbow plot, which is a visualisation of the SSE for different amounts of clusters, will always show a decreasing value as the amount increases. <br>\n",
    "However, at some point the decrease of the SSE seems to slow down, which might resemble an arm and an elbow. <br>\n",
    "The optimal number of clusters is at the point of the elbow in the plot, so where the speed of decline seems to slow down significantly. <br>\n",
    "As this is quite a subjective way to determine the amount of clusters, we would recommend that if you have doubt round up the amount of clusters.\n",
    "\n",
    "Below we will test different amounts of clusters, varying between 1 and 8. <br>\n",
    "We will use the `matplotlib` function [`plot()`](https://matplotlib.org/stable/api/_as_gen/matplotlib.pyplot.plot.html) to visualise the SSE over different amounts of clusters. <br>\n",
    "Therafter we will decide if the earlier chosen 2 clusters was optimal, or if another number of clusters would have been better."
   ]
  },
  {
   "cell_type": "code",
   "execution_count": null,
   "metadata": {},
   "outputs": [],
   "source": [
    "import matplotlib.pyplot as plt\n",
    "\n",
    "WithinClusterVariation = []\n",
    "for k in range(1, 8):\n",
    "    kmean_model = KMeans(n_clusters=k, random_state=0, n_init=\"auto\")\n",
    "    kmean_model.fit(unsupervised_df)\n",
    "    WithinClusterVariation.append(kmean_model.inertia_)\n",
    "\n",
    "\n",
    "def plot_clusters(K, WCV):\n",
    "    plt.figure(figsize=(16, 8))\n",
    "    plt.plot(K, WCV, \"bx-\")\n",
    "    plt.xlabel(\"k\")\n",
    "    plt.ylabel(\"Distortion\")\n",
    "    plt.title(\"The Elbow Method showing the optimal numbers of clusters\")\n",
    "    plt.show()\n",
    "\n",
    "\n",
    "plot_clusters(K=range(1, 8), WCV=WithinClusterVariation)"
   ]
  },
  {
   "attachments": {},
   "cell_type": "markdown",
   "metadata": {},
   "source": [
    "[Back to top](#module-4---machine-learning-ml)\n",
    "### Question D1\n",
    "Looking at the plot above, what do you think is the optimal number of clusters? <br>\n",
    "\n",
    "Please specify your best choice for the optimal number of cluster.\n",
    "\n",
    "> **Tip** - If you are unsure about two values, pick het highest value!"
   ]
  },
  {
   "cell_type": "code",
   "execution_count": null,
   "metadata": {},
   "outputs": [],
   "source": [
    "# Set the optimal number of clusters found in the Elbow plot\n",
    "Q_D1 = 3\n",
    "\n",
    "module.check(\"D1\", Q_D1)"
   ]
  },
  {
   "attachments": {},
   "cell_type": "markdown",
   "metadata": {},
   "source": [
    "[Back to top](#module-4---machine-learning-ml)\n",
    "### D2. Supervised learning: classification model\n",
    "\n",
    "For supervised learning there are a lot of possibilities to evaluate the performance of the models you created. <br>\n",
    "With classification most often used way is to use a so-called **Confusion Matrix**, which shows the predicted and true labels. <br>\n",
    "Within a confusion matrix four classifications are possible, described below for a classification with two categories True and False. \n",
    "\n",
    "* **True Positive (TP)** - The value is *correctly* predicted to be True.\n",
    "* **False Positive (FP)** - The value is *incorrectly* predicted to be True.\n",
    "* **True Negative (TN)** - The value is *correctly* predicted to be False.\n",
    "* **False Negative (FN)** - The value is *incorrectly* predicted to be False.\n",
    "\n",
    "True and False in a classification task can be viewed broadly, for example in classifying if an image shows an apple. <br>\n",
    "If an apple is shown in the image and it is predicted this way it concerns a True Positive (TP). <br>\n",
    "If the prediction said classified it to be False, that no apple is in the image, than it would be a False Negative (FN) and so on. \n",
    "\n",
    "For multi-class classification, with more than two classes, the same mechanics apply. <br>\n",
    "If we have to classify if the image either shows an apple, pear or strawberry the following classifications are possible. <br>\n",
    "We view these classification from one class, take the apple for this example.\n",
    "\n",
    "* **True Positive (TP)** - It is classified to show an apple when an apple is shown in the image.\n",
    "* **False Positive (FP)** - It is classified to show an apple when either a pear or strawberry is shown in the image.\n",
    "* **True Negative (TN)** - It is classified to show either a pear or strawberry when indeed no applie is shown.\n",
    "* **False Negative (FN)** - It is classified to show either a pear or stawberry when actually an apply is shown.\n",
    "\n",
    "Below you will use the Scikit-Learn in-built function [`ConfusionMatrixDisplay`](https://scikit-learn.org/stable/modules/generated/sklearn.metrics.ConfusionMatrixDisplay.html), which creates a Confusion Matrix based on the predicted and true labels. <br>\n",
    "Within the function the display labels are given, which are the actual names of the plant species."
   ]
  },
  {
   "cell_type": "code",
   "execution_count": null,
   "metadata": {},
   "outputs": [],
   "source": [
    "from sklearn.model_selection import train_test_split\n",
    "from sklearn.metrics import classification_report, ConfusionMatrixDisplay\n",
    "\n",
    "X_train, X_test, y_train, y_test = train_test_split(X, y, random_state=0)\n",
    "y_predictions = []\n",
    "\n",
    "clf = RandomForestClassifier()\n",
    "pipe = create_pipeline(imputer, scaler, encoder, clf)\n",
    "pipe.fit(X_train, y_train)\n",
    "y_pred = pipe.predict(X_test)\n",
    "\n",
    "ConfusionMatrixDisplay.from_predictions(\n",
    "    y_true=y_test, y_pred=y_pred, display_labels=[\"Setosa\", \"Versicolor\", \"Virginica\"], xticks_rotation=\"vertical\"\n",
    ")"
   ]
  },
  {
   "attachments": {},
   "cell_type": "markdown",
   "metadata": {},
   "source": [
    "Besides a visual representation of the predictions, the Confusion Matrix can actually be used to deduce actual performance metrics. <br>\n",
    "These metrics will show a trade-off between all the categories (TP, FP, TN, FN) and return a single numerical value. <br>\n",
    "The reason different metrics are available is that with different tasks there is a different need for evaluation. <br>\n",
    "For example, in our previous fruit example it does not matter if you make either a FP or a FN, they both are equally bad. <br>\n",
    "But if you are for example predicting if a patient has cancer based on a given set of values, a FN can be way more damaging than a FP.\n",
    "\n",
    "The following metric can be deduced from a Confusion Matrix:\n",
    "\n",
    "* **Precision** - The fraction of True predictions where actually True.\n",
    "* **Recall** - The fraction of actually True labels where predicted to be True.\n",
    "* **F1-Score** - The harmonic mean of precision and recall, comparing one class to all other classes.\n",
    "\n",
    "To evaluate these metrics we will us the Scikit-Learn in-built function [`classification_report`](https://scikit-learn.org/stable/modules/generated/sklearn.metrics.classification_report.html). <br>\n",
    "Calling this function will automatically calculate all three mentioned metrics besides the support, which show the number of samples per class."
   ]
  },
  {
   "cell_type": "code",
   "execution_count": null,
   "metadata": {},
   "outputs": [],
   "source": [
    "print(classification_report(y_true=y_test, y_pred=y_pred, target_names=[\"Setosa\", \"Versicolor\", \"Virginica\"]))"
   ]
  },
  {
   "attachments": {},
   "cell_type": "markdown",
   "metadata": {},
   "source": [
    "Concluding from the classification report it can be seen that all metrics show quite good performance. <br>\n",
    "It can be seen that for the species Virginica the performance is somewhat lower on all three metrics. <br>\n",
    "However, due to the sheer size of the dataset this might just be a single difficult example that decreases the model performance.\n",
    "\n",
    "To improve model performance we would need to increase the size of the dataset. <br>\n",
    "As can be seen in the confusion matrix, two predictions faulty predict either the Versicolor or the Virginica class. <br>\n",
    "More data might result in the model being able to have a clearer distinction between these species, resulting in increased performance."
   ]
  },
  {
   "attachments": {},
   "cell_type": "markdown",
   "metadata": {},
   "source": [
    "[Back to top](#module-4---machine-learning-ml)\n",
    "\n",
    "<hr>\n",
    "\n",
    "## Congratulations!!\n",
    "\n",
    "You have succesfully created your first Machine Learning (ML) models and worked all the way through the CRISP-DM model. <br>\n",
    "A lot of code was already pre-written, as we perceived from our studies that this is the best way to learn this process. <br>\n",
    "\n",
    "If all tests are passed you are allowed to continue to our next module <b>Module 5: Application Programming Interface (API) - Basics</b>. <br>\n",
    "Feel free to return to this module when you need some example code to develop your ML models in the future, for example in the final assignment."
   ]
  }
 ],
 "metadata": {
  "kernelspec": {
   "display_name": "Python 3",
   "language": "python",
   "name": "python3"
  },
  "language_info": {
   "codemirror_mode": {
    "name": "ipython",
    "version": 3
   },
   "file_extension": ".py",
   "mimetype": "text/x-python",
   "name": "python",
   "nbconvert_exporter": "python",
   "pygments_lexer": "ipython3",
   "version": "3.11.5"
  },
  "orig_nbformat": 4,
  "vscode": {
   "interpreter": {
    "hash": "e01e7986e68b333fe809ea651447c5e875e888263704d380ff78c5e0510cf1f6"
   }
  }
 },
 "nbformat": 4,
 "nbformat_minor": 2
}
