{
 "cells": [
  {
   "cell_type": "markdown",
   "metadata": {},
   "source": [
    "# Module 3 - Structured Query Language (SQL)\n",
    "Throughout this module you will learn to work with the programming language SQL.\n",
    "\n",
    "You will be working with a simple database consisting of three tables:\n",
    "\n",
    "1. Table `customers` with columns:\n",
    "   * `id`: The unique ID reference of the customer (`int`).\n",
    "   * `first_name`: The first name of the customer (`str`).\n",
    "   * `last_name`: The last name of the customer (`str`).\n",
    "   * `address`: The street name and house number of the customer (`str`).\n",
    "2. Table `products` with columns:\n",
    "   * `id`: The unique ID reference of the product (`int`).\n",
    "   * `name`: The name of the product, as displayed to the customer (`str`).\n",
    "   * `price`: The purchase price of the product (`float`).\n",
    "   * `stock`: The amount of products currently in stock (`int`). \n",
    "3. Table `orders` with columns:\n",
    "   * `id`: The unique ID reference of the order (`int`).\n",
    "   * `customer_id`: The ID reference of the customer that placed the order (`int`).\n",
    "   * `product_id`: The ID reference of the product the order is placed for (`int`).\n",
    "   * `date`: The date the order is placed on (`datetime.date`).\n",
    "   * `quantity`: The amount of the given product purchased (`int`).\n",
    "\n",
    "Good luck!"
   ]
  },
  {
   "cell_type": "markdown",
   "metadata": {},
   "source": [
    "## Contents\n",
    "* [A. Setup](#a-setup)\n",
    "* [B. Basic operations](#b-basic-operations)\n",
    "  * [Question B1](#question-b1)\n",
    "  * [Question B2](#question-b2)\n",
    "  * [Question B3](#question-b3)\n",
    "  * [Question B4](#question-b4)\n",
    "  * [Question B5](#question-b5)\n",
    "* [C. Database operations](#c-database-operations)\n",
    "  * [Question C1](#question-c1)\n",
    "  * [Question C2](#question-c2)\n",
    "  * [Question C3](#question-c3)\n",
    "  * [Question C4](#question-c4)\n",
    "  * [Question C5](#question-c5)\n",
    "* [D. Calculation operators](#d-calculation-operators)\n",
    "  * [Question D1](#question-d1)\n",
    "  * [Question D2](#question-d2)\n",
    "  * [Question D3](#question-d3)\n",
    "  * [Question D4](#question-d4)\n",
    "* [E. Writing complex (multi-table) queries](#e-writing-complex-multi-table-queries)\n",
    "  * [Question E1](#question-e1)\n",
    "  * [Question E2](#question-e2)\n",
    "  * [Question E3](#question-e3)\n",
    "  * [Question E4](#question-e4)"
   ]
  },
  {
   "cell_type": "markdown",
   "metadata": {},
   "source": [
    "<hr>\n",
    "\n",
    "## A. Setup\n",
    "Like the previous module, at Datacation we have already pre-written some code for you. <br> \n",
    "This enables you to check your answers and help you access the database that we'll use.\n",
    "\n",
    "We import it below:"
   ]
  },
  {
   "cell_type": "code",
   "execution_count": null,
   "metadata": {},
   "outputs": [],
   "source": [
    "from datacademy.modules import Module03\n",
    "\n",
    "# NOTE: Each run of this cell resets the database!\n",
    "module = Module03()"
   ]
  },
  {
   "cell_type": "markdown",
   "metadata": {},
   "source": [
    "`Module03` has some extra functionalty: \n",
    "* In the background it creates a database, that by default will be saved to `database.db`.\n",
    "* It has the `module.query()` function that allows you to execute SQL on the database.\n",
    "* For a query and check at once, it has the `module.check_query()` function.\n",
    "\n",
    "Try `model.query()` below. You can use if if you want to test a query without checking it."
   ]
  },
  {
   "cell_type": "code",
   "execution_count": null,
   "metadata": {},
   "outputs": [],
   "source": [
    "# Show the names of all our customers on alphabetical (first name) order\n",
    "module.query(\"select first_name, last_name from customers order by first_name\")"
   ]
  },
  {
   "cell_type": "markdown",
   "metadata": {},
   "source": [
    "[Back to top](#module-3---structured-query-language-sql)\n",
    "\n",
    "<hr>\n",
    "\n",
    "## B. Basic operations\n",
    "First we will explore the basic operations, namely `SELECT`, `FROM`, `WHERE`, `LIMIT` and `ORDER BY`. <br>\n",
    "These operations form the base of most queries that you will write in the future, as they are most fundamental to the retrieval of data. <br>\n",
    "The operations and their functionality will be listed below:\n",
    "\n",
    "* `SELECT` - Defines the column values that you desired to retrieve.\n",
    "* `FROM` - Defines the table from which these values need to be retrieved.\n",
    "* `WHERE` - Defines the condition(s) that will affect which rows are returned.\n",
    "* `LIMIT` - Defines the number of rows that are returned.\n",
    "* `ORDER BY` - Defines the way the records that are returned will be sorted.\n",
    "\n",
    "In this module you will explore the functionalities of these operators using the just created database. <br>\n",
    "The tables and their columns are described in the beginning of this notebook. <br> \n",
    "You can use this description in the exercies below.\n",
    "\n",
    "The first queries you will write are simple retrieval queries."
   ]
  },
  {
   "cell_type": "markdown",
   "metadata": {},
   "source": [
    "### Question B1\n",
    "Retrieve all available information regarding products contained in the `products` table."
   ]
  },
  {
   "cell_type": "code",
   "execution_count": null,
   "metadata": {},
   "outputs": [],
   "source": [
    "Q_B1 = \"SELECT * FROM products;\"\n",
    "\n",
    "module.check_query(\"B1\", Q_B1)"
   ]
  },
  {
   "cell_type": "markdown",
   "metadata": {},
   "source": [
    "### Question B2\n",
    "Retrieve all rows of the `orders` table that have a `quantity` of 5 or more products, showing the `customer_id`, `product_id` and `quantity`."
   ]
  },
  {
   "cell_type": "code",
   "execution_count": null,
   "metadata": {},
   "outputs": [],
   "source": [
    "Q_B2 = \"SELECT customer_id, product_id, quantity FROM orders WHERE quantity >= 5;\"\n",
    "\n",
    "module.check_query(\"B2\", Q_B2)"
   ]
  },
  {
   "cell_type": "markdown",
   "metadata": {},
   "source": [
    "### Question B3\n",
    "Retrieve first and last name of all customers with a first name that starts with a `\"J\"`."
   ]
  },
  {
   "cell_type": "code",
   "execution_count": null,
   "metadata": {},
   "outputs": [],
   "source": [
    "Q_B3 = 'SELECT first_name, last_name FROM customers WHERE first_name LIKE \"J%\";'\n",
    "\n",
    "module.check_query(\"B3\", Q_B3)"
   ]
  },
  {
   "cell_type": "markdown",
   "metadata": {},
   "source": [
    "### Question B4\n",
    "Retrieve all available information of the top 6 largest orders in terms of quantity."
   ]
  },
  {
   "cell_type": "code",
   "execution_count": null,
   "metadata": {},
   "outputs": [],
   "source": [
    "Q_B4 = \"SELECT * FROM orders ORDER BY quantity DESC LIMIT 6;\"\n",
    "\n",
    "module.check_query(\"B4\", Q_B4)"
   ]
  },
  {
   "cell_type": "markdown",
   "metadata": {},
   "source": [
    "### Question B5\n",
    "Retrieve only the name and price of the cheapest product in the `products` table."
   ]
  },
  {
   "cell_type": "code",
   "execution_count": null,
   "metadata": {},
   "outputs": [],
   "source": [
    "Q_B5 = \"SELECT name, price FROM products ORDER BY price LIMIT 1;\"\n",
    "\n",
    "module.check_query(\"B5\", Q_B5)"
   ]
  },
  {
   "cell_type": "markdown",
   "metadata": {},
   "source": [
    "[Back to top](#module-3---structured-query-language-sql)\n",
    "\n",
    "<hr>\n",
    "\n",
    "## C. Database operations\n",
    "Besides execution of basic reading operations, also a lot of database operations are available. <br>\n",
    "These operations include Creating, Updating an Deleting operations. <br>\n",
    "These operations form the foundation for every Database developer and/or administrator. <br>\n",
    "Understanding these functionalities, you will be able to create, access and manipulate databases. <br>\n",
    "The operations and their functionaltiy will be listed below:\n",
    "\n",
    "* `CREATE TABLE` - Creates a table with the given table name.\n",
    "* `INSERT INTO` - Allows you to add new records to the database table.\n",
    "* `UPDATE` - Allows you to adjust data in existing records within the database table.\n",
    "* `DELETE FROM` - Allows you to delete one or multiple data records from the database table.\n",
    "* `DROP TABLE` - Allows you to drop an entire table from the database."
   ]
  },
  {
   "cell_type": "markdown",
   "metadata": {},
   "source": [
    "### Question C1\n",
    "Write a query that creates a new table called `campaigns`, which contains all marketing campaigns of different products. <br>\n",
    "The table should consists of the following columns and their corresponding data types:\n",
    "\n",
    "* `id` - Integer, Primary Key, Auto Increment\n",
    "* `product_id` - Integer, Foreign Key (reference: products.id)\n",
    "* `campaign_start` - Timestamp\n",
    "* `campaign_end` - Timestamp\n",
    "* `discount` - float"
   ]
  },
  {
   "cell_type": "code",
   "execution_count": null,
   "metadata": {},
   "outputs": [],
   "source": [
    "# Drop the table if it already exists to avoid errors\n",
    "module.query(\"DROP TABLE IF EXISTS campaigns\")\n",
    "\n",
    "# Enter your query here\n",
    "Q_C1 = \"\"\"\n",
    "CREATE TABLE campaigns (\n",
    "    id INTEGER PRIMARY KEY AUTOINCREMENT,\n",
    "    product_id INTEGER,\n",
    "    campaign_start TIMESTAMP,\n",
    "    campaign_end TIMESTAMP,\n",
    "    discount FLOAT,\n",
    "    FOREIGN KEY (product_id) REFERENCES products(id)\n",
    ");\n",
    "\"\"\"\n",
    "\n",
    "# Execute query to create the database\n",
    "module.query(Q_C1)\n",
    "\n",
    "# Check\n",
    "module.check_query(\"C1\", \"SELECT * FROM campaigns\")"
   ]
  },
  {
   "cell_type": "markdown",
   "metadata": {},
   "source": [
    "### Question C2\n",
    "Now it is time to populate your newly created table. <br>\n",
    "Please insert the following data onto the campaigns table. <br>"
   ]
  },
  {
   "cell_type": "markdown",
   "metadata": {},
   "source": [
    "```json\n",
    "{ \n",
    "    \"product_id\": 4,\n",
    "    \"campaign_start\": \"2022-01-01\",\n",
    "    \"campaign_end\": \"2022-04-08\",\n",
    "    \"discount\": 0.20\n",
    "}\n",
    "```"
   ]
  },
  {
   "cell_type": "code",
   "execution_count": null,
   "metadata": {},
   "outputs": [],
   "source": [
    "Q_C2_1 = \"\"\"\n",
    "INSERT INTO campaigns (product_id, campaign_start, campaign_end, discount)\n",
    "VALUES (4, '2022-01-01', '2022-04-08', 0.20);\n",
    "\"\"\"\n",
    "\n",
    "module.query(Q_C2_1)"
   ]
  },
  {
   "cell_type": "markdown",
   "metadata": {},
   "source": [
    "```json\n",
    "{ \n",
    "    \"product_id\": 6,\n",
    "    \"campaign_start\": \"2022-02-02\",\n",
    "    \"campaign_end\": \"2022-06-23\",\n",
    "    \"discount\": 0.15\n",
    "}\n",
    "```"
   ]
  },
  {
   "cell_type": "code",
   "execution_count": null,
   "metadata": {},
   "outputs": [],
   "source": [
    "Q_C2_2 = \"\"\"\n",
    "INSERT INTO campaigns (product_id, campaign_start, campaign_end, discount)\n",
    "VALUES (6, '2022-02-02', '2022-06-23', 0.15);\n",
    "\"\"\"\n",
    "\n",
    "module.query(Q_C2_2)"
   ]
  },
  {
   "cell_type": "markdown",
   "metadata": {},
   "source": [
    "```json\n",
    "{ \n",
    "    \"product_id\": 4,\n",
    "    \"campaign_start\": \"2022-04-20\",\n",
    "    \"campaign_end\": \"2022-07-15\",\n",
    "    \"discount\": 0.30\n",
    "}\n",
    "```"
   ]
  },
  {
   "cell_type": "code",
   "execution_count": null,
   "metadata": {},
   "outputs": [],
   "source": [
    "Q_C2_3 = \"\"\"\n",
    "INSERT INTO campaigns (product_id, campaign_start, campaign_end, discount)\n",
    "VALUES (4, '2022-04-20', '2022-07-15', 0.30);\n",
    "\"\"\"\n",
    "\n",
    "module.query(Q_C2_3)"
   ]
  },
  {
   "cell_type": "markdown",
   "metadata": {},
   "source": [
    "```json\n",
    "{ \n",
    "    \"product_id\": 7,\n",
    "    \"campaign_start\": \"2022-10-20\",\n",
    "    \"campaign_end\": \"2022-12-31\",\n",
    "    \"discount\": 0.125\n",
    "}\n",
    "```"
   ]
  },
  {
   "cell_type": "code",
   "execution_count": null,
   "metadata": {},
   "outputs": [],
   "source": [
    "Q_C2_4 = \"\"\"\n",
    "INSERT INTO campaigns (product_id, campaign_start, campaign_end, discount)\n",
    "VALUES (7, '2022-10-20', '2022-12-31', 0.125);\n",
    "\"\"\"\n",
    "\n",
    "module.query(Q_C2_4)"
   ]
  },
  {
   "cell_type": "markdown",
   "metadata": {},
   "source": [
    "Now run the query below to check your results.\n",
    "\n",
    "> **Tip** - Do you see more than 4 rows? You might have ran one of the cells multiple times. Run the cell of question C1 and the above cells of C2 again, as this might resolve this."
   ]
  },
  {
   "cell_type": "code",
   "execution_count": null,
   "metadata": {},
   "outputs": [],
   "source": [
    "# Query table to check result\n",
    "module.check_query(\"C2\", \"SELECT * FROM campaigns;\")"
   ]
  },
  {
   "cell_type": "markdown",
   "metadata": {},
   "source": [
    "### Question C3\n",
    "We have actually made some mistake with inserting the campaigns into the database. <br>\n",
    "Make the following adjustments to the database records."
   ]
  },
  {
   "cell_type": "markdown",
   "metadata": {},
   "source": [
    "For the campaign with `id` `1`, Change the start date from: `'2022-01-01'` to `'2022-01-25'`."
   ]
  },
  {
   "cell_type": "code",
   "execution_count": null,
   "metadata": {},
   "outputs": [],
   "source": [
    "Q_C3_1 = 'UPDATE campaigns SET campaign_start = \"2022-01-25\" WHERE id = 1;'\n",
    "\n",
    "module.query(Q_C3_1)"
   ]
  },
  {
   "cell_type": "markdown",
   "metadata": {},
   "source": [
    "For the campaign(s) with end date `'2022-06-23'`, Change the start date to `'2022-01-01'` and the end date to `'2022-12-31'`."
   ]
  },
  {
   "cell_type": "code",
   "execution_count": null,
   "metadata": {},
   "outputs": [],
   "source": [
    "Q_C3_2 = (\n",
    "    \"UPDATE campaigns SET campaign_start = '2022-01-01', campaign_end = '2022-12-31' WHERE campaign_end = '2022-06-23';\"\n",
    ")\n",
    "\n",
    "module.query(Q_C3_2)"
   ]
  },
  {
   "cell_type": "markdown",
   "metadata": {},
   "source": [
    "For the campaign(s) concerning `product_id` `4`, change the discount to `0.25`."
   ]
  },
  {
   "cell_type": "code",
   "execution_count": null,
   "metadata": {},
   "outputs": [],
   "source": [
    "Q_C3_3 = \"UPDATE campaigns SET discount = 0.25 WHERE product_id = 4;\"\n",
    "\n",
    "module.query(Q_C3_3)"
   ]
  },
  {
   "cell_type": "markdown",
   "metadata": {},
   "source": [
    "Now run the following cell to check your result:"
   ]
  },
  {
   "cell_type": "code",
   "execution_count": null,
   "metadata": {},
   "outputs": [],
   "source": [
    "# Query table to check result\n",
    "module.check_query(\"C3\", \"SELECT * FROM campaigns;\")"
   ]
  },
  {
   "cell_type": "markdown",
   "metadata": {},
   "source": [
    "### Question C4\n",
    "Deletion of record can also be done in a similar manner as previous database mutations using the WHERE clause. <br>\n",
    "Write the queries executing the following behavior."
   ]
  },
  {
   "cell_type": "markdown",
   "metadata": {},
   "source": [
    "Remove all campaigns that concern `product_id` `6`."
   ]
  },
  {
   "cell_type": "code",
   "execution_count": null,
   "metadata": {},
   "outputs": [],
   "source": [
    "Q_C4_1 = \"DELETE FROM campaigns where product_id = 6;\"\n",
    "\n",
    "module.query(Q_C4_1)\n",
    "\n",
    "# Query table to check results\n",
    "module.check_query(\"C4-1\", \"SELECT * FROM campaigns;\")"
   ]
  },
  {
   "cell_type": "markdown",
   "metadata": {},
   "source": [
    "Remove all other campaigns, emptying this database table."
   ]
  },
  {
   "cell_type": "code",
   "execution_count": null,
   "metadata": {},
   "outputs": [],
   "source": [
    "Q_C4_2 = \"DELETE FROM campaigns\"\n",
    "\n",
    "module.query(Q_C4_2)\n",
    "\n",
    "# Query table to check results\n",
    "module.check_query(\"C4-2\", \"SELECT * FROM campaigns;\")"
   ]
  },
  {
   "cell_type": "markdown",
   "metadata": {},
   "source": [
    "## Caution!\n",
    "The last query you wrote to remove all campaigns shows the danger of using the `DELETE FROM` operator. <br>\n",
    "When using this operator make sure to **always include a where condition**, as otherwise the database table is emptied. <br>\n",
    "If such a query without a condition is executed on an actual database table the data will be removed without a possibility of to be retrieved."
   ]
  },
  {
   "cell_type": "markdown",
   "metadata": {},
   "source": [
    "### Question C5\n",
    "The created `campaigns` table is only created and used to practice the database operators. <br>\n",
    "For the following excersises we will clean the database by dropping the `campaigns` table. <br>\n",
    "Write a query that drops the table from te database, only leaving the `customers`, `products` and `orders` tables."
   ]
  },
  {
   "cell_type": "code",
   "execution_count": null,
   "metadata": {},
   "outputs": [],
   "source": [
    "Q_C5_1 = \"DROP TABLE IF EXISTS campaigns;\"\n",
    "\n",
    "# Execute your query\n",
    "module.query(Q_C5_1)\n",
    "\n",
    "# Check the result\n",
    "module.check_query(\"C5\", 'SELECT name FROM sqlite_master WHERE type=\"table\" ORDER BY name;')"
   ]
  },
  {
   "cell_type": "markdown",
   "metadata": {},
   "source": [
    "[Back to top](#module-3---structured-query-language-sql)\n",
    "<hr>\n",
    "\n",
    "## D. Calculation operators\n",
    "Next, we will look into calculation operators, which extends the possibilities of what can be retrieved from the database. <br>\n",
    "Instead of simply only using the `SELECT` operator, the calculation operators can perform calculations on the values that are retrieved. <br>\n",
    "There are a lot of possible calculation operators, however the most commonly used are the `MAX`, `MIN`, `SUM` and `COUNT` operators.\n",
    "\n",
    "Together with the `GROUP BY` operator you can perform some useful calculative queries that are able to return great Business Intelligence. <br>\n",
    "When using `GROUP BY`, conditional retrieval is done using `HAVING` instead of `WHERE`, which also works for calculations."
   ]
  },
  {
   "cell_type": "markdown",
   "metadata": {},
   "source": [
    "### Question D1\n",
    "Retrieve the total number of orders that are contained in the orders table in a column called `number_of_orders`."
   ]
  },
  {
   "cell_type": "code",
   "execution_count": null,
   "metadata": {},
   "outputs": [],
   "source": [
    "Q_D1 = \"SELECT COUNT(*) AS number_of_orders FROM orders\"\n",
    "\n",
    "module.check_query(\"D1\", Q_D1)"
   ]
  },
  {
   "cell_type": "markdown",
   "metadata": {},
   "source": [
    "### Question D2\n",
    "Return the product name and the total value stored in inventory (`price` * `stock`), in a column called `inventory`."
   ]
  },
  {
   "cell_type": "code",
   "execution_count": null,
   "metadata": {},
   "outputs": [],
   "source": [
    "Q_D2 = \"SELECT name, price*stock AS inventory FROM products\"\n",
    "\n",
    "module.check_query(\"D2\", Q_D2)"
   ]
  },
  {
   "cell_type": "markdown",
   "metadata": {},
   "source": [
    "### Question D3\n",
    "Return the `product_id` and the largest quantity (as `largest_quantity`) ordered for all products separately (using `GROUP BY`)."
   ]
  },
  {
   "cell_type": "code",
   "execution_count": null,
   "metadata": {},
   "outputs": [],
   "source": [
    "Q_D3 = \"SELECT product_id, MAX(quantity) AS largest_quantity FROM orders GROUP BY product_id;\"\n",
    "\n",
    "module.check_query(\"D3\", Q_D3)"
   ]
  },
  {
   "cell_type": "markdown",
   "metadata": {},
   "source": [
    "### Question D4\n",
    "Return the `product_id` and the number of different customers (as `distinct_customers`) for all products separately (using `DISTINCT()`), only returning products with two or more distinct customers."
   ]
  },
  {
   "cell_type": "code",
   "execution_count": null,
   "metadata": {},
   "outputs": [],
   "source": [
    "Q_D4 = \"SELECT product_id, COUNT(DISTINCT(customer_id)) AS distinct_customers FROM orders GROUP BY product_id HAVING distinct_customers >= 2;\"\n",
    "\n",
    "module.check_query(\"D4\", Q_D4)"
   ]
  },
  {
   "cell_type": "markdown",
   "metadata": {},
   "source": [
    "[Back to top](#module-3---structured-query-language-sql)\n",
    "<hr>\n",
    "\n",
    "## E. Writing complex (multi-table) queries\n",
    "To enable the full extend of the capabilities of the SQL language, the `JOIN` operator will be introduced. <br>\n",
    "`JOIN` allows you to query data from multiple tables, which enables you to write complex multi-table queries. <br>\n",
    "Within this module you will be asked to use both the *basic* and *calculation* operators combined with `JOIN`.\n",
    "\n",
    "Besides the `JOIN` operator, it is also possible to include other information using *sub-queries*. <br>\n",
    "Sub-queries allow you to use the results of a sub-query in a conditional statement for another query. <br>\n",
    "\n",
    "\n",
    "As an example, you can use the query below to retrieve all information of customers that placed at least one order with a quantity larger than 3.\n",
    "\n",
    "```sql\n",
    "SELECT * \n",
    "FROM customers \n",
    "WHERE customers.id IN (\n",
    "    SELECT customer_id \n",
    "    FROM orders \n",
    "    WHERE quantity > 3\n",
    ");\n",
    "```\n",
    "\n",
    "The queries you have to write will be formulated as requests from different departments. <br>\n",
    "If you will be working with databases in the future, you will be faced with such query requests."
   ]
  },
  {
   "cell_type": "markdown",
   "metadata": {},
   "source": [
    "### Question E1\n",
    "Sales wants to analyse the number of products that are ordered 3 or more times, retrieve only the product names and the number of orders (as `number_of_orders`)."
   ]
  },
  {
   "cell_type": "code",
   "execution_count": null,
   "metadata": {},
   "outputs": [],
   "source": [
    "Q_E1 = \"\"\"\n",
    "SELECT products.name, COUNT(orders.id) AS number_of_orders\n",
    "FROM products\n",
    "INNER JOIN orders ON products.id = orders.product_id \n",
    "GROUP BY products.name\n",
    "HAVING number_of_orders >= 3;\n",
    "\"\"\"\n",
    "\n",
    "module.check_query(\"E1\", Q_E1)"
   ]
  },
  {
   "cell_type": "markdown",
   "metadata": {},
   "source": [
    "### Question E2\n",
    "The marketing department asks for all first and last names of customers who ordered a \"Desk\" in the past."
   ]
  },
  {
   "cell_type": "code",
   "execution_count": null,
   "metadata": {},
   "outputs": [],
   "source": [
    "Q_E2 = \"\"\"\n",
    "SELECT customers.first_name, customers.last_name\n",
    "FROM customers\n",
    "WHERE customers.id IN (\n",
    "    SELECT orders.customer_id \n",
    "    FROM orders \n",
    "    INNER JOIN products ON products.id = orders.product_id\n",
    "    WHERE products.name = 'Desk'\n",
    ");\n",
    "\"\"\"\n",
    "\n",
    "module.check_query(\"E2\", Q_E2)"
   ]
  },
  {
   "cell_type": "markdown",
   "metadata": {},
   "source": [
    "### Question E3\n",
    "Upper management wants to gain insight in consumer behavior. Calculate the total spend per customer. <br>\n",
    "Display the first and last name together with the total spend (as `total_spend`) in ascending order based on total spend."
   ]
  },
  {
   "cell_type": "code",
   "execution_count": null,
   "metadata": {},
   "outputs": [],
   "source": [
    "Q_E3 = \"\"\"\n",
    "SELECT customers.first_name, customers.last_name, SUM(orders.quantity * products.price) AS total_spend\n",
    "FROM customers\n",
    "INNER JOIN orders ON orders.customer_id = customers.id\n",
    "INNER JOIN products ON products.id = orders.product_id\n",
    "GROUP BY customers.id\n",
    "ORDER BY total_spend;\n",
    "\"\"\"\n",
    "\n",
    "module.check_query(\"E3\", Q_E3)"
   ]
  },
  {
   "cell_type": "markdown",
   "metadata": {},
   "source": [
    "### Question E4\n",
    "For our customer loyalty program we want to retrieve a list of first and last names of customers that made at least 2 orders in the past with an average order value above 250 euros."
   ]
  },
  {
   "cell_type": "code",
   "execution_count": null,
   "metadata": {},
   "outputs": [],
   "source": [
    "Q_E4 = \"\"\"\n",
    "SELECT customers.first_name, customers.last_name\n",
    "FROM customers\n",
    "WHERE customers.id IN (\n",
    "    SELECT orders.customer_id\n",
    "    FROM orders\n",
    "    INNER JOIN products ON orders.product_id = products.id\n",
    "    GROUP BY orders.customer_id\n",
    "    HAVING AVG(orders.quantity * products.price) > 250\n",
    ");\n",
    "\"\"\"\n",
    "\n",
    "module.check_query(\"E4\", Q_E4)"
   ]
  },
  {
   "cell_type": "markdown",
   "metadata": {},
   "source": [
    "[Back to top](#module-3---structured-query-language-sql)\n",
    "<hr>\n",
    "\n",
    "## Congratulations!\n",
    "\n",
    "You successfully completed all parts and created all queries that are requested! <br>\n",
    "Through running other queries you are able to validate whether the queries you have written are correct.\n",
    "\n",
    "Feel free to continue to our next module, **Module 4: Machine Learning (ML)**."
   ]
  }
 ],
 "metadata": {
  "kernelspec": {
   "display_name": "Python 3.10.4 ('bootcamp')",
   "language": "python",
   "name": "python3"
  },
  "language_info": {
   "codemirror_mode": {
    "name": "ipython",
    "version": 3
   },
   "file_extension": ".py",
   "mimetype": "text/x-python",
   "name": "python",
   "nbconvert_exporter": "python",
   "pygments_lexer": "ipython3",
   "version": "3.11.5"
  },
  "orig_nbformat": 4,
  "vscode": {
   "interpreter": {
    "hash": "b4079134c0179285e3a55d2e425b94f441ed12cd55a998c83f6f5077fa904635"
   }
  }
 },
 "nbformat": 4,
 "nbformat_minor": 2
}
