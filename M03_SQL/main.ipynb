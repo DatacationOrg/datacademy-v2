{
 "cells": [
  {
   "cell_type": "markdown",
   "metadata": {},
   "source": [
    "# Module 3 - Structured Query Language (SQL)\n",
    "Throughout this module you will learn to work with the programming language SQL.\n",
    "\n",
    "You will be working with a simple database consisting of three tables:\n",
    "\n",
    "1. Table `customers` with columns:\n",
    "   * `id`: The unique ID reference of the customer (`int`).\n",
    "   * `first_name`: The first name of the customer (`str`).\n",
    "   * `last_name`: The last name of the customer (`str`).\n",
    "   * `address`: The street name and house number of the customer (`str`).\n",
    "2. Table `products` with columns:\n",
    "   * `id`: The unique ID reference of the product (`int`).\n",
    "   * `name`: The name of the product, as displayed to the customer (`str`).\n",
    "   * `price`: The purchase price of the product (`float`).\n",
    "   * `stock`: The amount of products currently in stock (`int`). \n",
    "3. Table `orders` with columns:\n",
    "   * `id`: The unique ID reference of the order (`int`).\n",
    "   * `customer_id`: The ID reference of the customer that placed the order (`int`).\n",
    "   * `product_id`: The ID reference of the product the order is placed for (`int`).\n",
    "   * `date`: The date the order is placed on (`datetime.date`).\n",
    "   * `quantity`: The amount of the given product purchased (`int`).\n",
    "\n",
    "Good luck!"
   ]
  },
  {
   "cell_type": "markdown",
   "metadata": {},
   "source": [
    "## Contents\n",
    "* [A. Setup](#a-setup)\n",
    "* [B. Basic operations](#b-basic-operations)\n",
    "  * [Question B1](#question-b1)\n",
    "  * [Question B2](#question-b2)\n",
    "  * [Question B3](#question-b3)\n",
    "  * [Question B4](#question-b4)\n",
    "  * [Question B5](#question-b5)\n",
    "* [C. Database operations](#c-database-operations)\n",
    "  * [Question C1](#question-c1)\n",
    "  * [Question C2](#question-c2)\n",
    "  * [Question C3](#question-c3)\n",
    "  * [Question C4](#question-c4)\n",
    "  * [Question C5](#question-c5)\n",
    "* [D. Calculation operators](#d-calculation-operators)\n",
    "  * [Question D1](#question-d1)\n",
    "  * [Question D2](#question-d2)\n",
    "  * [Question D3](#question-d3)\n",
    "  * [Question D4](#question-d4)\n",
    "* [E. Writing complex (multi-table) queries](#e-writing-complex-multi-table-queries)\n",
    "  * [Question E1](#question-e1)\n",
    "  * [Question E2](#question-e2)\n",
    "  * [Question E3](#question-e3)\n",
    "  * [Question E4](#question-e4)"
   ]
  },
  {
   "cell_type": "markdown",
   "metadata": {},
   "source": [
    "<hr>\n",
    "\n",
    "## A. Setup\n",
    "Like the previous module, at Datacation we have already pre-written some code for you. <br> \n",
    "This enables you to check your answers and help you access the database that we'll use.\n",
    "\n",
    "We import it below:"
   ]
  },
  {
   "cell_type": "code",
   "execution_count": 1,
   "metadata": {},
   "outputs": [],
   "source": [
    "from datacademy.modules import Module03\n",
    "\n",
    "# NOTE: Each run of this cell resets the database!\n",
    "module = Module03()"
   ]
  },
  {
   "cell_type": "markdown",
   "metadata": {},
   "source": [
    "`Module03` has some extra functionalty: \n",
    "* In the background it creates a database, that by default will be saved to `database.db`.\n",
    "* It has the `module.query()` function that allows you to execute SQL on the database.\n",
    "* For a query and check at once, it has the `module.check_query()` function.\n",
    "\n",
    "Try `model.query()` below. You can use if if you want to test a query without checking it."
   ]
  },
  {
   "cell_type": "code",
   "execution_count": 2,
   "metadata": {},
   "outputs": [
    {
     "data": {
      "text/html": [
       "<div>\n",
       "<style scoped>\n",
       "    .dataframe tbody tr th:only-of-type {\n",
       "        vertical-align: middle;\n",
       "    }\n",
       "\n",
       "    .dataframe tbody tr th {\n",
       "        vertical-align: top;\n",
       "    }\n",
       "\n",
       "    .dataframe thead th {\n",
       "        text-align: right;\n",
       "    }\n",
       "</style>\n",
       "<table border=\"1\" class=\"dataframe\">\n",
       "  <thead>\n",
       "    <tr style=\"text-align: right;\">\n",
       "      <th></th>\n",
       "      <th>first_name</th>\n",
       "      <th>last_name</th>\n",
       "    </tr>\n",
       "  </thead>\n",
       "  <tbody>\n",
       "    <tr>\n",
       "      <th>0</th>\n",
       "      <td>Arthur</td>\n",
       "      <td>Holmes</td>\n",
       "    </tr>\n",
       "    <tr>\n",
       "      <th>1</th>\n",
       "      <td>Ashton</td>\n",
       "      <td>Cole</td>\n",
       "    </tr>\n",
       "    <tr>\n",
       "      <th>2</th>\n",
       "      <td>Axton</td>\n",
       "      <td>Rogers</td>\n",
       "    </tr>\n",
       "    <tr>\n",
       "      <th>3</th>\n",
       "      <td>Cameron</td>\n",
       "      <td>Taylor</td>\n",
       "    </tr>\n",
       "    <tr>\n",
       "      <th>4</th>\n",
       "      <td>Deshawn</td>\n",
       "      <td>Booker</td>\n",
       "    </tr>\n",
       "    <tr>\n",
       "      <th>5</th>\n",
       "      <td>Ellis</td>\n",
       "      <td>West</td>\n",
       "    </tr>\n",
       "    <tr>\n",
       "      <th>6</th>\n",
       "      <td>Jamie</td>\n",
       "      <td>Dean</td>\n",
       "    </tr>\n",
       "    <tr>\n",
       "      <th>7</th>\n",
       "      <td>John</td>\n",
       "      <td>Doe</td>\n",
       "    </tr>\n",
       "    <tr>\n",
       "      <th>8</th>\n",
       "      <td>Raylee</td>\n",
       "      <td>Diaz</td>\n",
       "    </tr>\n",
       "    <tr>\n",
       "      <th>9</th>\n",
       "      <td>Reed</td>\n",
       "      <td>Nixon</td>\n",
       "    </tr>\n",
       "    <tr>\n",
       "      <th>10</th>\n",
       "      <td>Shay</td>\n",
       "      <td>Hyde</td>\n",
       "    </tr>\n",
       "    <tr>\n",
       "      <th>11</th>\n",
       "      <td>Vicente</td>\n",
       "      <td>Bryant</td>\n",
       "    </tr>\n",
       "  </tbody>\n",
       "</table>\n",
       "</div>"
      ],
      "text/plain": [
       "   first_name last_name\n",
       "0      Arthur    Holmes\n",
       "1      Ashton      Cole\n",
       "2       Axton    Rogers\n",
       "3     Cameron    Taylor\n",
       "4     Deshawn    Booker\n",
       "5       Ellis      West\n",
       "6       Jamie      Dean\n",
       "7        John       Doe\n",
       "8      Raylee      Diaz\n",
       "9        Reed     Nixon\n",
       "10       Shay      Hyde\n",
       "11    Vicente    Bryant"
      ]
     },
     "execution_count": 2,
     "metadata": {},
     "output_type": "execute_result"
    }
   ],
   "source": [
    "# Show the names of all our customers on alphabetical (first name) order\n",
    "module.query('select first_name, last_name from customers order by first_name')"
   ]
  },
  {
   "cell_type": "markdown",
   "metadata": {},
   "source": [
    "[Back to top](#module-3---structured-query-language-sql)\n",
    "\n",
    "<hr>\n",
    "\n",
    "## B. Basic operations\n",
    "First we will explore the basic operations, namely `SELECT`, `FROM`, `WHERE`, `LIMIT` and `ORDER BY`. <br>\n",
    "These operations form the base of most queries that you will write in the future, as they are most fundamental to the retrieval of data. <br>\n",
    "The operations and their functionality will be listed below:\n",
    "\n",
    "* `SELECT` - Defines the column values that you desired to retrieve.\n",
    "* `FROM` - Defines the table from which these values need to be retrieved.\n",
    "* `WHERE` - Defines the condition(s) that will affect which rows are returned.\n",
    "* `LIMIT` - Defines the number of rows that are returned.\n",
    "* `ORDER BY` - Defines the way the records that are returned will be sorted.\n",
    "\n",
    "In this module you will explore the functionalities of these operators using the just created database. <br>\n",
    "The tables and their columns are described in the beginning of this notebook. <br> \n",
    "You can use this description in the exercies below.\n",
    "\n",
    "The first queries you will write are simple retrieval queries."
   ]
  },
  {
   "cell_type": "markdown",
   "metadata": {},
   "source": [
    "### Question B1\n",
    "Retrieve all available information regarding products contained in the `products` table."
   ]
  },
  {
   "cell_type": "code",
   "execution_count": 3,
   "metadata": {},
   "outputs": [
    {
     "name": "stdout",
     "output_type": "stream",
     "text": [
      "🟢 That's correct!       \n"
     ]
    },
    {
     "data": {
      "text/html": [
       "<div>\n",
       "<style scoped>\n",
       "    .dataframe tbody tr th:only-of-type {\n",
       "        vertical-align: middle;\n",
       "    }\n",
       "\n",
       "    .dataframe tbody tr th {\n",
       "        vertical-align: top;\n",
       "    }\n",
       "\n",
       "    .dataframe thead th {\n",
       "        text-align: right;\n",
       "    }\n",
       "</style>\n",
       "<table border=\"1\" class=\"dataframe\">\n",
       "  <thead>\n",
       "    <tr style=\"text-align: right;\">\n",
       "      <th></th>\n",
       "      <th>id</th>\n",
       "      <th>name</th>\n",
       "      <th>price</th>\n",
       "      <th>stock</th>\n",
       "    </tr>\n",
       "  </thead>\n",
       "  <tbody>\n",
       "    <tr>\n",
       "      <th>0</th>\n",
       "      <td>0</td>\n",
       "      <td>Copying paper (500 pcs.)</td>\n",
       "      <td>4.95</td>\n",
       "      <td>304</td>\n",
       "    </tr>\n",
       "    <tr>\n",
       "      <th>1</th>\n",
       "      <td>1</td>\n",
       "      <td>Binders (3 pcs.)</td>\n",
       "      <td>8.30</td>\n",
       "      <td>33</td>\n",
       "    </tr>\n",
       "    <tr>\n",
       "      <th>2</th>\n",
       "      <td>2</td>\n",
       "      <td>Office chairs</td>\n",
       "      <td>159.99</td>\n",
       "      <td>25</td>\n",
       "    </tr>\n",
       "    <tr>\n",
       "      <th>3</th>\n",
       "      <td>3</td>\n",
       "      <td>Desk</td>\n",
       "      <td>254.99</td>\n",
       "      <td>12</td>\n",
       "    </tr>\n",
       "    <tr>\n",
       "      <th>4</th>\n",
       "      <td>4</td>\n",
       "      <td>PC monitor</td>\n",
       "      <td>188.99</td>\n",
       "      <td>48</td>\n",
       "    </tr>\n",
       "    <tr>\n",
       "      <th>5</th>\n",
       "      <td>5</td>\n",
       "      <td>Computer mouse</td>\n",
       "      <td>16.99</td>\n",
       "      <td>80</td>\n",
       "    </tr>\n",
       "    <tr>\n",
       "      <th>6</th>\n",
       "      <td>6</td>\n",
       "      <td>Pens (50 pcs.)</td>\n",
       "      <td>23.60</td>\n",
       "      <td>143</td>\n",
       "    </tr>\n",
       "    <tr>\n",
       "      <th>7</th>\n",
       "      <td>7</td>\n",
       "      <td>Black toners (2pcs.)</td>\n",
       "      <td>39.95</td>\n",
       "      <td>228</td>\n",
       "    </tr>\n",
       "  </tbody>\n",
       "</table>\n",
       "</div>"
      ],
      "text/plain": [
       "   id                      name   price  stock\n",
       "0   0  Copying paper (500 pcs.)    4.95    304\n",
       "1   1          Binders (3 pcs.)    8.30     33\n",
       "2   2             Office chairs  159.99     25\n",
       "3   3                      Desk  254.99     12\n",
       "4   4                PC monitor  188.99     48\n",
       "5   5            Computer mouse   16.99     80\n",
       "6   6            Pens (50 pcs.)   23.60    143\n",
       "7   7      Black toners (2pcs.)   39.95    228"
      ]
     },
     "metadata": {},
     "output_type": "display_data"
    }
   ],
   "source": [
    "Q_B1 = 'SELECT * FROM products;'\n",
    "\n",
    "module.check_query('B1', Q_B1)"
   ]
  },
  {
   "cell_type": "markdown",
   "metadata": {},
   "source": [
    "### Question B2\n",
    "Retrieve all rows of the `orders` table that have a `quantity` of 5 or more products, showing the `customer_id`, `product_id` and `quantity`."
   ]
  },
  {
   "cell_type": "code",
   "execution_count": 4,
   "metadata": {},
   "outputs": [
    {
     "name": "stdout",
     "output_type": "stream",
     "text": [
      "🟢 That's correct!       \n"
     ]
    },
    {
     "data": {
      "text/html": [
       "<div>\n",
       "<style scoped>\n",
       "    .dataframe tbody tr th:only-of-type {\n",
       "        vertical-align: middle;\n",
       "    }\n",
       "\n",
       "    .dataframe tbody tr th {\n",
       "        vertical-align: top;\n",
       "    }\n",
       "\n",
       "    .dataframe thead th {\n",
       "        text-align: right;\n",
       "    }\n",
       "</style>\n",
       "<table border=\"1\" class=\"dataframe\">\n",
       "  <thead>\n",
       "    <tr style=\"text-align: right;\">\n",
       "      <th></th>\n",
       "      <th>customer_id</th>\n",
       "      <th>product_id</th>\n",
       "      <th>quantity</th>\n",
       "    </tr>\n",
       "  </thead>\n",
       "  <tbody>\n",
       "    <tr>\n",
       "      <th>0</th>\n",
       "      <td>5</td>\n",
       "      <td>5</td>\n",
       "      <td>5</td>\n",
       "    </tr>\n",
       "    <tr>\n",
       "      <th>1</th>\n",
       "      <td>11</td>\n",
       "      <td>2</td>\n",
       "      <td>6</td>\n",
       "    </tr>\n",
       "    <tr>\n",
       "      <th>2</th>\n",
       "      <td>0</td>\n",
       "      <td>3</td>\n",
       "      <td>6</td>\n",
       "    </tr>\n",
       "    <tr>\n",
       "      <th>3</th>\n",
       "      <td>2</td>\n",
       "      <td>7</td>\n",
       "      <td>6</td>\n",
       "    </tr>\n",
       "    <tr>\n",
       "      <th>4</th>\n",
       "      <td>1</td>\n",
       "      <td>7</td>\n",
       "      <td>5</td>\n",
       "    </tr>\n",
       "    <tr>\n",
       "      <th>5</th>\n",
       "      <td>8</td>\n",
       "      <td>7</td>\n",
       "      <td>5</td>\n",
       "    </tr>\n",
       "  </tbody>\n",
       "</table>\n",
       "</div>"
      ],
      "text/plain": [
       "   customer_id  product_id  quantity\n",
       "0            5           5         5\n",
       "1           11           2         6\n",
       "2            0           3         6\n",
       "3            2           7         6\n",
       "4            1           7         5\n",
       "5            8           7         5"
      ]
     },
     "metadata": {},
     "output_type": "display_data"
    }
   ],
   "source": [
    "Q_B2 = 'SELECT customer_id, product_id, quantity FROM orders WHERE quantity >= 5;'\n",
    "\n",
    "module.check_query('B2', Q_B2)"
   ]
  },
  {
   "cell_type": "markdown",
   "metadata": {},
   "source": [
    "### Question B3\n",
    "Retrieve first and last name of all customers with a first name that starts with a `\"J\"`."
   ]
  },
  {
   "cell_type": "code",
   "execution_count": 5,
   "metadata": {},
   "outputs": [
    {
     "name": "stdout",
     "output_type": "stream",
     "text": [
      "🟢 That's correct!       \n"
     ]
    },
    {
     "data": {
      "text/html": [
       "<div>\n",
       "<style scoped>\n",
       "    .dataframe tbody tr th:only-of-type {\n",
       "        vertical-align: middle;\n",
       "    }\n",
       "\n",
       "    .dataframe tbody tr th {\n",
       "        vertical-align: top;\n",
       "    }\n",
       "\n",
       "    .dataframe thead th {\n",
       "        text-align: right;\n",
       "    }\n",
       "</style>\n",
       "<table border=\"1\" class=\"dataframe\">\n",
       "  <thead>\n",
       "    <tr style=\"text-align: right;\">\n",
       "      <th></th>\n",
       "      <th>first_name</th>\n",
       "      <th>last_name</th>\n",
       "    </tr>\n",
       "  </thead>\n",
       "  <tbody>\n",
       "    <tr>\n",
       "      <th>0</th>\n",
       "      <td>John</td>\n",
       "      <td>Doe</td>\n",
       "    </tr>\n",
       "    <tr>\n",
       "      <th>1</th>\n",
       "      <td>Jamie</td>\n",
       "      <td>Dean</td>\n",
       "    </tr>\n",
       "  </tbody>\n",
       "</table>\n",
       "</div>"
      ],
      "text/plain": [
       "  first_name last_name\n",
       "0       John       Doe\n",
       "1      Jamie      Dean"
      ]
     },
     "metadata": {},
     "output_type": "display_data"
    }
   ],
   "source": [
    "Q_B3 = 'SELECT first_name, last_name FROM customers WHERE first_name LIKE \"J%\";'\n",
    "\n",
    "module.check_query('B3', Q_B3)"
   ]
  },
  {
   "cell_type": "markdown",
   "metadata": {},
   "source": [
    "### Question B4\n",
    "Retrieve all available information of the top 6 largest orders in terms of quantity."
   ]
  },
  {
   "cell_type": "code",
   "execution_count": 6,
   "metadata": {},
   "outputs": [
    {
     "name": "stdout",
     "output_type": "stream",
     "text": [
      "🟢 That's correct!       \n"
     ]
    },
    {
     "data": {
      "text/html": [
       "<div>\n",
       "<style scoped>\n",
       "    .dataframe tbody tr th:only-of-type {\n",
       "        vertical-align: middle;\n",
       "    }\n",
       "\n",
       "    .dataframe tbody tr th {\n",
       "        vertical-align: top;\n",
       "    }\n",
       "\n",
       "    .dataframe thead th {\n",
       "        text-align: right;\n",
       "    }\n",
       "</style>\n",
       "<table border=\"1\" class=\"dataframe\">\n",
       "  <thead>\n",
       "    <tr style=\"text-align: right;\">\n",
       "      <th></th>\n",
       "      <th>id</th>\n",
       "      <th>customer_id</th>\n",
       "      <th>product_id</th>\n",
       "      <th>date</th>\n",
       "      <th>quantity</th>\n",
       "    </tr>\n",
       "  </thead>\n",
       "  <tbody>\n",
       "    <tr>\n",
       "      <th>0</th>\n",
       "      <td>5</td>\n",
       "      <td>11</td>\n",
       "      <td>2</td>\n",
       "      <td>2022-02-08</td>\n",
       "      <td>6</td>\n",
       "    </tr>\n",
       "    <tr>\n",
       "      <th>1</th>\n",
       "      <td>6</td>\n",
       "      <td>0</td>\n",
       "      <td>3</td>\n",
       "      <td>2022-12-12</td>\n",
       "      <td>6</td>\n",
       "    </tr>\n",
       "    <tr>\n",
       "      <th>2</th>\n",
       "      <td>7</td>\n",
       "      <td>2</td>\n",
       "      <td>7</td>\n",
       "      <td>2022-04-06</td>\n",
       "      <td>6</td>\n",
       "    </tr>\n",
       "    <tr>\n",
       "      <th>3</th>\n",
       "      <td>0</td>\n",
       "      <td>5</td>\n",
       "      <td>5</td>\n",
       "      <td>2022-11-07</td>\n",
       "      <td>5</td>\n",
       "    </tr>\n",
       "    <tr>\n",
       "      <th>4</th>\n",
       "      <td>12</td>\n",
       "      <td>1</td>\n",
       "      <td>7</td>\n",
       "      <td>2022-10-13</td>\n",
       "      <td>5</td>\n",
       "    </tr>\n",
       "    <tr>\n",
       "      <th>5</th>\n",
       "      <td>19</td>\n",
       "      <td>8</td>\n",
       "      <td>7</td>\n",
       "      <td>2022-12-19</td>\n",
       "      <td>5</td>\n",
       "    </tr>\n",
       "  </tbody>\n",
       "</table>\n",
       "</div>"
      ],
      "text/plain": [
       "   id  customer_id  product_id        date  quantity\n",
       "0   5           11           2  2022-02-08         6\n",
       "1   6            0           3  2022-12-12         6\n",
       "2   7            2           7  2022-04-06         6\n",
       "3   0            5           5  2022-11-07         5\n",
       "4  12            1           7  2022-10-13         5\n",
       "5  19            8           7  2022-12-19         5"
      ]
     },
     "metadata": {},
     "output_type": "display_data"
    }
   ],
   "source": [
    "Q_B4 = 'SELECT * FROM orders ORDER BY quantity DESC LIMIT 6;'\n",
    "\n",
    "module.check_query('B4', Q_B4)"
   ]
  },
  {
   "cell_type": "markdown",
   "metadata": {},
   "source": [
    "### Question B5\n",
    "Retrieve only the name and price of the cheapest product in the `products` table."
   ]
  },
  {
   "cell_type": "code",
   "execution_count": 7,
   "metadata": {},
   "outputs": [
    {
     "name": "stdout",
     "output_type": "stream",
     "text": [
      "🟢 That's correct!       \n"
     ]
    },
    {
     "data": {
      "text/html": [
       "<div>\n",
       "<style scoped>\n",
       "    .dataframe tbody tr th:only-of-type {\n",
       "        vertical-align: middle;\n",
       "    }\n",
       "\n",
       "    .dataframe tbody tr th {\n",
       "        vertical-align: top;\n",
       "    }\n",
       "\n",
       "    .dataframe thead th {\n",
       "        text-align: right;\n",
       "    }\n",
       "</style>\n",
       "<table border=\"1\" class=\"dataframe\">\n",
       "  <thead>\n",
       "    <tr style=\"text-align: right;\">\n",
       "      <th></th>\n",
       "      <th>name</th>\n",
       "      <th>price</th>\n",
       "    </tr>\n",
       "  </thead>\n",
       "  <tbody>\n",
       "    <tr>\n",
       "      <th>0</th>\n",
       "      <td>Copying paper (500 pcs.)</td>\n",
       "      <td>4.95</td>\n",
       "    </tr>\n",
       "  </tbody>\n",
       "</table>\n",
       "</div>"
      ],
      "text/plain": [
       "                       name  price\n",
       "0  Copying paper (500 pcs.)   4.95"
      ]
     },
     "metadata": {},
     "output_type": "display_data"
    }
   ],
   "source": [
    "Q_B5 = 'SELECT name, price FROM products ORDER BY price LIMIT 1;'\n",
    "\n",
    "module.check_query('B5', Q_B5)"
   ]
  },
  {
   "cell_type": "markdown",
   "metadata": {},
   "source": [
    "[Back to top](#module-3---structured-query-language-sql)\n",
    "\n",
    "<hr>\n",
    "\n",
    "## C. Database operations\n",
    "Besides execution of basic reading operations, also a lot of database operations are available. <br>\n",
    "These operations include Creating, Updating an Deleting operations. <br>\n",
    "These operations form the foundation for every Database developer and/or administrator. <br>\n",
    "Understanding these functionalities, you will be able to create, access and manipulate databases. <br>\n",
    "The operations and their functionaltiy will be listed below:\n",
    "\n",
    "* `CREATE TABLE` - Creates a table with the given table name.\n",
    "* `INSERT INTO` - Allows you to add new records to the database table.\n",
    "* `UPDATE` - Allows you to adjust data in existing records within the database table.\n",
    "* `DELETE FROM` - Allows you to delete one or multiple data records from the database table.\n",
    "* `DROP TABLE` - Allows you to drop an entire table from the database."
   ]
  },
  {
   "cell_type": "markdown",
   "metadata": {},
   "source": [
    "### Question C1\n",
    "Write a query that creates a new table called `campaigns`, which contains all marketing campaigns of different products. <br>\n",
    "The table should consists of the following columns and their corresponding data types:\n",
    "\n",
    "* `id` - Integer, Primary Key, Auto Increment\n",
    "* `product_id` - Integer, Foreign Key (reference: products.id)\n",
    "* `campaign_start` - Timestamp\n",
    "* `campaign_end` - Timestamp\n",
    "* `discount` - float"
   ]
  },
  {
   "cell_type": "code",
   "execution_count": 8,
   "metadata": {},
   "outputs": [
    {
     "name": "stdout",
     "output_type": "stream",
     "text": [
      "Table dropped successfully!\n",
      "Table created successfully!\n",
      "🟢 That's correct!       \n"
     ]
    },
    {
     "data": {
      "text/html": [
       "<div>\n",
       "<style scoped>\n",
       "    .dataframe tbody tr th:only-of-type {\n",
       "        vertical-align: middle;\n",
       "    }\n",
       "\n",
       "    .dataframe tbody tr th {\n",
       "        vertical-align: top;\n",
       "    }\n",
       "\n",
       "    .dataframe thead th {\n",
       "        text-align: right;\n",
       "    }\n",
       "</style>\n",
       "<table border=\"1\" class=\"dataframe\">\n",
       "  <thead>\n",
       "    <tr style=\"text-align: right;\">\n",
       "      <th></th>\n",
       "      <th>id</th>\n",
       "      <th>product_id</th>\n",
       "      <th>campaign_start</th>\n",
       "      <th>campaign_end</th>\n",
       "      <th>discount</th>\n",
       "    </tr>\n",
       "  </thead>\n",
       "  <tbody>\n",
       "  </tbody>\n",
       "</table>\n",
       "</div>"
      ],
      "text/plain": [
       "Empty DataFrame\n",
       "Columns: [id, product_id, campaign_start, campaign_end, discount]\n",
       "Index: []"
      ]
     },
     "metadata": {},
     "output_type": "display_data"
    }
   ],
   "source": [
    "# Drop the table if it already exists to avoid errors\n",
    "module.query('DROP TABLE IF EXISTS campaigns')\n",
    "\n",
    "# Enter your query here\n",
    "Q_C1 = \"\"\"\n",
    "CREATE TABLE campaigns (\n",
    "    id INTEGER PRIMARY KEY AUTOINCREMENT,\n",
    "    product_id INTEGER,\n",
    "    campaign_start TIMESTAMP,\n",
    "    campaign_end TIMESTAMP,\n",
    "    discount FLOAT,\n",
    "    FOREIGN KEY (product_id) REFERENCES products(id)\n",
    ");\n",
    "\"\"\"\n",
    "\n",
    "# Execute query to create the database\n",
    "module.query(Q_C1)\n",
    "\n",
    "# Check\n",
    "module.check_query('C1', 'SELECT * FROM campaigns')"
   ]
  },
  {
   "cell_type": "markdown",
   "metadata": {},
   "source": [
    "### Question C2\n",
    "Now it is time to populate your newly created table. <br>\n",
    "Please insert the following data onto the campaigns table. <br>"
   ]
  },
  {
   "cell_type": "markdown",
   "metadata": {},
   "source": [
    "```json\n",
    "{ \n",
    "    \"product_id\": 4,\n",
    "    \"campaign_start\": \"2022-01-01\",\n",
    "    \"campaign_end\": \"2022-04-08\",\n",
    "    \"discount\": 0.20\n",
    "}\n",
    "```"
   ]
  },
  {
   "cell_type": "code",
   "execution_count": 9,
   "metadata": {},
   "outputs": [
    {
     "name": "stdout",
     "output_type": "stream",
     "text": [
      "Data inserted successfully!\n"
     ]
    }
   ],
   "source": [
    "Q_C2_1 = \"\"\"\n",
    "INSERT INTO campaigns (product_id, campaign_start, campaign_end, discount)\n",
    "VALUES (4, '2022-01-01', '2022-04-08', 0.20);\n",
    "\"\"\"\n",
    "\n",
    "module.query(Q_C2_1)"
   ]
  },
  {
   "cell_type": "markdown",
   "metadata": {},
   "source": [
    "```json\n",
    "{ \n",
    "    \"product_id\": 6,\n",
    "    \"campaign_start\": \"2022-02-02\",\n",
    "    \"campaign_end\": \"2022-06-23\",\n",
    "    \"discount\": 0.15\n",
    "}\n",
    "```"
   ]
  },
  {
   "cell_type": "code",
   "execution_count": 10,
   "metadata": {},
   "outputs": [
    {
     "name": "stdout",
     "output_type": "stream",
     "text": [
      "Data inserted successfully!\n"
     ]
    }
   ],
   "source": [
    "Q_C2_2 = \"\"\"\n",
    "INSERT INTO campaigns (product_id, campaign_start, campaign_end, discount)\n",
    "VALUES (6, '2022-02-02', '2022-06-23', 0.15);\n",
    "\"\"\"\n",
    "\n",
    "module.query(Q_C2_2)"
   ]
  },
  {
   "cell_type": "markdown",
   "metadata": {},
   "source": [
    "```json\n",
    "{ \n",
    "    \"product_id\": 4,\n",
    "    \"campaign_start\": \"2022-04-20\",\n",
    "    \"campaign_end\": \"2022-07-15\",\n",
    "    \"discount\": 0.30\n",
    "}\n",
    "```"
   ]
  },
  {
   "cell_type": "code",
   "execution_count": 11,
   "metadata": {},
   "outputs": [
    {
     "name": "stdout",
     "output_type": "stream",
     "text": [
      "Data inserted successfully!\n"
     ]
    }
   ],
   "source": [
    "Q_C2_3 = \"\"\"\n",
    "INSERT INTO campaigns (product_id, campaign_start, campaign_end, discount)\n",
    "VALUES (4, '2022-04-20', '2022-07-15', 0.30);\n",
    "\"\"\"\n",
    "\n",
    "module.query(Q_C2_3)"
   ]
  },
  {
   "cell_type": "markdown",
   "metadata": {},
   "source": [
    "```json\n",
    "{ \n",
    "    \"product_id\": 7,\n",
    "    \"campaign_start\": \"2022-10-20\",\n",
    "    \"campaign_end\": \"2022-12-31\",\n",
    "    \"discount\": 0.125\n",
    "}\n",
    "```"
   ]
  },
  {
   "cell_type": "code",
   "execution_count": 12,
   "metadata": {},
   "outputs": [
    {
     "name": "stdout",
     "output_type": "stream",
     "text": [
      "Data inserted successfully!\n"
     ]
    }
   ],
   "source": [
    "Q_C2_4 = \"\"\"\n",
    "INSERT INTO campaigns (product_id, campaign_start, campaign_end, discount)\n",
    "VALUES (7, '2022-10-20', '2022-12-31', 0.125);\n",
    "\"\"\"\n",
    "\n",
    "module.query(Q_C2_4)"
   ]
  },
  {
   "cell_type": "markdown",
   "metadata": {},
   "source": [
    "Now run the query below to check your results.\n",
    "\n",
    "> **Tip** - Do you see more than 4 rows? You might have ran one of the cells multiple times. Run the cell of question C1 and the above cells of C2 again, as this might resolve this."
   ]
  },
  {
   "cell_type": "code",
   "execution_count": 13,
   "metadata": {},
   "outputs": [
    {
     "name": "stdout",
     "output_type": "stream",
     "text": [
      "🟢 That's correct!       \n"
     ]
    },
    {
     "data": {
      "text/html": [
       "<div>\n",
       "<style scoped>\n",
       "    .dataframe tbody tr th:only-of-type {\n",
       "        vertical-align: middle;\n",
       "    }\n",
       "\n",
       "    .dataframe tbody tr th {\n",
       "        vertical-align: top;\n",
       "    }\n",
       "\n",
       "    .dataframe thead th {\n",
       "        text-align: right;\n",
       "    }\n",
       "</style>\n",
       "<table border=\"1\" class=\"dataframe\">\n",
       "  <thead>\n",
       "    <tr style=\"text-align: right;\">\n",
       "      <th></th>\n",
       "      <th>id</th>\n",
       "      <th>product_id</th>\n",
       "      <th>campaign_start</th>\n",
       "      <th>campaign_end</th>\n",
       "      <th>discount</th>\n",
       "    </tr>\n",
       "  </thead>\n",
       "  <tbody>\n",
       "    <tr>\n",
       "      <th>0</th>\n",
       "      <td>1</td>\n",
       "      <td>4</td>\n",
       "      <td>2022-01-01</td>\n",
       "      <td>2022-04-08</td>\n",
       "      <td>0.200</td>\n",
       "    </tr>\n",
       "    <tr>\n",
       "      <th>1</th>\n",
       "      <td>2</td>\n",
       "      <td>6</td>\n",
       "      <td>2022-02-02</td>\n",
       "      <td>2022-06-23</td>\n",
       "      <td>0.150</td>\n",
       "    </tr>\n",
       "    <tr>\n",
       "      <th>2</th>\n",
       "      <td>3</td>\n",
       "      <td>4</td>\n",
       "      <td>2022-04-20</td>\n",
       "      <td>2022-07-15</td>\n",
       "      <td>0.300</td>\n",
       "    </tr>\n",
       "    <tr>\n",
       "      <th>3</th>\n",
       "      <td>4</td>\n",
       "      <td>7</td>\n",
       "      <td>2022-10-20</td>\n",
       "      <td>2022-12-31</td>\n",
       "      <td>0.125</td>\n",
       "    </tr>\n",
       "  </tbody>\n",
       "</table>\n",
       "</div>"
      ],
      "text/plain": [
       "   id  product_id campaign_start campaign_end  discount\n",
       "0   1           4     2022-01-01   2022-04-08     0.200\n",
       "1   2           6     2022-02-02   2022-06-23     0.150\n",
       "2   3           4     2022-04-20   2022-07-15     0.300\n",
       "3   4           7     2022-10-20   2022-12-31     0.125"
      ]
     },
     "metadata": {},
     "output_type": "display_data"
    }
   ],
   "source": [
    "# Query table to check result\n",
    "module.check_query('C2', 'SELECT * FROM campaigns;')"
   ]
  },
  {
   "cell_type": "markdown",
   "metadata": {},
   "source": [
    "### Question C3\n",
    "We have actually made some mistake with inserting the campaigns into the database. <br>\n",
    "Make the following adjustments to the database records."
   ]
  },
  {
   "cell_type": "markdown",
   "metadata": {},
   "source": [
    "For the campaign with `id` `1`, Change the start date from: `'2022-01-01'` to `'2022-01-25'`."
   ]
  },
  {
   "cell_type": "code",
   "execution_count": 14,
   "metadata": {},
   "outputs": [
    {
     "name": "stdout",
     "output_type": "stream",
     "text": [
      "Data record updated successfully!\n"
     ]
    }
   ],
   "source": [
    "Q_C3_1 = 'UPDATE campaigns SET campaign_start = \"2022-01-25\" WHERE id = 1;' \n",
    "\n",
    "module.query(Q_C3_1)"
   ]
  },
  {
   "cell_type": "markdown",
   "metadata": {},
   "source": [
    "For the campaign(s) with end date `'2022-06-23'`, Change the start date to `'2022-01-01'` and the end date to `'2022-12-31'`."
   ]
  },
  {
   "cell_type": "code",
   "execution_count": 15,
   "metadata": {},
   "outputs": [
    {
     "name": "stdout",
     "output_type": "stream",
     "text": [
      "Data record updated successfully!\n"
     ]
    }
   ],
   "source": [
    "Q_C3_2 = \"UPDATE campaigns SET campaign_start = '2022-01-01', campaign_end = '2022-12-31' WHERE campaign_end = '2022-06-23';\" \n",
    "\n",
    "module.query(Q_C3_2)"
   ]
  },
  {
   "cell_type": "markdown",
   "metadata": {},
   "source": [
    "For the campaign(s) concerning `product_id` `4`, change the discount to `0.25`."
   ]
  },
  {
   "cell_type": "code",
   "execution_count": 16,
   "metadata": {},
   "outputs": [
    {
     "name": "stdout",
     "output_type": "stream",
     "text": [
      "Data record updated successfully!\n"
     ]
    }
   ],
   "source": [
    "Q_C3_3 = \"UPDATE campaigns SET discount = 0.25 WHERE product_id = 4;\" \n",
    "\n",
    "module.query(Q_C3_3)"
   ]
  },
  {
   "cell_type": "markdown",
   "metadata": {},
   "source": [
    "Now run the following cell to check your result:"
   ]
  },
  {
   "cell_type": "code",
   "execution_count": 17,
   "metadata": {},
   "outputs": [
    {
     "name": "stdout",
     "output_type": "stream",
     "text": [
      "🟢 That's correct!       \n"
     ]
    },
    {
     "data": {
      "text/html": [
       "<div>\n",
       "<style scoped>\n",
       "    .dataframe tbody tr th:only-of-type {\n",
       "        vertical-align: middle;\n",
       "    }\n",
       "\n",
       "    .dataframe tbody tr th {\n",
       "        vertical-align: top;\n",
       "    }\n",
       "\n",
       "    .dataframe thead th {\n",
       "        text-align: right;\n",
       "    }\n",
       "</style>\n",
       "<table border=\"1\" class=\"dataframe\">\n",
       "  <thead>\n",
       "    <tr style=\"text-align: right;\">\n",
       "      <th></th>\n",
       "      <th>id</th>\n",
       "      <th>product_id</th>\n",
       "      <th>campaign_start</th>\n",
       "      <th>campaign_end</th>\n",
       "      <th>discount</th>\n",
       "    </tr>\n",
       "  </thead>\n",
       "  <tbody>\n",
       "    <tr>\n",
       "      <th>0</th>\n",
       "      <td>1</td>\n",
       "      <td>4</td>\n",
       "      <td>2022-01-25</td>\n",
       "      <td>2022-04-08</td>\n",
       "      <td>0.250</td>\n",
       "    </tr>\n",
       "    <tr>\n",
       "      <th>1</th>\n",
       "      <td>2</td>\n",
       "      <td>6</td>\n",
       "      <td>2022-01-01</td>\n",
       "      <td>2022-12-31</td>\n",
       "      <td>0.150</td>\n",
       "    </tr>\n",
       "    <tr>\n",
       "      <th>2</th>\n",
       "      <td>3</td>\n",
       "      <td>4</td>\n",
       "      <td>2022-04-20</td>\n",
       "      <td>2022-07-15</td>\n",
       "      <td>0.250</td>\n",
       "    </tr>\n",
       "    <tr>\n",
       "      <th>3</th>\n",
       "      <td>4</td>\n",
       "      <td>7</td>\n",
       "      <td>2022-10-20</td>\n",
       "      <td>2022-12-31</td>\n",
       "      <td>0.125</td>\n",
       "    </tr>\n",
       "  </tbody>\n",
       "</table>\n",
       "</div>"
      ],
      "text/plain": [
       "   id  product_id campaign_start campaign_end  discount\n",
       "0   1           4     2022-01-25   2022-04-08     0.250\n",
       "1   2           6     2022-01-01   2022-12-31     0.150\n",
       "2   3           4     2022-04-20   2022-07-15     0.250\n",
       "3   4           7     2022-10-20   2022-12-31     0.125"
      ]
     },
     "metadata": {},
     "output_type": "display_data"
    }
   ],
   "source": [
    "# Query table to check result\n",
    "module.check_query('C3', 'SELECT * FROM campaigns;')"
   ]
  },
  {
   "cell_type": "markdown",
   "metadata": {},
   "source": [
    "### Question C4\n",
    "Deletion of record can also be done in a similar manner as previous database mutations using the WHERE clause. <br>\n",
    "Write the queries executing the following behavior."
   ]
  },
  {
   "cell_type": "markdown",
   "metadata": {},
   "source": [
    "Remove all campaigns that concern `product_id` `6`."
   ]
  },
  {
   "cell_type": "code",
   "execution_count": 18,
   "metadata": {},
   "outputs": [
    {
     "name": "stdout",
     "output_type": "stream",
     "text": [
      "Data record deleted successfully!\n",
      "🟢 That's correct!       \n"
     ]
    },
    {
     "data": {
      "text/html": [
       "<div>\n",
       "<style scoped>\n",
       "    .dataframe tbody tr th:only-of-type {\n",
       "        vertical-align: middle;\n",
       "    }\n",
       "\n",
       "    .dataframe tbody tr th {\n",
       "        vertical-align: top;\n",
       "    }\n",
       "\n",
       "    .dataframe thead th {\n",
       "        text-align: right;\n",
       "    }\n",
       "</style>\n",
       "<table border=\"1\" class=\"dataframe\">\n",
       "  <thead>\n",
       "    <tr style=\"text-align: right;\">\n",
       "      <th></th>\n",
       "      <th>id</th>\n",
       "      <th>product_id</th>\n",
       "      <th>campaign_start</th>\n",
       "      <th>campaign_end</th>\n",
       "      <th>discount</th>\n",
       "    </tr>\n",
       "  </thead>\n",
       "  <tbody>\n",
       "    <tr>\n",
       "      <th>0</th>\n",
       "      <td>1</td>\n",
       "      <td>4</td>\n",
       "      <td>2022-01-25</td>\n",
       "      <td>2022-04-08</td>\n",
       "      <td>0.250</td>\n",
       "    </tr>\n",
       "    <tr>\n",
       "      <th>1</th>\n",
       "      <td>3</td>\n",
       "      <td>4</td>\n",
       "      <td>2022-04-20</td>\n",
       "      <td>2022-07-15</td>\n",
       "      <td>0.250</td>\n",
       "    </tr>\n",
       "    <tr>\n",
       "      <th>2</th>\n",
       "      <td>4</td>\n",
       "      <td>7</td>\n",
       "      <td>2022-10-20</td>\n",
       "      <td>2022-12-31</td>\n",
       "      <td>0.125</td>\n",
       "    </tr>\n",
       "  </tbody>\n",
       "</table>\n",
       "</div>"
      ],
      "text/plain": [
       "   id  product_id campaign_start campaign_end  discount\n",
       "0   1           4     2022-01-25   2022-04-08     0.250\n",
       "1   3           4     2022-04-20   2022-07-15     0.250\n",
       "2   4           7     2022-10-20   2022-12-31     0.125"
      ]
     },
     "metadata": {},
     "output_type": "display_data"
    }
   ],
   "source": [
    "Q_C4_1 = \"DELETE FROM campaigns where product_id = 6;\"\n",
    "\n",
    "module.query(Q_C4_1)\n",
    "\n",
    "# Query table to check results\n",
    "module.check_query('C4-1', 'SELECT * FROM campaigns;')"
   ]
  },
  {
   "cell_type": "markdown",
   "metadata": {},
   "source": [
    "Remove all other campaigns, emptying this database table."
   ]
  },
  {
   "cell_type": "code",
   "execution_count": 19,
   "metadata": {},
   "outputs": [
    {
     "name": "stdout",
     "output_type": "stream",
     "text": [
      "Data record deleted successfully!\n",
      "🟢 That's correct!       \n"
     ]
    },
    {
     "data": {
      "text/html": [
       "<div>\n",
       "<style scoped>\n",
       "    .dataframe tbody tr th:only-of-type {\n",
       "        vertical-align: middle;\n",
       "    }\n",
       "\n",
       "    .dataframe tbody tr th {\n",
       "        vertical-align: top;\n",
       "    }\n",
       "\n",
       "    .dataframe thead th {\n",
       "        text-align: right;\n",
       "    }\n",
       "</style>\n",
       "<table border=\"1\" class=\"dataframe\">\n",
       "  <thead>\n",
       "    <tr style=\"text-align: right;\">\n",
       "      <th></th>\n",
       "      <th>id</th>\n",
       "      <th>product_id</th>\n",
       "      <th>campaign_start</th>\n",
       "      <th>campaign_end</th>\n",
       "      <th>discount</th>\n",
       "    </tr>\n",
       "  </thead>\n",
       "  <tbody>\n",
       "  </tbody>\n",
       "</table>\n",
       "</div>"
      ],
      "text/plain": [
       "Empty DataFrame\n",
       "Columns: [id, product_id, campaign_start, campaign_end, discount]\n",
       "Index: []"
      ]
     },
     "metadata": {},
     "output_type": "display_data"
    }
   ],
   "source": [
    "Q_C4_2 = \"DELETE FROM campaigns\"\n",
    "\n",
    "module.query(Q_C4_2)\n",
    "\n",
    "# Query table to check results\n",
    "module.check_query('C4-2', 'SELECT * FROM campaigns;')"
   ]
  },
  {
   "cell_type": "markdown",
   "metadata": {},
   "source": [
    "## Caution!\n",
    "The last query you wrote to remove all campaigns shows the danger of using the `DELETE FROM` operator. <br>\n",
    "When using this operator make sure to **always include a where condition**, as otherwise the database table is emptied. <br>\n",
    "If such a query without a condition is executed on an actual database table the data will be removed without a possibility of to be retrieved."
   ]
  },
  {
   "cell_type": "markdown",
   "metadata": {},
   "source": [
    "### Question C5\n",
    "The created `campaigns` table is only created and used to practice the database operators. <br>\n",
    "For the following excersises we will clean the database by dropping the `campaigns` table. <br>\n",
    "Write a query that drops the table from te database, only leaving the `customers`, `products` and `orders` tables."
   ]
  },
  {
   "cell_type": "code",
   "execution_count": 20,
   "metadata": {},
   "outputs": [
    {
     "name": "stdout",
     "output_type": "stream",
     "text": [
      "Table dropped successfully!\n",
      "🟢 That's correct!       \n"
     ]
    },
    {
     "data": {
      "text/html": [
       "<div>\n",
       "<style scoped>\n",
       "    .dataframe tbody tr th:only-of-type {\n",
       "        vertical-align: middle;\n",
       "    }\n",
       "\n",
       "    .dataframe tbody tr th {\n",
       "        vertical-align: top;\n",
       "    }\n",
       "\n",
       "    .dataframe thead th {\n",
       "        text-align: right;\n",
       "    }\n",
       "</style>\n",
       "<table border=\"1\" class=\"dataframe\">\n",
       "  <thead>\n",
       "    <tr style=\"text-align: right;\">\n",
       "      <th></th>\n",
       "      <th>name</th>\n",
       "    </tr>\n",
       "  </thead>\n",
       "  <tbody>\n",
       "    <tr>\n",
       "      <th>0</th>\n",
       "      <td>customers</td>\n",
       "    </tr>\n",
       "    <tr>\n",
       "      <th>1</th>\n",
       "      <td>orders</td>\n",
       "    </tr>\n",
       "    <tr>\n",
       "      <th>2</th>\n",
       "      <td>products</td>\n",
       "    </tr>\n",
       "    <tr>\n",
       "      <th>3</th>\n",
       "      <td>sqlite_sequence</td>\n",
       "    </tr>\n",
       "  </tbody>\n",
       "</table>\n",
       "</div>"
      ],
      "text/plain": [
       "              name\n",
       "0        customers\n",
       "1           orders\n",
       "2         products\n",
       "3  sqlite_sequence"
      ]
     },
     "metadata": {},
     "output_type": "display_data"
    }
   ],
   "source": [
    "Q_C5_1 = \"DROP TABLE IF EXISTS campaigns;\"\n",
    "\n",
    "# Execute your query\n",
    "module.query(Q_C5_1)\n",
    "\n",
    "# Check the result\n",
    "module.check_query('C5', 'SELECT name FROM sqlite_master WHERE type=\"table\" ORDER BY name;')"
   ]
  },
  {
   "cell_type": "markdown",
   "metadata": {},
   "source": [
    "[Back to top](#module-3---structured-query-language-sql)\n",
    "<hr>\n",
    "\n",
    "## D. Calculation operators\n",
    "Next, we will look into calculation operators, which extends the possibilities of what can be retrieved from the database. <br>\n",
    "Instead of simply only using the `SELECT` operator, the calculation operators can perform calculations on the values that are retrieved. <br>\n",
    "There are a lot of possible calculation operators, however the most commonly used are the `MAX`, `MIN`, `SUM` and `COUNT` operators.\n",
    "\n",
    "Together with the `GROUP BY` operator you can perform some useful calculative queries that are able to return great Business Intelligence. <br>\n",
    "When using `GROUP BY`, conditional retrieval is done using `HAVING` instead of `WHERE`, which also works for calculations."
   ]
  },
  {
   "cell_type": "markdown",
   "metadata": {},
   "source": [
    "### Question D1\n",
    "Retrieve the total number of orders that are contained in the orders table in a column called `number_of_orders`."
   ]
  },
  {
   "cell_type": "code",
   "execution_count": 21,
   "metadata": {},
   "outputs": [
    {
     "name": "stdout",
     "output_type": "stream",
     "text": [
      "🟢 That's correct!       \n"
     ]
    },
    {
     "data": {
      "text/html": [
       "<div>\n",
       "<style scoped>\n",
       "    .dataframe tbody tr th:only-of-type {\n",
       "        vertical-align: middle;\n",
       "    }\n",
       "\n",
       "    .dataframe tbody tr th {\n",
       "        vertical-align: top;\n",
       "    }\n",
       "\n",
       "    .dataframe thead th {\n",
       "        text-align: right;\n",
       "    }\n",
       "</style>\n",
       "<table border=\"1\" class=\"dataframe\">\n",
       "  <thead>\n",
       "    <tr style=\"text-align: right;\">\n",
       "      <th></th>\n",
       "      <th>number_of_orders</th>\n",
       "    </tr>\n",
       "  </thead>\n",
       "  <tbody>\n",
       "    <tr>\n",
       "      <th>0</th>\n",
       "      <td>20</td>\n",
       "    </tr>\n",
       "  </tbody>\n",
       "</table>\n",
       "</div>"
      ],
      "text/plain": [
       "   number_of_orders\n",
       "0                20"
      ]
     },
     "metadata": {},
     "output_type": "display_data"
    }
   ],
   "source": [
    "Q_D1 = \"SELECT COUNT(*) AS number_of_orders FROM orders\"\n",
    "\n",
    "module.check_query('D1', Q_D1)"
   ]
  },
  {
   "cell_type": "markdown",
   "metadata": {},
   "source": [
    "### Question D2\n",
    "Return the product name and the total value stored in inventory (`price` * `stock`), in a column called `inventory`."
   ]
  },
  {
   "cell_type": "code",
   "execution_count": 22,
   "metadata": {},
   "outputs": [
    {
     "name": "stdout",
     "output_type": "stream",
     "text": [
      "🟢 That's correct!       \n"
     ]
    },
    {
     "data": {
      "text/html": [
       "<div>\n",
       "<style scoped>\n",
       "    .dataframe tbody tr th:only-of-type {\n",
       "        vertical-align: middle;\n",
       "    }\n",
       "\n",
       "    .dataframe tbody tr th {\n",
       "        vertical-align: top;\n",
       "    }\n",
       "\n",
       "    .dataframe thead th {\n",
       "        text-align: right;\n",
       "    }\n",
       "</style>\n",
       "<table border=\"1\" class=\"dataframe\">\n",
       "  <thead>\n",
       "    <tr style=\"text-align: right;\">\n",
       "      <th></th>\n",
       "      <th>name</th>\n",
       "      <th>inventory</th>\n",
       "    </tr>\n",
       "  </thead>\n",
       "  <tbody>\n",
       "    <tr>\n",
       "      <th>0</th>\n",
       "      <td>Copying paper (500 pcs.)</td>\n",
       "      <td>1504.80</td>\n",
       "    </tr>\n",
       "    <tr>\n",
       "      <th>1</th>\n",
       "      <td>Binders (3 pcs.)</td>\n",
       "      <td>273.90</td>\n",
       "    </tr>\n",
       "    <tr>\n",
       "      <th>2</th>\n",
       "      <td>Office chairs</td>\n",
       "      <td>3999.75</td>\n",
       "    </tr>\n",
       "    <tr>\n",
       "      <th>3</th>\n",
       "      <td>Desk</td>\n",
       "      <td>3059.88</td>\n",
       "    </tr>\n",
       "    <tr>\n",
       "      <th>4</th>\n",
       "      <td>PC monitor</td>\n",
       "      <td>9071.52</td>\n",
       "    </tr>\n",
       "    <tr>\n",
       "      <th>5</th>\n",
       "      <td>Computer mouse</td>\n",
       "      <td>1359.20</td>\n",
       "    </tr>\n",
       "    <tr>\n",
       "      <th>6</th>\n",
       "      <td>Pens (50 pcs.)</td>\n",
       "      <td>3374.80</td>\n",
       "    </tr>\n",
       "    <tr>\n",
       "      <th>7</th>\n",
       "      <td>Black toners (2pcs.)</td>\n",
       "      <td>9108.60</td>\n",
       "    </tr>\n",
       "  </tbody>\n",
       "</table>\n",
       "</div>"
      ],
      "text/plain": [
       "                       name  inventory\n",
       "0  Copying paper (500 pcs.)    1504.80\n",
       "1          Binders (3 pcs.)     273.90\n",
       "2             Office chairs    3999.75\n",
       "3                      Desk    3059.88\n",
       "4                PC monitor    9071.52\n",
       "5            Computer mouse    1359.20\n",
       "6            Pens (50 pcs.)    3374.80\n",
       "7      Black toners (2pcs.)    9108.60"
      ]
     },
     "metadata": {},
     "output_type": "display_data"
    }
   ],
   "source": [
    "Q_D2 = \"SELECT name, price*stock AS inventory FROM products\"\n",
    "\n",
    "module.check_query('D2', Q_D2)"
   ]
  },
  {
   "cell_type": "markdown",
   "metadata": {},
   "source": [
    "### Question D3\n",
    "Return the `product_id` and the largest quantity (as `largest_quantity`) ordered for all products separately (using `GROUP BY`)."
   ]
  },
  {
   "cell_type": "code",
   "execution_count": 23,
   "metadata": {},
   "outputs": [
    {
     "name": "stdout",
     "output_type": "stream",
     "text": [
      "🟢 That's correct!       \n"
     ]
    },
    {
     "data": {
      "text/html": [
       "<div>\n",
       "<style scoped>\n",
       "    .dataframe tbody tr th:only-of-type {\n",
       "        vertical-align: middle;\n",
       "    }\n",
       "\n",
       "    .dataframe tbody tr th {\n",
       "        vertical-align: top;\n",
       "    }\n",
       "\n",
       "    .dataframe thead th {\n",
       "        text-align: right;\n",
       "    }\n",
       "</style>\n",
       "<table border=\"1\" class=\"dataframe\">\n",
       "  <thead>\n",
       "    <tr style=\"text-align: right;\">\n",
       "      <th></th>\n",
       "      <th>product_id</th>\n",
       "      <th>largest_quantity</th>\n",
       "    </tr>\n",
       "  </thead>\n",
       "  <tbody>\n",
       "    <tr>\n",
       "      <th>0</th>\n",
       "      <td>0</td>\n",
       "      <td>4</td>\n",
       "    </tr>\n",
       "    <tr>\n",
       "      <th>1</th>\n",
       "      <td>1</td>\n",
       "      <td>2</td>\n",
       "    </tr>\n",
       "    <tr>\n",
       "      <th>2</th>\n",
       "      <td>2</td>\n",
       "      <td>6</td>\n",
       "    </tr>\n",
       "    <tr>\n",
       "      <th>3</th>\n",
       "      <td>3</td>\n",
       "      <td>6</td>\n",
       "    </tr>\n",
       "    <tr>\n",
       "      <th>4</th>\n",
       "      <td>4</td>\n",
       "      <td>4</td>\n",
       "    </tr>\n",
       "    <tr>\n",
       "      <th>5</th>\n",
       "      <td>5</td>\n",
       "      <td>5</td>\n",
       "    </tr>\n",
       "    <tr>\n",
       "      <th>6</th>\n",
       "      <td>6</td>\n",
       "      <td>4</td>\n",
       "    </tr>\n",
       "    <tr>\n",
       "      <th>7</th>\n",
       "      <td>7</td>\n",
       "      <td>6</td>\n",
       "    </tr>\n",
       "  </tbody>\n",
       "</table>\n",
       "</div>"
      ],
      "text/plain": [
       "   product_id  largest_quantity\n",
       "0           0                 4\n",
       "1           1                 2\n",
       "2           2                 6\n",
       "3           3                 6\n",
       "4           4                 4\n",
       "5           5                 5\n",
       "6           6                 4\n",
       "7           7                 6"
      ]
     },
     "metadata": {},
     "output_type": "display_data"
    }
   ],
   "source": [
    "Q_D3 = \"SELECT product_id, MAX(quantity) AS largest_quantity FROM orders GROUP BY product_id;\"\n",
    "\n",
    "module.check_query('D3', Q_D3)"
   ]
  },
  {
   "cell_type": "markdown",
   "metadata": {},
   "source": [
    "### Question D4\n",
    "Return the `product_id` and the number of different customers (as `distinct_customers`) for all products separately (using `DISTINCT()`), only returning products with two or more distinct customers."
   ]
  },
  {
   "cell_type": "code",
   "execution_count": 24,
   "metadata": {},
   "outputs": [
    {
     "name": "stdout",
     "output_type": "stream",
     "text": [
      "🟢 That's correct!       \n"
     ]
    },
    {
     "data": {
      "text/html": [
       "<div>\n",
       "<style scoped>\n",
       "    .dataframe tbody tr th:only-of-type {\n",
       "        vertical-align: middle;\n",
       "    }\n",
       "\n",
       "    .dataframe tbody tr th {\n",
       "        vertical-align: top;\n",
       "    }\n",
       "\n",
       "    .dataframe thead th {\n",
       "        text-align: right;\n",
       "    }\n",
       "</style>\n",
       "<table border=\"1\" class=\"dataframe\">\n",
       "  <thead>\n",
       "    <tr style=\"text-align: right;\">\n",
       "      <th></th>\n",
       "      <th>product_id</th>\n",
       "      <th>distinct_customers</th>\n",
       "    </tr>\n",
       "  </thead>\n",
       "  <tbody>\n",
       "    <tr>\n",
       "      <th>0</th>\n",
       "      <td>0</td>\n",
       "      <td>2</td>\n",
       "    </tr>\n",
       "    <tr>\n",
       "      <th>1</th>\n",
       "      <td>3</td>\n",
       "      <td>4</td>\n",
       "    </tr>\n",
       "    <tr>\n",
       "      <th>2</th>\n",
       "      <td>5</td>\n",
       "      <td>2</td>\n",
       "    </tr>\n",
       "    <tr>\n",
       "      <th>3</th>\n",
       "      <td>6</td>\n",
       "      <td>2</td>\n",
       "    </tr>\n",
       "    <tr>\n",
       "      <th>4</th>\n",
       "      <td>7</td>\n",
       "      <td>4</td>\n",
       "    </tr>\n",
       "  </tbody>\n",
       "</table>\n",
       "</div>"
      ],
      "text/plain": [
       "   product_id  distinct_customers\n",
       "0           0                   2\n",
       "1           3                   4\n",
       "2           5                   2\n",
       "3           6                   2\n",
       "4           7                   4"
      ]
     },
     "metadata": {},
     "output_type": "display_data"
    }
   ],
   "source": [
    "Q_D4 = \"SELECT product_id, COUNT(DISTINCT(customer_id)) AS distinct_customers FROM orders GROUP BY product_id HAVING distinct_customers >= 2;\"\n",
    "\n",
    "module.check_query('D4', Q_D4)"
   ]
  },
  {
   "cell_type": "markdown",
   "metadata": {},
   "source": [
    "[Back to top](#module-3---structured-query-language-sql)\n",
    "<hr>\n",
    "\n",
    "## E. Writing complex (multi-table) queries\n",
    "To enable the full extend of the capabilities of the SQL language, the `JOIN` operator will be introduced. <br>\n",
    "`JOIN` allows you to query data from multiple tables, which enables you to write complex multi-table queries. <br>\n",
    "Within this module you will be asked to use both the *basic* and *calculation* operators combined with `JOIN`.\n",
    "\n",
    "Besides the `JOIN` operator, it is also possible to include other information using *sub-queries*. <br>\n",
    "Sub-queries allow you to use the results of a sub-query in a conditional statement for another query. <br>\n",
    "\n",
    "\n",
    "As an example, you can use the query below to retrieve all information of customers that placed at least one order with a quantity larger than 3.\n",
    "\n",
    "```sql\n",
    "SELECT * \n",
    "FROM customers \n",
    "WHERE customers.id IN (\n",
    "    SELECT customer_id \n",
    "    FROM orders \n",
    "    WHERE quantity > 3\n",
    ");\n",
    "```\n",
    "\n",
    "The queries you have to write will be formulated as requests from different departments. <br>\n",
    "If you will be working with databases in the future, you will be faced with such query requests."
   ]
  },
  {
   "cell_type": "markdown",
   "metadata": {},
   "source": [
    "### Question E1\n",
    "Sales wants to analyse the number of products that are ordered 3 or more times, retrieve only the product names and the number of orders (as `number_of_orders`)."
   ]
  },
  {
   "cell_type": "code",
   "execution_count": 25,
   "metadata": {},
   "outputs": [
    {
     "name": "stdout",
     "output_type": "stream",
     "text": [
      "🟢 That's correct!       \n"
     ]
    },
    {
     "data": {
      "text/html": [
       "<div>\n",
       "<style scoped>\n",
       "    .dataframe tbody tr th:only-of-type {\n",
       "        vertical-align: middle;\n",
       "    }\n",
       "\n",
       "    .dataframe tbody tr th {\n",
       "        vertical-align: top;\n",
       "    }\n",
       "\n",
       "    .dataframe thead th {\n",
       "        text-align: right;\n",
       "    }\n",
       "</style>\n",
       "<table border=\"1\" class=\"dataframe\">\n",
       "  <thead>\n",
       "    <tr style=\"text-align: right;\">\n",
       "      <th></th>\n",
       "      <th>name</th>\n",
       "      <th>number_of_orders</th>\n",
       "    </tr>\n",
       "  </thead>\n",
       "  <tbody>\n",
       "    <tr>\n",
       "      <th>0</th>\n",
       "      <td>Black toners (2pcs.)</td>\n",
       "      <td>4</td>\n",
       "    </tr>\n",
       "    <tr>\n",
       "      <th>1</th>\n",
       "      <td>Computer mouse</td>\n",
       "      <td>3</td>\n",
       "    </tr>\n",
       "    <tr>\n",
       "      <th>2</th>\n",
       "      <td>Copying paper (500 pcs.)</td>\n",
       "      <td>4</td>\n",
       "    </tr>\n",
       "    <tr>\n",
       "      <th>3</th>\n",
       "      <td>Desk</td>\n",
       "      <td>4</td>\n",
       "    </tr>\n",
       "  </tbody>\n",
       "</table>\n",
       "</div>"
      ],
      "text/plain": [
       "                       name  number_of_orders\n",
       "0      Black toners (2pcs.)                 4\n",
       "1            Computer mouse                 3\n",
       "2  Copying paper (500 pcs.)                 4\n",
       "3                      Desk                 4"
      ]
     },
     "metadata": {},
     "output_type": "display_data"
    }
   ],
   "source": [
    "Q_E1 = \"\"\"\n",
    "SELECT products.name, COUNT(orders.id) AS number_of_orders\n",
    "FROM products\n",
    "INNER JOIN orders ON products.id = orders.product_id \n",
    "GROUP BY products.name\n",
    "HAVING number_of_orders >= 3;\n",
    "\"\"\"\n",
    "\n",
    "module.check_query('E1', Q_E1)"
   ]
  },
  {
   "cell_type": "markdown",
   "metadata": {},
   "source": [
    "### Question E2\n",
    "The marketing department asks for all first and last names of customers who ordered a \"Desk\" in the past."
   ]
  },
  {
   "cell_type": "code",
   "execution_count": 26,
   "metadata": {},
   "outputs": [
    {
     "name": "stdout",
     "output_type": "stream",
     "text": [
      "🟢 That's correct!       \n"
     ]
    },
    {
     "data": {
      "text/html": [
       "<div>\n",
       "<style scoped>\n",
       "    .dataframe tbody tr th:only-of-type {\n",
       "        vertical-align: middle;\n",
       "    }\n",
       "\n",
       "    .dataframe tbody tr th {\n",
       "        vertical-align: top;\n",
       "    }\n",
       "\n",
       "    .dataframe thead th {\n",
       "        text-align: right;\n",
       "    }\n",
       "</style>\n",
       "<table border=\"1\" class=\"dataframe\">\n",
       "  <thead>\n",
       "    <tr style=\"text-align: right;\">\n",
       "      <th></th>\n",
       "      <th>first_name</th>\n",
       "      <th>last_name</th>\n",
       "    </tr>\n",
       "  </thead>\n",
       "  <tbody>\n",
       "    <tr>\n",
       "      <th>0</th>\n",
       "      <td>John</td>\n",
       "      <td>Doe</td>\n",
       "    </tr>\n",
       "    <tr>\n",
       "      <th>1</th>\n",
       "      <td>Ashton</td>\n",
       "      <td>Cole</td>\n",
       "    </tr>\n",
       "    <tr>\n",
       "      <th>2</th>\n",
       "      <td>Raylee</td>\n",
       "      <td>Diaz</td>\n",
       "    </tr>\n",
       "    <tr>\n",
       "      <th>3</th>\n",
       "      <td>Cameron</td>\n",
       "      <td>Taylor</td>\n",
       "    </tr>\n",
       "  </tbody>\n",
       "</table>\n",
       "</div>"
      ],
      "text/plain": [
       "  first_name last_name\n",
       "0       John       Doe\n",
       "1     Ashton      Cole\n",
       "2     Raylee      Diaz\n",
       "3    Cameron    Taylor"
      ]
     },
     "metadata": {},
     "output_type": "display_data"
    }
   ],
   "source": [
    "Q_E2 = \"\"\"\n",
    "SELECT customers.first_name, customers.last_name\n",
    "FROM customers\n",
    "WHERE customers.id IN (\n",
    "    SELECT orders.customer_id \n",
    "    FROM orders \n",
    "    INNER JOIN products ON products.id = orders.product_id\n",
    "    WHERE products.name = 'Desk'\n",
    ");\n",
    "\"\"\"\n",
    "\n",
    "module.check_query('E2', Q_E2)"
   ]
  },
  {
   "cell_type": "markdown",
   "metadata": {},
   "source": [
    "### Question E3\n",
    "Upper management wants to gain insight in consumer behavior. Calculate the total spend per customer. <br>\n",
    "Display the first and last name together with the total spend (as `total_spend`) in ascending order based on total spend."
   ]
  },
  {
   "cell_type": "code",
   "execution_count": 27,
   "metadata": {},
   "outputs": [
    {
     "name": "stdout",
     "output_type": "stream",
     "text": [
      "🟢 That's correct!       \n"
     ]
    },
    {
     "data": {
      "text/html": [
       "<div>\n",
       "<style scoped>\n",
       "    .dataframe tbody tr th:only-of-type {\n",
       "        vertical-align: middle;\n",
       "    }\n",
       "\n",
       "    .dataframe tbody tr th {\n",
       "        vertical-align: top;\n",
       "    }\n",
       "\n",
       "    .dataframe thead th {\n",
       "        text-align: right;\n",
       "    }\n",
       "</style>\n",
       "<table border=\"1\" class=\"dataframe\">\n",
       "  <thead>\n",
       "    <tr style=\"text-align: right;\">\n",
       "      <th></th>\n",
       "      <th>first_name</th>\n",
       "      <th>last_name</th>\n",
       "      <th>total_spend</th>\n",
       "    </tr>\n",
       "  </thead>\n",
       "  <tbody>\n",
       "    <tr>\n",
       "      <th>0</th>\n",
       "      <td>Axton</td>\n",
       "      <td>Rogers</td>\n",
       "      <td>19.80</td>\n",
       "    </tr>\n",
       "    <tr>\n",
       "      <th>1</th>\n",
       "      <td>Reed</td>\n",
       "      <td>Nixon</td>\n",
       "      <td>33.98</td>\n",
       "    </tr>\n",
       "    <tr>\n",
       "      <th>2</th>\n",
       "      <td>Vicente</td>\n",
       "      <td>Bryant</td>\n",
       "      <td>152.91</td>\n",
       "    </tr>\n",
       "    <tr>\n",
       "      <th>3</th>\n",
       "      <td>Jamie</td>\n",
       "      <td>Dean</td>\n",
       "      <td>239.70</td>\n",
       "    </tr>\n",
       "    <tr>\n",
       "      <th>4</th>\n",
       "      <td>Raylee</td>\n",
       "      <td>Diaz</td>\n",
       "      <td>325.79</td>\n",
       "    </tr>\n",
       "    <tr>\n",
       "      <th>5</th>\n",
       "      <td>Arthur</td>\n",
       "      <td>Holmes</td>\n",
       "      <td>328.80</td>\n",
       "    </tr>\n",
       "    <tr>\n",
       "      <th>6</th>\n",
       "      <td>Ashton</td>\n",
       "      <td>Cole</td>\n",
       "      <td>454.74</td>\n",
       "    </tr>\n",
       "    <tr>\n",
       "      <th>7</th>\n",
       "      <td>Shay</td>\n",
       "      <td>Hyde</td>\n",
       "      <td>835.86</td>\n",
       "    </tr>\n",
       "    <tr>\n",
       "      <th>8</th>\n",
       "      <td>John</td>\n",
       "      <td>Doe</td>\n",
       "      <td>1529.94</td>\n",
       "    </tr>\n",
       "    <tr>\n",
       "      <th>9</th>\n",
       "      <td>Cameron</td>\n",
       "      <td>Taylor</td>\n",
       "      <td>1996.50</td>\n",
       "    </tr>\n",
       "  </tbody>\n",
       "</table>\n",
       "</div>"
      ],
      "text/plain": [
       "  first_name last_name  total_spend\n",
       "0      Axton    Rogers        19.80\n",
       "1       Reed     Nixon        33.98\n",
       "2    Vicente    Bryant       152.91\n",
       "3      Jamie      Dean       239.70\n",
       "4     Raylee      Diaz       325.79\n",
       "5     Arthur    Holmes       328.80\n",
       "6     Ashton      Cole       454.74\n",
       "7       Shay      Hyde       835.86\n",
       "8       John       Doe      1529.94\n",
       "9    Cameron    Taylor      1996.50"
      ]
     },
     "metadata": {},
     "output_type": "display_data"
    }
   ],
   "source": [
    "Q_E3 = \"\"\"\n",
    "SELECT customers.first_name, customers.last_name, SUM(orders.quantity * products.price) AS total_spend\n",
    "FROM customers\n",
    "INNER JOIN orders ON orders.customer_id = customers.id\n",
    "INNER JOIN products ON products.id = orders.product_id\n",
    "GROUP BY customers.id\n",
    "ORDER BY total_spend;\n",
    "\"\"\"\n",
    "\n",
    "module.check_query('E3', Q_E3)"
   ]
  },
  {
   "cell_type": "markdown",
   "metadata": {},
   "source": [
    "### Question E4\n",
    "For our customer loyalty program we want to retrieve a list of first and last names of customers that made at least 2 orders in the past with an average order value above 250 euros."
   ]
  },
  {
   "cell_type": "code",
   "execution_count": 28,
   "metadata": {},
   "outputs": [
    {
     "name": "stdout",
     "output_type": "stream",
     "text": [
      "🟢 That's correct!       \n"
     ]
    },
    {
     "data": {
      "text/html": [
       "<div>\n",
       "<style scoped>\n",
       "    .dataframe tbody tr th:only-of-type {\n",
       "        vertical-align: middle;\n",
       "    }\n",
       "\n",
       "    .dataframe tbody tr th {\n",
       "        vertical-align: top;\n",
       "    }\n",
       "\n",
       "    .dataframe thead th {\n",
       "        text-align: right;\n",
       "    }\n",
       "</style>\n",
       "<table border=\"1\" class=\"dataframe\">\n",
       "  <thead>\n",
       "    <tr style=\"text-align: right;\">\n",
       "      <th></th>\n",
       "      <th>first_name</th>\n",
       "      <th>last_name</th>\n",
       "    </tr>\n",
       "  </thead>\n",
       "  <tbody>\n",
       "    <tr>\n",
       "      <th>0</th>\n",
       "      <td>John</td>\n",
       "      <td>Doe</td>\n",
       "    </tr>\n",
       "    <tr>\n",
       "      <th>1</th>\n",
       "      <td>Shay</td>\n",
       "      <td>Hyde</td>\n",
       "    </tr>\n",
       "    <tr>\n",
       "      <th>2</th>\n",
       "      <td>Cameron</td>\n",
       "      <td>Taylor</td>\n",
       "    </tr>\n",
       "  </tbody>\n",
       "</table>\n",
       "</div>"
      ],
      "text/plain": [
       "  first_name last_name\n",
       "0       John       Doe\n",
       "1       Shay      Hyde\n",
       "2    Cameron    Taylor"
      ]
     },
     "metadata": {},
     "output_type": "display_data"
    }
   ],
   "source": [
    "Q_E4 = \"\"\"\n",
    "SELECT customers.first_name, customers.last_name\n",
    "FROM customers\n",
    "WHERE customers.id IN (\n",
    "    SELECT orders.customer_id\n",
    "    FROM orders\n",
    "    INNER JOIN products ON orders.product_id = products.id\n",
    "    GROUP BY orders.customer_id\n",
    "    HAVING AVG(orders.quantity * products.price) > 250\n",
    ");\n",
    "\"\"\"\n",
    "\n",
    "module.check_query('E4', Q_E4)"
   ]
  },
  {
   "cell_type": "markdown",
   "metadata": {},
   "source": [
    "[Back to top](#module-3---structured-query-language-sql)\n",
    "<hr>\n",
    "\n",
    "## Congratulations!\n",
    "\n",
    "You successfully completed all parts and created all queries that are requested! <br>\n",
    "Through running other queries you are able to validate whether the queries you have written are correct.\n",
    "\n",
    "Feel free to continue to our next module, **Module 4: Machine Learning (ML)**."
   ]
  }
 ],
 "metadata": {
  "kernelspec": {
   "display_name": "Python 3.10.4 ('bootcamp')",
   "language": "python",
   "name": "python3"
  },
  "language_info": {
   "codemirror_mode": {
    "name": "ipython",
    "version": 3
   },
   "file_extension": ".py",
   "mimetype": "text/x-python",
   "name": "python",
   "nbconvert_exporter": "python",
   "pygments_lexer": "ipython3",
   "version": "3.11.5"
  },
  "orig_nbformat": 4,
  "vscode": {
   "interpreter": {
    "hash": "b4079134c0179285e3a55d2e425b94f441ed12cd55a998c83f6f5077fa904635"
   }
  }
 },
 "nbformat": 4,
 "nbformat_minor": 2
}
